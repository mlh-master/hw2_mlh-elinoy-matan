{
 "cells": [
  {
   "cell_type": "markdown",
   "metadata": {},
   "source": [
    "# BM 336546 - HW2: Type 1 Diabetes (also known as juvenile diabetes)\n",
    "T1D is a chronic condition resulting from a lack of insulin in the body. The disease typically presents in early childhood or adolescence. Up to 0.33% of the global population suffers from T1D, making it a world-wide and wide-spread issue. There is no cure and the current treatment is to control blood glucose levels through glucose monitoring, insulin injections, diet, and lifestyle modifications to prevent complications.\n",
    "The exact cause of T1D is a mystery; however, there are few possible causes such as genetics, autoimmune dysfunction or environmental factors such as some kind of viruses.\n",
    "Credit: https://www.mayoclinic.org/diseases-conditions/type-1-diabetes/symptoms-causes/syc-20353011\n"
   ]
  },
  {
   "cell_type": "markdown",
   "metadata": {},
   "source": [
    "# Assignment\n",
    "This assignment has no prebuilt notebook. You are required to build and present an appropriate notebook to show your experiments and results. Please provide all answers within the notebook (in a markdown cell), labeled carefully based on the question number. In this assignment, you will do the following:\n",
    "Explore the data provided.\n",
    "Implement linear and non-linear classifiers.\n",
    "Model optimization with k-fold cross validation\n",
    "Evaluate your model performances with appropriate metrics.\n",
    "Present a 2d visualization of multi-featured data.\n",
    "Use feature selection tools.\n",
    "Use the provided HW2 environment and any additional packages you need for this assignment."
   ]
  },
  {
   "cell_type": "markdown",
   "metadata": {},
   "source": [
    "# Theory Questions"
   ]
  },
  {
   "cell_type": "markdown",
   "metadata": {},
   "source": [
    "1) In most cases model performances is more importent then model accuracy. when our dataset is imbalance (A very common case, and also the case for the T1D data set) the accurcy measure can give us misleading result. for example when our dataset contains mainly poistive cases. a 'naive' model (wich prediect alwayes yes) can get reltivey good accurcay result even though it is useless.\n",
    "  "
   ]
  },
  {
   "cell_type": "markdown",
   "metadata": {},
   "source": [
    "2) training a model with less feature has some significant benefits: first 1D, 2D and 3D data can be Visualize while data with more dimension can't. secondly more feature demand more sample to avoid overfitting. in addition with large data set computing time becomes importent factor. The downside is possible worse accurcy and performances. more features is more data, some features can have unpredicted correltion with the label, and so can improve the model performances significantly."
   ]
  },
  {
   "cell_type": "markdown",
   "metadata": {},
   "source": [
    "3)...."
   ]
  },
  {
   "cell_type": "markdown",
   "metadata": {},
   "source": [
    "4).."
   ]
  },
  {
   "cell_type": "markdown",
   "metadata": {},
   "source": [
    "# Coding Assignment"
   ]
  },
  {
   "cell_type": "markdown",
   "metadata": {},
   "source": [
    "        "
   ]
  },
  {
   "cell_type": "markdown",
   "metadata": {},
   "source": [
    "# sec 1\n",
    "first we start by loading the data "
   ]
  },
  {
   "cell_type": "code",
   "execution_count": 2,
   "metadata": {},
   "outputs": [
    {
     "data": {
      "text/html": [
       "<div>\n",
       "<style scoped>\n",
       "    .dataframe tbody tr th:only-of-type {\n",
       "        vertical-align: middle;\n",
       "    }\n",
       "\n",
       "    .dataframe tbody tr th {\n",
       "        vertical-align: top;\n",
       "    }\n",
       "\n",
       "    .dataframe thead th {\n",
       "        text-align: right;\n",
       "    }\n",
       "</style>\n",
       "<table border=\"1\" class=\"dataframe\">\n",
       "  <thead>\n",
       "    <tr style=\"text-align: right;\">\n",
       "      <th></th>\n",
       "      <th>Age</th>\n",
       "      <th>Gender</th>\n",
       "      <th>Increased Urination</th>\n",
       "      <th>Increased Thirst</th>\n",
       "      <th>Sudden Weight Loss</th>\n",
       "      <th>Weakness</th>\n",
       "      <th>Increased Hunger</th>\n",
       "      <th>Genital Thrush</th>\n",
       "      <th>Visual Blurring</th>\n",
       "      <th>Itching</th>\n",
       "      <th>Irritability</th>\n",
       "      <th>Delayed Healing</th>\n",
       "      <th>Partial Paresis</th>\n",
       "      <th>Muscle Stiffness</th>\n",
       "      <th>Hair Loss</th>\n",
       "      <th>Obesity</th>\n",
       "      <th>Diagnosis</th>\n",
       "      <th>Family History</th>\n",
       "    </tr>\n",
       "  </thead>\n",
       "  <tbody>\n",
       "    <tr>\n",
       "      <th>0</th>\n",
       "      <td>45</td>\n",
       "      <td>Male</td>\n",
       "      <td>No</td>\n",
       "      <td>No</td>\n",
       "      <td>No</td>\n",
       "      <td>Yes</td>\n",
       "      <td>No</td>\n",
       "      <td>No</td>\n",
       "      <td>No</td>\n",
       "      <td>Yes</td>\n",
       "      <td>No</td>\n",
       "      <td>No</td>\n",
       "      <td>Yes</td>\n",
       "      <td>No</td>\n",
       "      <td>Yes</td>\n",
       "      <td>No</td>\n",
       "      <td>Negative</td>\n",
       "      <td>0</td>\n",
       "    </tr>\n",
       "    <tr>\n",
       "      <th>1</th>\n",
       "      <td>42</td>\n",
       "      <td>Male</td>\n",
       "      <td>No</td>\n",
       "      <td>No</td>\n",
       "      <td>No</td>\n",
       "      <td>No</td>\n",
       "      <td>No</td>\n",
       "      <td>No</td>\n",
       "      <td>No</td>\n",
       "      <td>No</td>\n",
       "      <td>No</td>\n",
       "      <td>No</td>\n",
       "      <td>No</td>\n",
       "      <td>No</td>\n",
       "      <td>Yes</td>\n",
       "      <td>No</td>\n",
       "      <td>Negative</td>\n",
       "      <td>0</td>\n",
       "    </tr>\n",
       "    <tr>\n",
       "      <th>2</th>\n",
       "      <td>45</td>\n",
       "      <td>Male</td>\n",
       "      <td>Yes</td>\n",
       "      <td>Yes</td>\n",
       "      <td>No</td>\n",
       "      <td>Yes</td>\n",
       "      <td>No</td>\n",
       "      <td>Yes</td>\n",
       "      <td>No</td>\n",
       "      <td>No</td>\n",
       "      <td>No</td>\n",
       "      <td>Yes</td>\n",
       "      <td>No</td>\n",
       "      <td>No</td>\n",
       "      <td>Yes</td>\n",
       "      <td>No</td>\n",
       "      <td>Positive</td>\n",
       "      <td>0</td>\n",
       "    </tr>\n",
       "    <tr>\n",
       "      <th>3</th>\n",
       "      <td>59</td>\n",
       "      <td>Female</td>\n",
       "      <td>No</td>\n",
       "      <td>No</td>\n",
       "      <td>No</td>\n",
       "      <td>No</td>\n",
       "      <td>No</td>\n",
       "      <td>No</td>\n",
       "      <td>No</td>\n",
       "      <td>No</td>\n",
       "      <td>No</td>\n",
       "      <td>No</td>\n",
       "      <td>No</td>\n",
       "      <td>No</td>\n",
       "      <td>No</td>\n",
       "      <td>No</td>\n",
       "      <td>Positive</td>\n",
       "      <td>1</td>\n",
       "    </tr>\n",
       "    <tr>\n",
       "      <th>4</th>\n",
       "      <td>40</td>\n",
       "      <td>Female</td>\n",
       "      <td>Yes</td>\n",
       "      <td>Yes</td>\n",
       "      <td>Yes</td>\n",
       "      <td>Yes</td>\n",
       "      <td>No</td>\n",
       "      <td>No</td>\n",
       "      <td>Yes</td>\n",
       "      <td>Yes</td>\n",
       "      <td>No</td>\n",
       "      <td>No</td>\n",
       "      <td>Yes</td>\n",
       "      <td>Yes</td>\n",
       "      <td>No</td>\n",
       "      <td>No</td>\n",
       "      <td>Positive</td>\n",
       "      <td>0</td>\n",
       "    </tr>\n",
       "  </tbody>\n",
       "</table>\n",
       "</div>"
      ],
      "text/plain": [
       "   Age  Gender Increased Urination Increased Thirst Sudden Weight Loss  \\\n",
       "0   45    Male                  No               No                 No   \n",
       "1   42    Male                  No               No                 No   \n",
       "2   45    Male                 Yes              Yes                 No   \n",
       "3   59  Female                  No               No                 No   \n",
       "4   40  Female                 Yes              Yes                Yes   \n",
       "\n",
       "  Weakness Increased Hunger Genital Thrush Visual Blurring Itching  \\\n",
       "0      Yes               No             No              No     Yes   \n",
       "1       No               No             No              No      No   \n",
       "2      Yes               No            Yes              No      No   \n",
       "3       No               No             No              No      No   \n",
       "4      Yes               No             No             Yes     Yes   \n",
       "\n",
       "  Irritability Delayed Healing Partial Paresis Muscle Stiffness Hair Loss  \\\n",
       "0           No              No             Yes               No       Yes   \n",
       "1           No              No              No               No       Yes   \n",
       "2           No             Yes              No               No       Yes   \n",
       "3           No              No              No               No        No   \n",
       "4           No              No             Yes              Yes        No   \n",
       "\n",
       "  Obesity Diagnosis  Family History  \n",
       "0      No  Negative               0  \n",
       "1      No  Negative               0  \n",
       "2      No  Positive               0  \n",
       "3      No  Positive               1  \n",
       "4      No  Positive               0  "
      ]
     },
     "execution_count": 2,
     "metadata": {},
     "output_type": "execute_result"
    }
   ],
   "source": [
    "import pandas as pd \n",
    "import numpy as np\n",
    "from pathlib import Path\n",
    "import matplotlib.pyplot as plt\n",
    "\n",
    "# sec 1 - load data \n",
    "file = Path.cwd().joinpath('HW2_data.csv')\n",
    "T1D_dataset = pd.read_csv(file) \n",
    "T1D_dataset.head() "
   ]
  },
  {
   "cell_type": "markdown",
   "metadata": {
    "jupyter": {
     "outputs_hidden": true
    }
   },
   "source": [
    "Secondly we will start with basic analysis and processing of the Data\n",
    "<br>\n",
    "Given the binary nature of the Data and the low number of nan we decided to drop every row with 'nan' in one of the features\n"
   ]
  },
  {
   "cell_type": "code",
   "execution_count": 4,
   "metadata": {},
   "outputs": [
    {
     "data": {
      "text/plain": [
       "42"
      ]
     },
     "execution_count": 4,
     "metadata": {},
     "output_type": "execute_result"
    }
   ],
   "source": [
    "# sec 1 - Data preprocessing  \n",
    "T1D_dataset_clean = T1D_dataset.dropna()\n",
    "# print(len(T1D_dataset_clean.index))\n",
    "# print(len(T1D_dataset.index))\n",
    "lost_sampels = len(T1D_dataset.index)-len(T1D_dataset_clean.index)\n",
    "lost_sampels\n",
    "# number of lost sampel is relatively low"
   ]
  },
  {
   "cell_type": "markdown",
   "metadata": {},
   "source": [
    "for this section we decided not to do anymore preprocessing. in sec 3 and 4, there is further processing of the data to support the visualizeation and training stages. All this is done after train-test split"
   ]
  },
  {
   "cell_type": "markdown",
   "metadata": {},
   "source": [
    "# sec 2\n",
    "In this section we split our data into train and test "
   ]
  },
  {
   "cell_type": "code",
   "execution_count": 5,
   "metadata": {},
   "outputs": [
    {
     "data": {
      "text/html": [
       "<div>\n",
       "<style scoped>\n",
       "    .dataframe tbody tr th:only-of-type {\n",
       "        vertical-align: middle;\n",
       "    }\n",
       "\n",
       "    .dataframe tbody tr th {\n",
       "        vertical-align: top;\n",
       "    }\n",
       "\n",
       "    .dataframe thead th {\n",
       "        text-align: right;\n",
       "    }\n",
       "</style>\n",
       "<table border=\"1\" class=\"dataframe\">\n",
       "  <thead>\n",
       "    <tr style=\"text-align: right;\">\n",
       "      <th></th>\n",
       "      <th>Age</th>\n",
       "      <th>Gender</th>\n",
       "      <th>Increased Urination</th>\n",
       "      <th>Increased Thirst</th>\n",
       "      <th>Sudden Weight Loss</th>\n",
       "      <th>Weakness</th>\n",
       "      <th>Increased Hunger</th>\n",
       "      <th>Genital Thrush</th>\n",
       "      <th>Visual Blurring</th>\n",
       "      <th>Itching</th>\n",
       "      <th>Irritability</th>\n",
       "      <th>Delayed Healing</th>\n",
       "      <th>Partial Paresis</th>\n",
       "      <th>Muscle Stiffness</th>\n",
       "      <th>Hair Loss</th>\n",
       "      <th>Obesity</th>\n",
       "      <th>Family History</th>\n",
       "    </tr>\n",
       "  </thead>\n",
       "  <tbody>\n",
       "    <tr>\n",
       "      <th>406</th>\n",
       "      <td>40</td>\n",
       "      <td>Female</td>\n",
       "      <td>Yes</td>\n",
       "      <td>Yes</td>\n",
       "      <td>Yes</td>\n",
       "      <td>Yes</td>\n",
       "      <td>No</td>\n",
       "      <td>No</td>\n",
       "      <td>Yes</td>\n",
       "      <td>No</td>\n",
       "      <td>No</td>\n",
       "      <td>Yes</td>\n",
       "      <td>Yes</td>\n",
       "      <td>Yes</td>\n",
       "      <td>No</td>\n",
       "      <td>No</td>\n",
       "      <td>0</td>\n",
       "    </tr>\n",
       "    <tr>\n",
       "      <th>199</th>\n",
       "      <td>68</td>\n",
       "      <td>Male</td>\n",
       "      <td>Yes</td>\n",
       "      <td>Yes</td>\n",
       "      <td>No</td>\n",
       "      <td>No</td>\n",
       "      <td>Yes</td>\n",
       "      <td>No</td>\n",
       "      <td>Yes</td>\n",
       "      <td>Yes</td>\n",
       "      <td>Yes</td>\n",
       "      <td>No</td>\n",
       "      <td>Yes</td>\n",
       "      <td>No</td>\n",
       "      <td>No</td>\n",
       "      <td>No</td>\n",
       "      <td>1</td>\n",
       "    </tr>\n",
       "    <tr>\n",
       "      <th>85</th>\n",
       "      <td>38</td>\n",
       "      <td>Male</td>\n",
       "      <td>Yes</td>\n",
       "      <td>Yes</td>\n",
       "      <td>No</td>\n",
       "      <td>No</td>\n",
       "      <td>Yes</td>\n",
       "      <td>Yes</td>\n",
       "      <td>No</td>\n",
       "      <td>Yes</td>\n",
       "      <td>No</td>\n",
       "      <td>Yes</td>\n",
       "      <td>No</td>\n",
       "      <td>Yes</td>\n",
       "      <td>No</td>\n",
       "      <td>No</td>\n",
       "      <td>0</td>\n",
       "    </tr>\n",
       "    <tr>\n",
       "      <th>312</th>\n",
       "      <td>40</td>\n",
       "      <td>Male</td>\n",
       "      <td>Yes</td>\n",
       "      <td>No</td>\n",
       "      <td>No</td>\n",
       "      <td>No</td>\n",
       "      <td>No</td>\n",
       "      <td>Yes</td>\n",
       "      <td>No</td>\n",
       "      <td>Yes</td>\n",
       "      <td>No</td>\n",
       "      <td>Yes</td>\n",
       "      <td>No</td>\n",
       "      <td>No</td>\n",
       "      <td>Yes</td>\n",
       "      <td>No</td>\n",
       "      <td>0</td>\n",
       "    </tr>\n",
       "    <tr>\n",
       "      <th>166</th>\n",
       "      <td>59</td>\n",
       "      <td>Female</td>\n",
       "      <td>No</td>\n",
       "      <td>No</td>\n",
       "      <td>No</td>\n",
       "      <td>Yes</td>\n",
       "      <td>No</td>\n",
       "      <td>No</td>\n",
       "      <td>Yes</td>\n",
       "      <td>Yes</td>\n",
       "      <td>No</td>\n",
       "      <td>Yes</td>\n",
       "      <td>No</td>\n",
       "      <td>Yes</td>\n",
       "      <td>Yes</td>\n",
       "      <td>Yes</td>\n",
       "      <td>1</td>\n",
       "    </tr>\n",
       "    <tr>\n",
       "      <th>...</th>\n",
       "      <td>...</td>\n",
       "      <td>...</td>\n",
       "      <td>...</td>\n",
       "      <td>...</td>\n",
       "      <td>...</td>\n",
       "      <td>...</td>\n",
       "      <td>...</td>\n",
       "      <td>...</td>\n",
       "      <td>...</td>\n",
       "      <td>...</td>\n",
       "      <td>...</td>\n",
       "      <td>...</td>\n",
       "      <td>...</td>\n",
       "      <td>...</td>\n",
       "      <td>...</td>\n",
       "      <td>...</td>\n",
       "      <td>...</td>\n",
       "    </tr>\n",
       "    <tr>\n",
       "      <th>284</th>\n",
       "      <td>57</td>\n",
       "      <td>Male</td>\n",
       "      <td>Yes</td>\n",
       "      <td>Yes</td>\n",
       "      <td>Yes</td>\n",
       "      <td>Yes</td>\n",
       "      <td>Yes</td>\n",
       "      <td>No</td>\n",
       "      <td>Yes</td>\n",
       "      <td>No</td>\n",
       "      <td>No</td>\n",
       "      <td>No</td>\n",
       "      <td>Yes</td>\n",
       "      <td>No</td>\n",
       "      <td>No</td>\n",
       "      <td>No</td>\n",
       "      <td>0</td>\n",
       "    </tr>\n",
       "    <tr>\n",
       "      <th>270</th>\n",
       "      <td>38</td>\n",
       "      <td>Male</td>\n",
       "      <td>No</td>\n",
       "      <td>No</td>\n",
       "      <td>No</td>\n",
       "      <td>No</td>\n",
       "      <td>No</td>\n",
       "      <td>No</td>\n",
       "      <td>No</td>\n",
       "      <td>No</td>\n",
       "      <td>No</td>\n",
       "      <td>No</td>\n",
       "      <td>No</td>\n",
       "      <td>No</td>\n",
       "      <td>No</td>\n",
       "      <td>No</td>\n",
       "      <td>0</td>\n",
       "    </tr>\n",
       "    <tr>\n",
       "      <th>190</th>\n",
       "      <td>60</td>\n",
       "      <td>Female</td>\n",
       "      <td>Yes</td>\n",
       "      <td>Yes</td>\n",
       "      <td>Yes</td>\n",
       "      <td>Yes</td>\n",
       "      <td>Yes</td>\n",
       "      <td>No</td>\n",
       "      <td>Yes</td>\n",
       "      <td>Yes</td>\n",
       "      <td>No</td>\n",
       "      <td>No</td>\n",
       "      <td>Yes</td>\n",
       "      <td>Yes</td>\n",
       "      <td>No</td>\n",
       "      <td>No</td>\n",
       "      <td>0</td>\n",
       "    </tr>\n",
       "    <tr>\n",
       "      <th>223</th>\n",
       "      <td>38</td>\n",
       "      <td>Male</td>\n",
       "      <td>Yes</td>\n",
       "      <td>No</td>\n",
       "      <td>Yes</td>\n",
       "      <td>Yes</td>\n",
       "      <td>No</td>\n",
       "      <td>No</td>\n",
       "      <td>No</td>\n",
       "      <td>No</td>\n",
       "      <td>No</td>\n",
       "      <td>No</td>\n",
       "      <td>No</td>\n",
       "      <td>No</td>\n",
       "      <td>No</td>\n",
       "      <td>No</td>\n",
       "      <td>1</td>\n",
       "    </tr>\n",
       "    <tr>\n",
       "      <th>402</th>\n",
       "      <td>65</td>\n",
       "      <td>Female</td>\n",
       "      <td>No</td>\n",
       "      <td>No</td>\n",
       "      <td>No</td>\n",
       "      <td>No</td>\n",
       "      <td>No</td>\n",
       "      <td>Yes</td>\n",
       "      <td>No</td>\n",
       "      <td>No</td>\n",
       "      <td>No</td>\n",
       "      <td>No</td>\n",
       "      <td>No</td>\n",
       "      <td>No</td>\n",
       "      <td>No</td>\n",
       "      <td>No</td>\n",
       "      <td>0</td>\n",
       "    </tr>\n",
       "  </tbody>\n",
       "</table>\n",
       "<p>418 rows × 17 columns</p>\n",
       "</div>"
      ],
      "text/plain": [
       "     Age  Gender Increased Urination Increased Thirst Sudden Weight Loss  \\\n",
       "406   40  Female                 Yes              Yes                Yes   \n",
       "199   68    Male                 Yes              Yes                 No   \n",
       "85    38    Male                 Yes              Yes                 No   \n",
       "312   40    Male                 Yes               No                 No   \n",
       "166   59  Female                  No               No                 No   \n",
       "..   ...     ...                 ...              ...                ...   \n",
       "284   57    Male                 Yes              Yes                Yes   \n",
       "270   38    Male                  No               No                 No   \n",
       "190   60  Female                 Yes              Yes                Yes   \n",
       "223   38    Male                 Yes               No                Yes   \n",
       "402   65  Female                  No               No                 No   \n",
       "\n",
       "    Weakness Increased Hunger Genital Thrush Visual Blurring Itching  \\\n",
       "406      Yes               No             No             Yes      No   \n",
       "199       No              Yes             No             Yes     Yes   \n",
       "85        No              Yes            Yes              No     Yes   \n",
       "312       No               No            Yes              No     Yes   \n",
       "166      Yes               No             No             Yes     Yes   \n",
       "..       ...              ...            ...             ...     ...   \n",
       "284      Yes              Yes             No             Yes      No   \n",
       "270       No               No             No              No      No   \n",
       "190      Yes              Yes             No             Yes     Yes   \n",
       "223      Yes               No             No              No      No   \n",
       "402       No               No            Yes              No      No   \n",
       "\n",
       "    Irritability Delayed Healing Partial Paresis Muscle Stiffness Hair Loss  \\\n",
       "406           No             Yes             Yes              Yes        No   \n",
       "199          Yes              No             Yes               No        No   \n",
       "85            No             Yes              No              Yes        No   \n",
       "312           No             Yes              No               No       Yes   \n",
       "166           No             Yes              No              Yes       Yes   \n",
       "..           ...             ...             ...              ...       ...   \n",
       "284           No              No             Yes               No        No   \n",
       "270           No              No              No               No        No   \n",
       "190           No              No             Yes              Yes        No   \n",
       "223           No              No              No               No        No   \n",
       "402           No              No              No               No        No   \n",
       "\n",
       "    Obesity  Family History  \n",
       "406      No               0  \n",
       "199      No               1  \n",
       "85       No               0  \n",
       "312      No               0  \n",
       "166     Yes               1  \n",
       "..      ...             ...  \n",
       "284      No               0  \n",
       "270      No               0  \n",
       "190      No               0  \n",
       "223      No               1  \n",
       "402      No               0  \n",
       "\n",
       "[418 rows x 17 columns]"
      ]
     },
     "execution_count": 5,
     "metadata": {},
     "output_type": "execute_result"
    }
   ],
   "source": [
    "from sklearn import metrics\n",
    "from sklearn.model_selection import train_test_split\n",
    "from sklearn.linear_model import LogisticRegression\n",
    "# Sec 2\n",
    "\n",
    "Diagnosis = T1D_dataset_clean.loc[:,'Diagnosis']\n",
    "T1D_dataset_clean_no_label = T1D_dataset_clean.drop(['Diagnosis'],axis=1)\n",
    "T1D_dataset_clean_no_label.head()\n",
    "X_train, X_test, Y_train, Y_test = train_test_split(T1D_dataset_clean_no_label, np.ravel(Diagnosis), test_size=0.2,\n",
    "                                                        random_state=0, stratify=np.ravel(Diagnosis))\n",
    "X_train"
   ]
  },
  {
   "cell_type": "markdown",
   "metadata": {},
   "source": [
    "# sec 3"
   ]
  },
  {
   "cell_type": "markdown",
   "metadata": {},
   "source": [
    "a) analysis of the distribution of the features between test and train\n",
    "bin_to_num transform our Binary data into 1/0 numeric data wich support test/train analysis implementaion"
   ]
  },
  {
   "cell_type": "code",
   "execution_count": 6,
   "metadata": {},
   "outputs": [
    {
     "data": {
      "text/html": [
       "<div>\n",
       "<style scoped>\n",
       "    .dataframe tbody tr th:only-of-type {\n",
       "        vertical-align: middle;\n",
       "    }\n",
       "\n",
       "    .dataframe tbody tr th {\n",
       "        vertical-align: top;\n",
       "    }\n",
       "\n",
       "    .dataframe thead th {\n",
       "        text-align: right;\n",
       "    }\n",
       "</style>\n",
       "<table border=\"1\" class=\"dataframe\">\n",
       "  <thead>\n",
       "    <tr style=\"text-align: right;\">\n",
       "      <th></th>\n",
       "      <th>train %</th>\n",
       "      <th>test %</th>\n",
       "    </tr>\n",
       "  </thead>\n",
       "  <tbody>\n",
       "    <tr>\n",
       "      <th>Gender</th>\n",
       "      <td>63</td>\n",
       "      <td>62</td>\n",
       "    </tr>\n",
       "    <tr>\n",
       "      <th>Increased Urination</th>\n",
       "      <td>50</td>\n",
       "      <td>49</td>\n",
       "    </tr>\n",
       "    <tr>\n",
       "      <th>Increased Thirst</th>\n",
       "      <td>45</td>\n",
       "      <td>41</td>\n",
       "    </tr>\n",
       "    <tr>\n",
       "      <th>Sudden Weight Loss</th>\n",
       "      <td>41</td>\n",
       "      <td>44</td>\n",
       "    </tr>\n",
       "    <tr>\n",
       "      <th>Weakness</th>\n",
       "      <td>58</td>\n",
       "      <td>59</td>\n",
       "    </tr>\n",
       "    <tr>\n",
       "      <th>Increased Hunger</th>\n",
       "      <td>46</td>\n",
       "      <td>45</td>\n",
       "    </tr>\n",
       "    <tr>\n",
       "      <th>Genital Thrush</th>\n",
       "      <td>23</td>\n",
       "      <td>20</td>\n",
       "    </tr>\n",
       "    <tr>\n",
       "      <th>Visual Blurring</th>\n",
       "      <td>45</td>\n",
       "      <td>43</td>\n",
       "    </tr>\n",
       "    <tr>\n",
       "      <th>Itching</th>\n",
       "      <td>49</td>\n",
       "      <td>46</td>\n",
       "    </tr>\n",
       "    <tr>\n",
       "      <th>Irritability</th>\n",
       "      <td>25</td>\n",
       "      <td>21</td>\n",
       "    </tr>\n",
       "    <tr>\n",
       "      <th>Delayed Healing</th>\n",
       "      <td>47</td>\n",
       "      <td>40</td>\n",
       "    </tr>\n",
       "    <tr>\n",
       "      <th>Partial Paresis</th>\n",
       "      <td>43</td>\n",
       "      <td>44</td>\n",
       "    </tr>\n",
       "    <tr>\n",
       "      <th>Muscle Stiffness</th>\n",
       "      <td>37</td>\n",
       "      <td>40</td>\n",
       "    </tr>\n",
       "    <tr>\n",
       "      <th>Hair Loss</th>\n",
       "      <td>35</td>\n",
       "      <td>34</td>\n",
       "    </tr>\n",
       "    <tr>\n",
       "      <th>Obesity</th>\n",
       "      <td>16</td>\n",
       "      <td>21</td>\n",
       "    </tr>\n",
       "    <tr>\n",
       "      <th>Family History</th>\n",
       "      <td>49</td>\n",
       "      <td>57</td>\n",
       "    </tr>\n",
       "  </tbody>\n",
       "</table>\n",
       "</div>"
      ],
      "text/plain": [
       "                     train %  test %\n",
       "Gender                    63      62\n",
       "Increased Urination       50      49\n",
       "Increased Thirst          45      41\n",
       "Sudden Weight Loss        41      44\n",
       "Weakness                  58      59\n",
       "Increased Hunger          46      45\n",
       "Genital Thrush            23      20\n",
       "Visual Blurring           45      43\n",
       "Itching                   49      46\n",
       "Irritability              25      21\n",
       "Delayed Healing           47      40\n",
       "Partial Paresis           43      44\n",
       "Muscle Stiffness          37      40\n",
       "Hair Loss                 35      34\n",
       "Obesity                   16      21\n",
       "Family History            49      57"
      ]
     },
     "execution_count": 6,
     "metadata": {},
     "output_type": "execute_result"
    }
   ],
   "source": [
    "from DataExplorer import bin_to_num\n",
    "from DataExplorer import test_train_comparison\n",
    "\n",
    "comparison_data = test_train_comparison(bin_to_num(X_train), bin_to_num(X_test))\n",
    "comparison_data"
   ]
  },
  {
   "cell_type": "markdown",
   "metadata": {},
   "source": [
    "a.1 ....."
   ]
  },
  {
   "cell_type": "markdown",
   "metadata": {},
   "source": [
    "a.2 ....."
   ]
  },
  {
   "cell_type": "markdown",
   "metadata": {},
   "source": [
    "b. relationship between feature and label"
   ]
  },
  {
   "cell_type": "code",
   "execution_count": 7,
   "metadata": {},
   "outputs": [
    {
     "data": {
      "image/png": "[encoded data removed]",
      "text/plain": [
       "<Figure size 432x288 with 1 Axes>"
      ]
     },
     "metadata": {
      "needs_background": "light"
     },
     "output_type": "display_data"
    },
    {
     "data": {
      "image/png": "[encoded data removed]",
      "text/plain": [
       "<Figure size 432x288 with 1 Axes>"
      ]
     },
     "metadata": {
      "needs_background": "light"
     },
     "output_type": "display_data"
    },
    {
     "data": {
      "image/png": "[encoded data removed]",
      "text/plain": [
       "<Figure size 432x288 with 1 Axes>"
      ]
     },
     "metadata": {
      "needs_background": "light"
     },
     "output_type": "display_data"
    },
    {
     "data": {
      "image/png": "[encoded data removed]",
      "text/plain": [
       "<Figure size 432x288 with 1 Axes>"
      ]
     },
     "metadata": {
      "needs_background": "light"
     },
     "output_type": "display_data"
    },
    {
     "data": {
      "image/png": "[encoded data removed]",
      "text/plain": [
       "<Figure size 432x288 with 1 Axes>"
      ]
     },
     "metadata": {
      "needs_background": "light"
     },
     "output_type": "display_data"
    },
    {
     "data": {
      "image/png": "[encoded data removed]",
      "text/plain": [
       "<Figure size 432x288 with 1 Axes>"
      ]
     },
     "metadata": {
      "needs_background": "light"
     },
     "output_type": "display_data"
    },
    {
     "data": {
      "image/png": "[encoded data removed]",
      "text/plain": [
       "<Figure size 432x288 with 1 Axes>"
      ]
     },
     "metadata": {
      "needs_background": "light"
     },
     "output_type": "display_data"
    },
    {
     "data": {
      "image/png": "[encoded data removed]",
      "text/plain": [
       "<Figure size 432x288 with 1 Axes>"
      ]
     },
     "metadata": {
      "needs_background": "light"
     },
     "output_type": "display_data"
    },
    {
     "data": {
      "image/png": "[encoded data removed]",
      "text/plain": [
       "<Figure size 432x288 with 1 Axes>"
      ]
     },
     "metadata": {
      "needs_background": "light"
     },
     "output_type": "display_data"
    },
    {
     "data": {
      "image/png": "[encoded data removed]",
      "text/plain": [
       "<Figure size 432x288 with 1 Axes>"
      ]
     },
     "metadata": {
      "needs_background": "light"
     },
     "output_type": "display_data"
    },
    {
     "data": {
      "image/png": "[encoded data removed]",
      "text/plain": [
       "<Figure size 432x288 with 1 Axes>"
      ]
     },
     "metadata": {
      "needs_background": "light"
     },
     "output_type": "display_data"
    },
    {
     "data": {
      "image/png": "[encoded data removed]",
      "text/plain": [
       "<Figure size 432x288 with 1 Axes>"
      ]
     },
     "metadata": {
      "needs_background": "light"
     },
     "output_type": "display_data"
    },
    {
     "data": {
      "image/png": "[encoded data removed]",
      "text/plain": [
       "<Figure size 432x288 with 1 Axes>"
      ]
     },
     "metadata": {
      "needs_background": "light"
     },
     "output_type": "display_data"
    },
    {
     "data": {
      "image/png": "[encoded data removed]",
      "text/plain": [
       "<Figure size 432x288 with 1 Axes>"
      ]
     },
     "metadata": {
      "needs_background": "light"
     },
     "output_type": "display_data"
    },
    {
     "data": {
      "image/png": "[encoded data removed]",
      "text/plain": [
       "<Figure size 432x288 with 1 Axes>"
      ]
     },
     "metadata": {
      "needs_background": "light"
     },
     "output_type": "display_data"
    },
    {
     "data": {
      "image/png": "[encoded data removed]",
      "text/plain": [
       "<Figure size 432x288 with 1 Axes>"
      ]
     },
     "metadata": {
      "needs_background": "light"
     },
     "output_type": "display_data"
    },
    {
     "data": {
      "image/png": "[encoded data removed]",
      "text/plain": [
       "<Figure size 432x288 with 1 Axes>"
      ]
     },
     "metadata": {
      "needs_background": "light"
     },
     "output_type": "display_data"
    }
   ],
   "source": [
    "from DataExplorer import data_explorer\n",
    "data_explorer(T1D_dataset_clean)"
   ]
  },
  {
   "cell_type": "markdown",
   "metadata": {},
   "source": [
    "c. additional plots"
   ]
  },
  {
   "cell_type": "code",
   "execution_count": 6,
   "metadata": {},
   "outputs": [],
   "source": [
    "import seaborn as sns\n",
    "#sns.pairplot(T1D_dataset_clean_bin.loc[:,'Delayed Healing':'Diagnosis'], hue=\"Diagnosis\");"
   ]
  },
  {
   "cell_type": "markdown",
   "metadata": {},
   "source": [
    "d..."
   ]
  },
  {
   "cell_type": "markdown",
   "metadata": {},
   "source": [
    "# sec 4"
   ]
  },
  {
   "cell_type": "markdown",
   "metadata": {},
   "source": [
    "In this sec we encoded our data as one hot vectors. instead of using sklearn function. we implement our on version which keep the titles of the columns and give a more understandable result.\n",
    "In addition our function skip the 'Age' feature since this is a non-categorical feature and not suitable for one-hot encoding"
   ]
  },
  {
   "cell_type": "code",
   "execution_count": 8,
   "metadata": {},
   "outputs": [
    {
     "data": {
      "text/html": [
       "<div>\n",
       "<style scoped>\n",
       "    .dataframe tbody tr th:only-of-type {\n",
       "        vertical-align: middle;\n",
       "    }\n",
       "\n",
       "    .dataframe tbody tr th {\n",
       "        vertical-align: top;\n",
       "    }\n",
       "\n",
       "    .dataframe thead th {\n",
       "        text-align: right;\n",
       "    }\n",
       "</style>\n",
       "<table border=\"1\" class=\"dataframe\">\n",
       "  <thead>\n",
       "    <tr style=\"text-align: right;\">\n",
       "      <th></th>\n",
       "      <th>Age</th>\n",
       "      <th>Gender_Female</th>\n",
       "      <th>Gender_Male</th>\n",
       "      <th>Increased Urination_No</th>\n",
       "      <th>Increased Urination_Yes</th>\n",
       "      <th>Increased Thirst_No</th>\n",
       "      <th>Increased Thirst_Yes</th>\n",
       "      <th>Sudden Weight Loss_No</th>\n",
       "      <th>Sudden Weight Loss_Yes</th>\n",
       "      <th>Weakness_No</th>\n",
       "      <th>...</th>\n",
       "      <th>Muscle Stiffness_No</th>\n",
       "      <th>Muscle Stiffness_Yes</th>\n",
       "      <th>Hair Loss_No</th>\n",
       "      <th>Hair Loss_Yes</th>\n",
       "      <th>Obesity_No</th>\n",
       "      <th>Obesity_Yes</th>\n",
       "      <th>Diagnosis_Negative</th>\n",
       "      <th>Diagnosis_Positive</th>\n",
       "      <th>Family History_0</th>\n",
       "      <th>Family History_1</th>\n",
       "    </tr>\n",
       "  </thead>\n",
       "  <tbody>\n",
       "    <tr>\n",
       "      <th>0</th>\n",
       "      <td>45</td>\n",
       "      <td>0</td>\n",
       "      <td>1</td>\n",
       "      <td>1</td>\n",
       "      <td>0</td>\n",
       "      <td>1</td>\n",
       "      <td>0</td>\n",
       "      <td>1</td>\n",
       "      <td>0</td>\n",
       "      <td>0</td>\n",
       "      <td>...</td>\n",
       "      <td>1</td>\n",
       "      <td>0</td>\n",
       "      <td>0</td>\n",
       "      <td>1</td>\n",
       "      <td>1</td>\n",
       "      <td>0</td>\n",
       "      <td>1</td>\n",
       "      <td>0</td>\n",
       "      <td>1</td>\n",
       "      <td>0</td>\n",
       "    </tr>\n",
       "    <tr>\n",
       "      <th>1</th>\n",
       "      <td>42</td>\n",
       "      <td>0</td>\n",
       "      <td>1</td>\n",
       "      <td>1</td>\n",
       "      <td>0</td>\n",
       "      <td>1</td>\n",
       "      <td>0</td>\n",
       "      <td>1</td>\n",
       "      <td>0</td>\n",
       "      <td>1</td>\n",
       "      <td>...</td>\n",
       "      <td>1</td>\n",
       "      <td>0</td>\n",
       "      <td>0</td>\n",
       "      <td>1</td>\n",
       "      <td>1</td>\n",
       "      <td>0</td>\n",
       "      <td>1</td>\n",
       "      <td>0</td>\n",
       "      <td>1</td>\n",
       "      <td>0</td>\n",
       "    </tr>\n",
       "    <tr>\n",
       "      <th>2</th>\n",
       "      <td>45</td>\n",
       "      <td>0</td>\n",
       "      <td>1</td>\n",
       "      <td>0</td>\n",
       "      <td>1</td>\n",
       "      <td>0</td>\n",
       "      <td>1</td>\n",
       "      <td>1</td>\n",
       "      <td>0</td>\n",
       "      <td>0</td>\n",
       "      <td>...</td>\n",
       "      <td>1</td>\n",
       "      <td>0</td>\n",
       "      <td>0</td>\n",
       "      <td>1</td>\n",
       "      <td>1</td>\n",
       "      <td>0</td>\n",
       "      <td>0</td>\n",
       "      <td>1</td>\n",
       "      <td>1</td>\n",
       "      <td>0</td>\n",
       "    </tr>\n",
       "    <tr>\n",
       "      <th>3</th>\n",
       "      <td>59</td>\n",
       "      <td>1</td>\n",
       "      <td>0</td>\n",
       "      <td>1</td>\n",
       "      <td>0</td>\n",
       "      <td>1</td>\n",
       "      <td>0</td>\n",
       "      <td>1</td>\n",
       "      <td>0</td>\n",
       "      <td>1</td>\n",
       "      <td>...</td>\n",
       "      <td>1</td>\n",
       "      <td>0</td>\n",
       "      <td>1</td>\n",
       "      <td>0</td>\n",
       "      <td>1</td>\n",
       "      <td>0</td>\n",
       "      <td>0</td>\n",
       "      <td>1</td>\n",
       "      <td>0</td>\n",
       "      <td>1</td>\n",
       "    </tr>\n",
       "    <tr>\n",
       "      <th>4</th>\n",
       "      <td>40</td>\n",
       "      <td>1</td>\n",
       "      <td>0</td>\n",
       "      <td>0</td>\n",
       "      <td>1</td>\n",
       "      <td>0</td>\n",
       "      <td>1</td>\n",
       "      <td>0</td>\n",
       "      <td>1</td>\n",
       "      <td>0</td>\n",
       "      <td>...</td>\n",
       "      <td>0</td>\n",
       "      <td>1</td>\n",
       "      <td>1</td>\n",
       "      <td>0</td>\n",
       "      <td>1</td>\n",
       "      <td>0</td>\n",
       "      <td>0</td>\n",
       "      <td>1</td>\n",
       "      <td>1</td>\n",
       "      <td>0</td>\n",
       "    </tr>\n",
       "  </tbody>\n",
       "</table>\n",
       "<p>5 rows × 35 columns</p>\n",
       "</div>"
      ],
      "text/plain": [
       "   Age  Gender_Female  Gender_Male  Increased Urination_No  \\\n",
       "0   45              0            1                       1   \n",
       "1   42              0            1                       1   \n",
       "2   45              0            1                       0   \n",
       "3   59              1            0                       1   \n",
       "4   40              1            0                       0   \n",
       "\n",
       "   Increased Urination_Yes  Increased Thirst_No  Increased Thirst_Yes  \\\n",
       "0                        0                    1                     0   \n",
       "1                        0                    1                     0   \n",
       "2                        1                    0                     1   \n",
       "3                        0                    1                     0   \n",
       "4                        1                    0                     1   \n",
       "\n",
       "   Sudden Weight Loss_No  Sudden Weight Loss_Yes  Weakness_No  ...  \\\n",
       "0                      1                       0            0  ...   \n",
       "1                      1                       0            1  ...   \n",
       "2                      1                       0            0  ...   \n",
       "3                      1                       0            1  ...   \n",
       "4                      0                       1            0  ...   \n",
       "\n",
       "   Muscle Stiffness_No  Muscle Stiffness_Yes  Hair Loss_No  Hair Loss_Yes  \\\n",
       "0                    1                     0             0              1   \n",
       "1                    1                     0             0              1   \n",
       "2                    1                     0             0              1   \n",
       "3                    1                     0             1              0   \n",
       "4                    0                     1             1              0   \n",
       "\n",
       "   Obesity_No  Obesity_Yes  Diagnosis_Negative  Diagnosis_Positive  \\\n",
       "0           1            0                   1                   0   \n",
       "1           1            0                   1                   0   \n",
       "2           1            0                   0                   1   \n",
       "3           1            0                   0                   1   \n",
       "4           1            0                   0                   1   \n",
       "\n",
       "   Family History_0  Family History_1  \n",
       "0                 1                 0  \n",
       "1                 1                 0  \n",
       "2                 1                 0  \n",
       "3                 0                 1  \n",
       "4                 1                 0  \n",
       "\n",
       "[5 rows x 35 columns]"
      ]
     },
     "execution_count": 8,
     "metadata": {},
     "output_type": "execute_result"
    }
   ],
   "source": [
    "from DataExplorer import encode_and_bind\n",
    "one_hot_data = encode_and_bind(T1D_dataset_clean)\n",
    "one_hot_data.head()"
   ]
  },
  {
   "cell_type": "markdown",
   "metadata": {},
   "source": [
    "We used our function only on the X_train and X_test. for the Y we transform it to numric (1/0), but did not encode it as one-hot vector, Because \n",
    "we have come to the conclusion that it produces unnecessary duplication of data  "
   ]
  },
  {
   "cell_type": "code",
   "execution_count": 10,
   "metadata": {},
   "outputs": [
    {
     "data": {
      "text/html": [
       "<div>\n",
       "<style scoped>\n",
       "    .dataframe tbody tr th:only-of-type {\n",
       "        vertical-align: middle;\n",
       "    }\n",
       "\n",
       "    .dataframe tbody tr th {\n",
       "        vertical-align: top;\n",
       "    }\n",
       "\n",
       "    .dataframe thead th {\n",
       "        text-align: right;\n",
       "    }\n",
       "</style>\n",
       "<table border=\"1\" class=\"dataframe\">\n",
       "  <thead>\n",
       "    <tr style=\"text-align: right;\">\n",
       "      <th></th>\n",
       "      <th>Age</th>\n",
       "      <th>Gender_Female</th>\n",
       "      <th>Gender_Male</th>\n",
       "      <th>Increased Urination_No</th>\n",
       "      <th>Increased Urination_Yes</th>\n",
       "      <th>Increased Thirst_No</th>\n",
       "      <th>Increased Thirst_Yes</th>\n",
       "      <th>Sudden Weight Loss_No</th>\n",
       "      <th>Sudden Weight Loss_Yes</th>\n",
       "      <th>Weakness_No</th>\n",
       "      <th>...</th>\n",
       "      <th>Partial Paresis_No</th>\n",
       "      <th>Partial Paresis_Yes</th>\n",
       "      <th>Muscle Stiffness_No</th>\n",
       "      <th>Muscle Stiffness_Yes</th>\n",
       "      <th>Hair Loss_No</th>\n",
       "      <th>Hair Loss_Yes</th>\n",
       "      <th>Obesity_No</th>\n",
       "      <th>Obesity_Yes</th>\n",
       "      <th>Family History_0</th>\n",
       "      <th>Family History_1</th>\n",
       "    </tr>\n",
       "  </thead>\n",
       "  <tbody>\n",
       "    <tr>\n",
       "      <th>504</th>\n",
       "      <td>48</td>\n",
       "      <td>0</td>\n",
       "      <td>1</td>\n",
       "      <td>0</td>\n",
       "      <td>1</td>\n",
       "      <td>0</td>\n",
       "      <td>1</td>\n",
       "      <td>0</td>\n",
       "      <td>1</td>\n",
       "      <td>1</td>\n",
       "      <td>...</td>\n",
       "      <td>1</td>\n",
       "      <td>0</td>\n",
       "      <td>1</td>\n",
       "      <td>0</td>\n",
       "      <td>1</td>\n",
       "      <td>0</td>\n",
       "      <td>1</td>\n",
       "      <td>0</td>\n",
       "      <td>0</td>\n",
       "      <td>1</td>\n",
       "    </tr>\n",
       "    <tr>\n",
       "      <th>146</th>\n",
       "      <td>48</td>\n",
       "      <td>1</td>\n",
       "      <td>0</td>\n",
       "      <td>0</td>\n",
       "      <td>1</td>\n",
       "      <td>0</td>\n",
       "      <td>1</td>\n",
       "      <td>0</td>\n",
       "      <td>1</td>\n",
       "      <td>0</td>\n",
       "      <td>...</td>\n",
       "      <td>0</td>\n",
       "      <td>1</td>\n",
       "      <td>1</td>\n",
       "      <td>0</td>\n",
       "      <td>1</td>\n",
       "      <td>0</td>\n",
       "      <td>1</td>\n",
       "      <td>0</td>\n",
       "      <td>1</td>\n",
       "      <td>0</td>\n",
       "    </tr>\n",
       "    <tr>\n",
       "      <th>218</th>\n",
       "      <td>58</td>\n",
       "      <td>1</td>\n",
       "      <td>0</td>\n",
       "      <td>0</td>\n",
       "      <td>1</td>\n",
       "      <td>1</td>\n",
       "      <td>0</td>\n",
       "      <td>0</td>\n",
       "      <td>1</td>\n",
       "      <td>1</td>\n",
       "      <td>...</td>\n",
       "      <td>1</td>\n",
       "      <td>0</td>\n",
       "      <td>0</td>\n",
       "      <td>1</td>\n",
       "      <td>1</td>\n",
       "      <td>0</td>\n",
       "      <td>0</td>\n",
       "      <td>1</td>\n",
       "      <td>0</td>\n",
       "      <td>1</td>\n",
       "    </tr>\n",
       "    <tr>\n",
       "      <th>476</th>\n",
       "      <td>39</td>\n",
       "      <td>1</td>\n",
       "      <td>0</td>\n",
       "      <td>0</td>\n",
       "      <td>1</td>\n",
       "      <td>0</td>\n",
       "      <td>1</td>\n",
       "      <td>1</td>\n",
       "      <td>0</td>\n",
       "      <td>1</td>\n",
       "      <td>...</td>\n",
       "      <td>0</td>\n",
       "      <td>1</td>\n",
       "      <td>0</td>\n",
       "      <td>1</td>\n",
       "      <td>1</td>\n",
       "      <td>0</td>\n",
       "      <td>1</td>\n",
       "      <td>0</td>\n",
       "      <td>1</td>\n",
       "      <td>0</td>\n",
       "    </tr>\n",
       "    <tr>\n",
       "      <th>286</th>\n",
       "      <td>43</td>\n",
       "      <td>1</td>\n",
       "      <td>0</td>\n",
       "      <td>0</td>\n",
       "      <td>1</td>\n",
       "      <td>0</td>\n",
       "      <td>1</td>\n",
       "      <td>0</td>\n",
       "      <td>1</td>\n",
       "      <td>0</td>\n",
       "      <td>...</td>\n",
       "      <td>0</td>\n",
       "      <td>1</td>\n",
       "      <td>0</td>\n",
       "      <td>1</td>\n",
       "      <td>1</td>\n",
       "      <td>0</td>\n",
       "      <td>0</td>\n",
       "      <td>1</td>\n",
       "      <td>0</td>\n",
       "      <td>1</td>\n",
       "    </tr>\n",
       "    <tr>\n",
       "      <th>...</th>\n",
       "      <td>...</td>\n",
       "      <td>...</td>\n",
       "      <td>...</td>\n",
       "      <td>...</td>\n",
       "      <td>...</td>\n",
       "      <td>...</td>\n",
       "      <td>...</td>\n",
       "      <td>...</td>\n",
       "      <td>...</td>\n",
       "      <td>...</td>\n",
       "      <td>...</td>\n",
       "      <td>...</td>\n",
       "      <td>...</td>\n",
       "      <td>...</td>\n",
       "      <td>...</td>\n",
       "      <td>...</td>\n",
       "      <td>...</td>\n",
       "      <td>...</td>\n",
       "      <td>...</td>\n",
       "      <td>...</td>\n",
       "      <td>...</td>\n",
       "    </tr>\n",
       "    <tr>\n",
       "      <th>347</th>\n",
       "      <td>53</td>\n",
       "      <td>0</td>\n",
       "      <td>1</td>\n",
       "      <td>0</td>\n",
       "      <td>1</td>\n",
       "      <td>0</td>\n",
       "      <td>1</td>\n",
       "      <td>0</td>\n",
       "      <td>1</td>\n",
       "      <td>0</td>\n",
       "      <td>...</td>\n",
       "      <td>0</td>\n",
       "      <td>1</td>\n",
       "      <td>1</td>\n",
       "      <td>0</td>\n",
       "      <td>0</td>\n",
       "      <td>1</td>\n",
       "      <td>1</td>\n",
       "      <td>0</td>\n",
       "      <td>0</td>\n",
       "      <td>1</td>\n",
       "    </tr>\n",
       "    <tr>\n",
       "      <th>501</th>\n",
       "      <td>37</td>\n",
       "      <td>0</td>\n",
       "      <td>1</td>\n",
       "      <td>1</td>\n",
       "      <td>0</td>\n",
       "      <td>1</td>\n",
       "      <td>0</td>\n",
       "      <td>1</td>\n",
       "      <td>0</td>\n",
       "      <td>1</td>\n",
       "      <td>...</td>\n",
       "      <td>1</td>\n",
       "      <td>0</td>\n",
       "      <td>1</td>\n",
       "      <td>0</td>\n",
       "      <td>1</td>\n",
       "      <td>0</td>\n",
       "      <td>1</td>\n",
       "      <td>0</td>\n",
       "      <td>1</td>\n",
       "      <td>0</td>\n",
       "    </tr>\n",
       "    <tr>\n",
       "      <th>43</th>\n",
       "      <td>55</td>\n",
       "      <td>1</td>\n",
       "      <td>0</td>\n",
       "      <td>0</td>\n",
       "      <td>1</td>\n",
       "      <td>0</td>\n",
       "      <td>1</td>\n",
       "      <td>0</td>\n",
       "      <td>1</td>\n",
       "      <td>0</td>\n",
       "      <td>...</td>\n",
       "      <td>0</td>\n",
       "      <td>1</td>\n",
       "      <td>1</td>\n",
       "      <td>0</td>\n",
       "      <td>1</td>\n",
       "      <td>0</td>\n",
       "      <td>0</td>\n",
       "      <td>1</td>\n",
       "      <td>0</td>\n",
       "      <td>1</td>\n",
       "    </tr>\n",
       "    <tr>\n",
       "      <th>464</th>\n",
       "      <td>53</td>\n",
       "      <td>0</td>\n",
       "      <td>1</td>\n",
       "      <td>1</td>\n",
       "      <td>0</td>\n",
       "      <td>1</td>\n",
       "      <td>0</td>\n",
       "      <td>1</td>\n",
       "      <td>0</td>\n",
       "      <td>0</td>\n",
       "      <td>...</td>\n",
       "      <td>0</td>\n",
       "      <td>1</td>\n",
       "      <td>0</td>\n",
       "      <td>1</td>\n",
       "      <td>0</td>\n",
       "      <td>1</td>\n",
       "      <td>1</td>\n",
       "      <td>0</td>\n",
       "      <td>0</td>\n",
       "      <td>1</td>\n",
       "    </tr>\n",
       "    <tr>\n",
       "      <th>375</th>\n",
       "      <td>43</td>\n",
       "      <td>0</td>\n",
       "      <td>1</td>\n",
       "      <td>1</td>\n",
       "      <td>0</td>\n",
       "      <td>1</td>\n",
       "      <td>0</td>\n",
       "      <td>1</td>\n",
       "      <td>0</td>\n",
       "      <td>0</td>\n",
       "      <td>...</td>\n",
       "      <td>1</td>\n",
       "      <td>0</td>\n",
       "      <td>1</td>\n",
       "      <td>0</td>\n",
       "      <td>0</td>\n",
       "      <td>1</td>\n",
       "      <td>1</td>\n",
       "      <td>0</td>\n",
       "      <td>1</td>\n",
       "      <td>0</td>\n",
       "    </tr>\n",
       "  </tbody>\n",
       "</table>\n",
       "<p>105 rows × 33 columns</p>\n",
       "</div>"
      ],
      "text/plain": [
       "     Age  Gender_Female  Gender_Male  Increased Urination_No  \\\n",
       "504   48              0            1                       0   \n",
       "146   48              1            0                       0   \n",
       "218   58              1            0                       0   \n",
       "476   39              1            0                       0   \n",
       "286   43              1            0                       0   \n",
       "..   ...            ...          ...                     ...   \n",
       "347   53              0            1                       0   \n",
       "501   37              0            1                       1   \n",
       "43    55              1            0                       0   \n",
       "464   53              0            1                       1   \n",
       "375   43              0            1                       1   \n",
       "\n",
       "     Increased Urination_Yes  Increased Thirst_No  Increased Thirst_Yes  \\\n",
       "504                        1                    0                     1   \n",
       "146                        1                    0                     1   \n",
       "218                        1                    1                     0   \n",
       "476                        1                    0                     1   \n",
       "286                        1                    0                     1   \n",
       "..                       ...                  ...                   ...   \n",
       "347                        1                    0                     1   \n",
       "501                        0                    1                     0   \n",
       "43                         1                    0                     1   \n",
       "464                        0                    1                     0   \n",
       "375                        0                    1                     0   \n",
       "\n",
       "     Sudden Weight Loss_No  Sudden Weight Loss_Yes  Weakness_No  ...  \\\n",
       "504                      0                       1            1  ...   \n",
       "146                      0                       1            0  ...   \n",
       "218                      0                       1            1  ...   \n",
       "476                      1                       0            1  ...   \n",
       "286                      0                       1            0  ...   \n",
       "..                     ...                     ...          ...  ...   \n",
       "347                      0                       1            0  ...   \n",
       "501                      1                       0            1  ...   \n",
       "43                       0                       1            0  ...   \n",
       "464                      1                       0            0  ...   \n",
       "375                      1                       0            0  ...   \n",
       "\n",
       "     Partial Paresis_No  Partial Paresis_Yes  Muscle Stiffness_No  \\\n",
       "504                   1                    0                    1   \n",
       "146                   0                    1                    1   \n",
       "218                   1                    0                    0   \n",
       "476                   0                    1                    0   \n",
       "286                   0                    1                    0   \n",
       "..                  ...                  ...                  ...   \n",
       "347                   0                    1                    1   \n",
       "501                   1                    0                    1   \n",
       "43                    0                    1                    1   \n",
       "464                   0                    1                    0   \n",
       "375                   1                    0                    1   \n",
       "\n",
       "     Muscle Stiffness_Yes  Hair Loss_No  Hair Loss_Yes  Obesity_No  \\\n",
       "504                     0             1              0           1   \n",
       "146                     0             1              0           1   \n",
       "218                     1             1              0           0   \n",
       "476                     1             1              0           1   \n",
       "286                     1             1              0           0   \n",
       "..                    ...           ...            ...         ...   \n",
       "347                     0             0              1           1   \n",
       "501                     0             1              0           1   \n",
       "43                      0             1              0           0   \n",
       "464                     1             0              1           1   \n",
       "375                     0             0              1           1   \n",
       "\n",
       "     Obesity_Yes  Family History_0  Family History_1  \n",
       "504            0                 0                 1  \n",
       "146            0                 1                 0  \n",
       "218            1                 0                 1  \n",
       "476            0                 1                 0  \n",
       "286            1                 0                 1  \n",
       "..           ...               ...               ...  \n",
       "347            0                 0                 1  \n",
       "501            0                 1                 0  \n",
       "43             1                 0                 1  \n",
       "464            0                 0                 1  \n",
       "375            0                 1                 0  \n",
       "\n",
       "[105 rows x 33 columns]"
      ]
     },
     "execution_count": 10,
     "metadata": {},
     "output_type": "execute_result"
    }
   ],
   "source": [
    "X_train = encode_and_bind(X_train) \n",
    "X_test = encode_and_bind(X_test)\n",
    "X_test"
   ]
  },
  {
   "cell_type": "code",
   "execution_count": 11,
   "metadata": {},
   "outputs": [],
   "source": [
    "Y_train[Y_train=='Positive']=1\n",
    "Y_train[Y_train=='Negative']=0\n",
    "Y_test[Y_test=='Positive']=1\n",
    "Y_test[Y_test=='Negative']=0\n",
    "Y_train=Y_train.astype('int')\n",
    "Y_test=Y_test.astype('int')"
   ]
  },
  {
   "cell_type": "markdown",
   "metadata": {},
   "source": [
    "# sec 5"
   ]
  },
  {
   "cell_type": "markdown",
   "metadata": {},
   "source": [
    "5.a.1 Logistic Regression with k fold cross validation"
   ]
  },
  {
   "cell_type": "markdown",
   "metadata": {},
   "source": [
    "1.scaling to age in x test/age\n",
    "2.try y with hot encoding "
   ]
  },
  {
   "cell_type": "code",
   "execution_count": 12,
   "metadata": {},
   "outputs": [
    {
     "name": "stdout",
     "output_type": "stream",
     "text": [
      "Fitting 10 folds for each of 12 candidates, totalling 120 fits\n",
      "[CV] logistic__C=100.0, logistic__penalty=l2 .........................\n",
      "[CV]  logistic__C=100.0, logistic__penalty=l2, accuracy=(train=0.936, test=0.976), f1=(train=0.948, test=0.980), precision=(train=0.952, test=1.000), recall=(train=0.944, test=0.962), roc_auc=(train=0.985, test=0.998), total=   0.0s\n",
      "[CV] logistic__C=100.0, logistic__penalty=l2 .........................\n",
      "[CV]  logistic__C=100.0, logistic__penalty=l2, accuracy=(train=0.949, test=0.905), f1=(train=0.958, test=0.926), precision=(train=0.969, test=0.893), recall=(train=0.948, test=0.962), roc_auc=(train=0.986, test=0.983), total=   0.0s\n",
      "[CV] logistic__C=100.0, logistic__penalty=l2 .........................\n",
      "[CV]  logistic__C=100.0, logistic__penalty=l2, accuracy=(train=0.957, test=0.905), f1=(train=0.965, test=0.920), precision=(train=0.965, test=0.958), recall=(train=0.965, test=0.885), roc_auc=(train=0.992, test=0.935), total=   0.0s\n",
      "[CV] logistic__C=100.0, logistic__penalty=l2 .........................\n",
      "[CV]  logistic__C=100.0, logistic__penalty=l2, accuracy=(train=0.947, test=0.929), f1=(train=0.957, test=0.941), precision=(train=0.957, test=0.960), recall=(train=0.957, test=0.923), roc_auc=(train=0.986, test=0.995), total=   0.0s\n",
      "[CV] logistic__C=100.0, logistic__penalty=l2 .........................\n",
      "[CV]  logistic__C=100.0, logistic__penalty=l2, accuracy=(train=0.949, test=0.881), f1=(train=0.959, test=0.902), precision=(train=0.961, test=0.920), recall=(train=0.957, test=0.885), roc_auc=(train=0.990, test=0.938), total=   0.0s\n",
      "[CV] logistic__C=100.0, logistic__penalty=l2 .........................\n"
     ]
    },
    {
     "name": "stderr",
     "output_type": "stream",
     "text": [
      "[Parallel(n_jobs=1)]: Using backend SequentialBackend with 1 concurrent workers.\n",
      "[Parallel(n_jobs=1)]: Done   1 out of   1 | elapsed:    0.0s remaining:    0.0s\n",
      "[Parallel(n_jobs=1)]: Done   2 out of   2 | elapsed:    0.0s remaining:    0.0s\n"
     ]
    },
    {
     "name": "stdout",
     "output_type": "stream",
     "text": [
      "[CV]  logistic__C=100.0, logistic__penalty=l2, accuracy=(train=0.947, test=0.905), f1=(train=0.956, test=0.917), precision=(train=0.965, test=1.000), recall=(train=0.948, test=0.846), roc_auc=(train=0.987, test=0.962), total=   0.0s\n",
      "[CV] logistic__C=100.0, logistic__penalty=l2 .........................\n",
      "[CV]  logistic__C=100.0, logistic__penalty=l2, accuracy=(train=0.949, test=0.952), f1=(train=0.959, test=0.963), precision=(train=0.961, test=0.929), recall=(train=0.957, test=1.000), roc_auc=(train=0.986, test=1.000), total=   0.0s\n",
      "[CV] logistic__C=100.0, logistic__penalty=l2 .........................\n",
      "[CV]  logistic__C=100.0, logistic__penalty=l2, accuracy=(train=0.955, test=0.929), f1=(train=0.963, test=0.941), precision=(train=0.978, test=0.923), recall=(train=0.948, test=0.960), roc_auc=(train=0.988, test=0.960), total=   0.1s\n",
      "[CV] logistic__C=100.0, logistic__penalty=l2 .........................\n",
      "[CV]  logistic__C=100.0, logistic__penalty=l2, accuracy=(train=0.939, test=0.976), f1=(train=0.950, test=0.980), precision=(train=0.952, test=0.962), recall=(train=0.948, test=1.000), roc_auc=(train=0.986, test=1.000), total=   0.0s\n",
      "[CV] logistic__C=100.0, logistic__penalty=l2 .........................\n",
      "[CV]  logistic__C=100.0, logistic__penalty=l2, accuracy=(train=0.955, test=0.951), f1=(train=0.963, test=0.960), precision=(train=0.978, test=0.960), recall=(train=0.948, test=0.960), roc_auc=(train=0.985, test=0.990), total=   0.0s\n",
      "[CV] logistic__C=100.0, logistic__penalty=none .......................\n",
      "[CV]  logistic__C=100.0, logistic__penalty=none, accuracy=(train=0.936, test=0.976), f1=(train=0.948, test=0.980), precision=(train=0.952, test=1.000), recall=(train=0.944, test=0.962), roc_auc=(train=0.985, test=0.998), total=   0.0s\n",
      "[CV] logistic__C=100.0, logistic__penalty=none .......................\n"
     ]
    },
    {
     "name": "stderr",
     "output_type": "stream",
     "text": [
      "C:\\Users\\User\\anaconda3\\envs\\bm-336546\\lib\\site-packages\\sklearn\\linear_model\\_logistic.py:1321: UserWarning: Setting penalty='none' will ignore the C and l1_ratio parameters\n",
      "  \"Setting penalty='none' will ignore the C and l1_ratio \"\n",
      "C:\\Users\\User\\anaconda3\\envs\\bm-336546\\lib\\site-packages\\sklearn\\linear_model\\_logistic.py:1321: UserWarning: Setting penalty='none' will ignore the C and l1_ratio parameters\n",
      "  \"Setting penalty='none' will ignore the C and l1_ratio \"\n",
      "C:\\Users\\User\\anaconda3\\envs\\bm-336546\\lib\\site-packages\\sklearn\\linear_model\\_logistic.py:1321: UserWarning: Setting penalty='none' will ignore the C and l1_ratio parameters\n",
      "  \"Setting penalty='none' will ignore the C and l1_ratio \"\n",
      "C:\\Users\\User\\anaconda3\\envs\\bm-336546\\lib\\site-packages\\sklearn\\linear_model\\_logistic.py:1321: UserWarning: Setting penalty='none' will ignore the C and l1_ratio parameters\n",
      "  \"Setting penalty='none' will ignore the C and l1_ratio \"\n",
      "C:\\Users\\User\\anaconda3\\envs\\bm-336546\\lib\\site-packages\\sklearn\\linear_model\\_logistic.py:1321: UserWarning: Setting penalty='none' will ignore the C and l1_ratio parameters\n",
      "  \"Setting penalty='none' will ignore the C and l1_ratio \"\n",
      "C:\\Users\\User\\anaconda3\\envs\\bm-336546\\lib\\site-packages\\sklearn\\linear_model\\_logistic.py:1321: UserWarning: Setting penalty='none' will ignore the C and l1_ratio parameters\n",
      "  \"Setting penalty='none' will ignore the C and l1_ratio \"\n"
     ]
    },
    {
     "name": "stdout",
     "output_type": "stream",
     "text": [
      "[CV]  logistic__C=100.0, logistic__penalty=none, accuracy=(train=0.949, test=0.905), f1=(train=0.958, test=0.926), precision=(train=0.969, test=0.893), recall=(train=0.948, test=0.962), roc_auc=(train=0.986, test=0.983), total=   0.0s\n",
      "[CV] logistic__C=100.0, logistic__penalty=none .......................\n",
      "[CV]  logistic__C=100.0, logistic__penalty=none, accuracy=(train=0.957, test=0.905), f1=(train=0.965, test=0.920), precision=(train=0.965, test=0.958), recall=(train=0.965, test=0.885), roc_auc=(train=0.992, test=0.935), total=   0.0s\n",
      "[CV] logistic__C=100.0, logistic__penalty=none .......................\n",
      "[CV]  logistic__C=100.0, logistic__penalty=none, accuracy=(train=0.947, test=0.929), f1=(train=0.957, test=0.941), precision=(train=0.957, test=0.960), recall=(train=0.957, test=0.923), roc_auc=(train=0.986, test=0.995), total=   0.0s\n",
      "[CV] logistic__C=100.0, logistic__penalty=none .......................\n",
      "[CV]  logistic__C=100.0, logistic__penalty=none, accuracy=(train=0.949, test=0.881), f1=(train=0.959, test=0.902), precision=(train=0.961, test=0.920), recall=(train=0.957, test=0.885), roc_auc=(train=0.990, test=0.935), total=   0.0s\n",
      "[CV] logistic__C=100.0, logistic__penalty=none .......................\n",
      "[CV]  logistic__C=100.0, logistic__penalty=none, accuracy=(train=0.947, test=0.905), f1=(train=0.956, test=0.917), precision=(train=0.965, test=1.000), recall=(train=0.948, test=0.846), roc_auc=(train=0.987, test=0.962), total=   0.0s\n",
      "[CV] logistic__C=100.0, logistic__penalty=none .......................\n",
      "[CV]  logistic__C=100.0, logistic__penalty=none, accuracy=(train=0.949, test=0.952), f1=(train=0.959, test=0.963), precision=(train=0.961, test=0.929), recall=(train=0.957, test=1.000), roc_auc=(train=0.986, test=1.000), total=   0.0s"
     ]
    },
    {
     "name": "stderr",
     "output_type": "stream",
     "text": [
      "C:\\Users\\User\\anaconda3\\envs\\bm-336546\\lib\\site-packages\\sklearn\\linear_model\\_logistic.py:1321: UserWarning: Setting penalty='none' will ignore the C and l1_ratio parameters\n",
      "  \"Setting penalty='none' will ignore the C and l1_ratio \"\n",
      "C:\\Users\\User\\anaconda3\\envs\\bm-336546\\lib\\site-packages\\sklearn\\linear_model\\_logistic.py:1321: UserWarning: Setting penalty='none' will ignore the C and l1_ratio parameters\n",
      "  \"Setting penalty='none' will ignore the C and l1_ratio \"\n",
      "C:\\Users\\User\\anaconda3\\envs\\bm-336546\\lib\\site-packages\\sklearn\\linear_model\\_logistic.py:1321: UserWarning: Setting penalty='none' will ignore the C and l1_ratio parameters\n",
      "  \"Setting penalty='none' will ignore the C and l1_ratio \"\n",
      "C:\\Users\\User\\anaconda3\\envs\\bm-336546\\lib\\site-packages\\sklearn\\linear_model\\_logistic.py:1321: UserWarning: Setting penalty='none' will ignore the C and l1_ratio parameters\n",
      "  \"Setting penalty='none' will ignore the C and l1_ratio \"\n"
     ]
    },
    {
     "name": "stdout",
     "output_type": "stream",
     "text": [
      "\n",
      "[CV] logistic__C=100.0, logistic__penalty=none .......................\n",
      "[CV]  logistic__C=100.0, logistic__penalty=none, accuracy=(train=0.955, test=0.929), f1=(train=0.963, test=0.941), precision=(train=0.978, test=0.923), recall=(train=0.948, test=0.960), roc_auc=(train=0.988, test=0.960), total=   0.0s\n",
      "[CV] logistic__C=100.0, logistic__penalty=none .......................\n",
      "[CV]  logistic__C=100.0, logistic__penalty=none, accuracy=(train=0.939, test=0.976), f1=(train=0.950, test=0.980), precision=(train=0.952, test=0.962), recall=(train=0.948, test=1.000), roc_auc=(train=0.985, test=1.000), total=   0.0s\n",
      "[CV] logistic__C=100.0, logistic__penalty=none .......................\n",
      "[CV]  logistic__C=100.0, logistic__penalty=none, accuracy=(train=0.955, test=0.951), f1=(train=0.963, test=0.960), precision=(train=0.978, test=0.960), recall=(train=0.948, test=0.960), roc_auc=(train=0.985, test=0.990), total=   0.0s\n",
      "[CV] logistic__C=100.0, logistic__penalty=l2 .........................\n",
      "[CV]  logistic__C=100.0, logistic__penalty=l2, accuracy=(train=0.936, test=0.976), f1=(train=0.948, test=0.980), precision=(train=0.952, test=1.000), recall=(train=0.944, test=0.962), roc_auc=(train=0.985, test=0.998), total=   0.0s\n",
      "[CV] logistic__C=100.0, logistic__penalty=l2 .........................\n",
      "[CV]  logistic__C=100.0, logistic__penalty=l2, accuracy=(train=0.949, test=0.905), f1=(train=0.958, test=0.926), precision=(train=0.969, test=0.893), recall=(train=0.948, test=0.962), roc_auc=(train=0.986, test=0.983), total=   0.0s\n",
      "[CV] logistic__C=100.0, logistic__penalty=l2 .........................\n",
      "[CV]  logistic__C=100.0, logistic__penalty=l2, accuracy=(train=0.957, test=0.905), f1=(train=0.965, test=0.920), precision=(train=0.965, test=0.958), recall=(train=0.965, test=0.885), roc_auc=(train=0.992, test=0.935), total=   0.0s\n",
      "[CV] logistic__C=100.0, logistic__penalty=l2 .........................\n",
      "[CV]  logistic__C=100.0, logistic__penalty=l2, accuracy=(train=0.947, test=0.929), f1=(train=0.957, test=0.941), precision=(train=0.957, test=0.960), recall=(train=0.957, test=0.923), roc_auc=(train=0.986, test=0.995), total=   0.0s\n",
      "[CV] logistic__C=100.0, logistic__penalty=l2 .........................\n",
      "[CV]  logistic__C=100.0, logistic__penalty=l2, accuracy=(train=0.949, test=0.881), f1=(train=0.959, test=0.902), precision=(train=0.961, test=0.920), recall=(train=0.957, test=0.885), roc_auc=(train=0.990, test=0.938), total=   0.0s\n",
      "[CV] logistic__C=100.0, logistic__penalty=l2 .........................\n",
      "[CV]  logistic__C=100.0, logistic__penalty=l2, accuracy=(train=0.947, test=0.905), f1=(train=0.956, test=0.917), precision=(train=0.965, test=1.000), recall=(train=0.948, test=0.846), roc_auc=(train=0.987, test=0.962), total=   0.0s\n",
      "[CV] logistic__C=100.0, logistic__penalty=l2 .........................\n",
      "[CV]  logistic__C=100.0, logistic__penalty=l2, accuracy=(train=0.949, test=0.952), f1=(train=0.959, test=0.963), precision=(train=0.961, test=0.929), recall=(train=0.957, test=1.000), roc_auc=(train=0.986, test=1.000), total=   0.0s\n",
      "[CV] logistic__C=100.0, logistic__penalty=l2 .........................\n",
      "[CV]  logistic__C=100.0, logistic__penalty=l2, accuracy=(train=0.955, test=0.929), f1=(train=0.963, test=0.941), precision=(train=0.978, test=0.923), recall=(train=0.948, test=0.960), roc_auc=(train=0.988, test=0.960), total=   0.1s\n",
      "[CV] logistic__C=100.0, logistic__penalty=l2 .........................\n",
      "[CV]  logistic__C=100.0, logistic__penalty=l2, accuracy=(train=0.939, test=0.976), f1=(train=0.950, test=0.980), precision=(train=0.952, test=0.962), recall=(train=0.948, test=1.000), roc_auc=(train=0.986, test=1.000), total=   0.0s\n",
      "[CV] logistic__C=100.0, logistic__penalty=l2 .........................\n",
      "[CV]  logistic__C=100.0, logistic__penalty=l2, accuracy=(train=0.955, test=0.951), f1=(train=0.963, test=0.960), precision=(train=0.978, test=0.960), recall=(train=0.948, test=0.960), roc_auc=(train=0.985, test=0.990), total=   0.0s\n",
      "[CV] logistic__C=100.0, logistic__penalty=none .......................\n",
      "[CV]  logistic__C=100.0, logistic__penalty=none, accuracy=(train=0.936, test=0.976), f1=(train=0.948, test=0.980), precision=(train=0.952, test=1.000), recall=(train=0.944, test=0.962), roc_auc=(train=0.985, test=0.998), total=   0.0s\n",
      "[CV] logistic__C=100.0, logistic__penalty=none .......................\n",
      "[CV]  logistic__C=100.0, logistic__penalty=none, accuracy=(train=0.949, test=0.905), f1=(train=0.958, test=0.926), precision=(train=0.969, test=0.893), recall=(train=0.948, test=0.962), roc_auc=(train=0.986, test=0.983), total=   0.0s\n",
      "[CV] logistic__C=100.0, logistic__penalty=none .......................\n",
      "[CV]  logistic__C=100.0, logistic__penalty=none, accuracy=(train=0.957, test=0.905), f1=(train=0.965, test=0.920), precision=(train=0.965, test=0.958), recall=(train=0.965, test=0.885), roc_auc=(train=0.992, test=0.935), total=   0.0s\n",
      "[CV] logistic__C=100.0, logistic__penalty=none .......................\n"
     ]
    },
    {
     "name": "stderr",
     "output_type": "stream",
     "text": [
      "C:\\Users\\User\\anaconda3\\envs\\bm-336546\\lib\\site-packages\\sklearn\\linear_model\\_logistic.py:1321: UserWarning: Setting penalty='none' will ignore the C and l1_ratio parameters\n",
      "  \"Setting penalty='none' will ignore the C and l1_ratio \"\n",
      "C:\\Users\\User\\anaconda3\\envs\\bm-336546\\lib\\site-packages\\sklearn\\linear_model\\_logistic.py:1321: UserWarning: Setting penalty='none' will ignore the C and l1_ratio parameters\n",
      "  \"Setting penalty='none' will ignore the C and l1_ratio \"\n",
      "C:\\Users\\User\\anaconda3\\envs\\bm-336546\\lib\\site-packages\\sklearn\\linear_model\\_logistic.py:1321: UserWarning: Setting penalty='none' will ignore the C and l1_ratio parameters\n",
      "  \"Setting penalty='none' will ignore the C and l1_ratio \"\n",
      "C:\\Users\\User\\anaconda3\\envs\\bm-336546\\lib\\site-packages\\sklearn\\linear_model\\_logistic.py:1321: UserWarning: Setting penalty='none' will ignore the C and l1_ratio parameters\n",
      "  \"Setting penalty='none' will ignore the C and l1_ratio \"\n",
      "C:\\Users\\User\\anaconda3\\envs\\bm-336546\\lib\\site-packages\\sklearn\\linear_model\\_logistic.py:1321: UserWarning: Setting penalty='none' will ignore the C and l1_ratio parameters\n",
      "  \"Setting penalty='none' will ignore the C and l1_ratio \"\n",
      "C:\\Users\\User\\anaconda3\\envs\\bm-336546\\lib\\site-packages\\sklearn\\linear_model\\_logistic.py:1321: UserWarning: Setting penalty='none' will ignore the C and l1_ratio parameters\n",
      "  \"Setting penalty='none' will ignore the C and l1_ratio \"\n"
     ]
    },
    {
     "name": "stdout",
     "output_type": "stream",
     "text": [
      "[CV]  logistic__C=100.0, logistic__penalty=none, accuracy=(train=0.947, test=0.929), f1=(train=0.957, test=0.941), precision=(train=0.957, test=0.960), recall=(train=0.957, test=0.923), roc_auc=(train=0.986, test=0.995), total=   0.0s\n",
      "[CV] logistic__C=100.0, logistic__penalty=none .......................\n",
      "[CV]  logistic__C=100.0, logistic__penalty=none, accuracy=(train=0.949, test=0.881), f1=(train=0.959, test=0.902), precision=(train=0.961, test=0.920), recall=(train=0.957, test=0.885), roc_auc=(train=0.990, test=0.935), total=   0.0s\n",
      "[CV] logistic__C=100.0, logistic__penalty=none .......................\n",
      "[CV]  logistic__C=100.0, logistic__penalty=none, accuracy=(train=0.947, test=0.905), f1=(train=0.956, test=0.917), precision=(train=0.965, test=1.000), recall=(train=0.948, test=0.846), roc_auc=(train=0.987, test=0.962), total=   0.0s\n",
      "[CV] logistic__C=100.0, logistic__penalty=none .......................\n",
      "[CV]  logistic__C=100.0, logistic__penalty=none, accuracy=(train=0.949, test=0.952), f1=(train=0.959, test=0.963), precision=(train=0.961, test=0.929), recall=(train=0.957, test=1.000), roc_auc=(train=0.986, test=1.000), total=   0.0s\n",
      "[CV] logistic__C=100.0, logistic__penalty=none .......................\n",
      "[CV]  logistic__C=100.0, logistic__penalty=none, accuracy=(train=0.955, test=0.929), f1=(train=0.963, test=0.941), precision=(train=0.978, test=0.923), recall=(train=0.948, test=0.960), roc_auc=(train=0.988, test=0.960), total=   0.0s\n",
      "[CV] logistic__C=100.0, logistic__penalty=none .......................\n",
      "[CV]  logistic__C=100.0, logistic__penalty=none, accuracy=(train=0.939, test=0.976), f1=(train=0.950, test=0.980), precision=(train=0.952, test=0.962), recall=(train=0.948, test=1.000), roc_auc=(train=0.985, test=1.000), total=   0.0s\n",
      "[CV] logistic__C=100.0, logistic__penalty=none .......................\n",
      "[CV]  logistic__C=100.0, logistic__penalty=none, accuracy=(train=0.955, test=0.951), f1=(train=0.963, test=0.960), precision=(train=0.978, test=0.960), recall=(train=0.948, test=0.960), roc_auc=(train=0.985, test=0.990), total=   0.0s\n",
      "[CV] logistic__C=1.0, logistic__penalty=l2 ...........................\n"
     ]
    },
    {
     "name": "stderr",
     "output_type": "stream",
     "text": [
      "C:\\Users\\User\\anaconda3\\envs\\bm-336546\\lib\\site-packages\\sklearn\\linear_model\\_logistic.py:1321: UserWarning: Setting penalty='none' will ignore the C and l1_ratio parameters\n",
      "  \"Setting penalty='none' will ignore the C and l1_ratio \"\n",
      "C:\\Users\\User\\anaconda3\\envs\\bm-336546\\lib\\site-packages\\sklearn\\linear_model\\_logistic.py:1321: UserWarning: Setting penalty='none' will ignore the C and l1_ratio parameters\n",
      "  \"Setting penalty='none' will ignore the C and l1_ratio \"\n",
      "C:\\Users\\User\\anaconda3\\envs\\bm-336546\\lib\\site-packages\\sklearn\\linear_model\\_logistic.py:1321: UserWarning: Setting penalty='none' will ignore the C and l1_ratio parameters\n",
      "  \"Setting penalty='none' will ignore the C and l1_ratio \"\n",
      "C:\\Users\\User\\anaconda3\\envs\\bm-336546\\lib\\site-packages\\sklearn\\linear_model\\_logistic.py:1321: UserWarning: Setting penalty='none' will ignore the C and l1_ratio parameters\n",
      "  \"Setting penalty='none' will ignore the C and l1_ratio \"\n"
     ]
    },
    {
     "name": "stdout",
     "output_type": "stream",
     "text": [
      "[CV]  logistic__C=1.0, logistic__penalty=l2, accuracy=(train=0.934, test=0.976), f1=(train=0.946, test=0.980), precision=(train=0.952, test=1.000), recall=(train=0.939, test=0.962), roc_auc=(train=0.985, test=0.998), total=   0.0s\n",
      "[CV] logistic__C=1.0, logistic__penalty=l2 ...........................\n",
      "[CV]  logistic__C=1.0, logistic__penalty=l2, accuracy=(train=0.947, test=0.929), f1=(train=0.956, test=0.943), precision=(train=0.969, test=0.926), recall=(train=0.944, test=0.962), roc_auc=(train=0.986, test=0.988), total=   0.0s\n",
      "[CV] logistic__C=1.0, logistic__penalty=l2 ...........................\n",
      "[CV]  logistic__C=1.0, logistic__penalty=l2, accuracy=(train=0.960, test=0.881), f1=(train=0.967, test=0.898), precision=(train=0.970, test=0.957), recall=(train=0.965, test=0.846), roc_auc=(train=0.991, test=0.933), total=   0.0s\n",
      "[CV] logistic__C=1.0, logistic__penalty=l2 ...........................\n",
      "[CV]  logistic__C=1.0, logistic__penalty=l2, accuracy=(train=0.952, test=0.929), f1=(train=0.961, test=0.941), precision=(train=0.965, test=0.960), recall=(train=0.957, test=0.923), roc_auc=(train=0.985, test=0.995), total=   0.0s\n",
      "[CV] logistic__C=1.0, logistic__penalty=l2 ...........................\n",
      "[CV]  logistic__C=1.0, logistic__penalty=l2, accuracy=(train=0.947, test=0.905), f1=(train=0.956, test=0.920), precision=(train=0.965, test=0.958), recall=(train=0.948, test=0.885), roc_auc=(train=0.990, test=0.945), total=   0.0s\n",
      "[CV] logistic__C=1.0, logistic__penalty=l2 ...........................\n",
      "[CV]  logistic__C=1.0, logistic__penalty=l2, accuracy=(train=0.947, test=0.929), f1=(train=0.956, test=0.939), precision=(train=0.965, test=1.000), recall=(train=0.948, test=0.885), roc_auc=(train=0.987, test=0.974), total=   0.0s\n",
      "[CV] logistic__C=1.0, logistic__penalty=l2 ...........................\n",
      "[CV]  logistic__C=1.0, logistic__penalty=l2, accuracy=(train=0.941, test=0.952), f1=(train=0.952, test=0.963), precision=(train=0.960, test=0.929), recall=(train=0.944, test=1.000), roc_auc=(train=0.986, test=1.000), total=   0.0s\n",
      "[CV] logistic__C=1.0, logistic__penalty=l2 ...........................\n",
      "[CV]  logistic__C=1.0, logistic__penalty=l2, accuracy=(train=0.947, test=0.905), f1=(train=0.956, test=0.920), precision=(train=0.973, test=0.920), recall=(train=0.940, test=0.920), roc_auc=(train=0.987, test=0.979), total=   0.0s\n",
      "[CV] logistic__C=1.0, logistic__penalty=l2 ...........................\n",
      "[CV]  logistic__C=1.0, logistic__penalty=l2, accuracy=(train=0.936, test=1.000), f1=(train=0.948, test=1.000), precision=(train=0.952, test=1.000), recall=(train=0.944, test=1.000), roc_auc=(train=0.985, test=1.000), total=   0.0s\n",
      "[CV] logistic__C=1.0, logistic__penalty=l2 ...........................\n",
      "[CV]  logistic__C=1.0, logistic__penalty=l2, accuracy=(train=0.955, test=0.951), f1=(train=0.963, test=0.960), precision=(train=0.978, test=0.960), recall=(train=0.948, test=0.960), roc_auc=(train=0.985, test=0.988), total=   0.1s\n",
      "[CV] logistic__C=1.0, logistic__penalty=none .........................\n",
      "[CV]  logistic__C=1.0, logistic__penalty=none, accuracy=(train=0.936, test=0.976), f1=(train=0.948, test=0.980), precision=(train=0.952, test=1.000), recall=(train=0.944, test=0.962), roc_auc=(train=0.985, test=0.998), total=   0.0s\n",
      "[CV] logistic__C=1.0, logistic__penalty=none .........................\n",
      "[CV]  logistic__C=1.0, logistic__penalty=none, accuracy=(train=0.949, test=0.905), f1=(train=0.958, test=0.926), precision=(train=0.969, test=0.893), recall=(train=0.948, test=0.962), roc_auc=(train=0.986, test=0.983), total=   0.0s\n",
      "[CV] logistic__C=1.0, logistic__penalty=none .........................\n",
      "[CV]  logistic__C=1.0, logistic__penalty=none, accuracy=(train=0.957, test=0.905), f1=(train=0.965, test=0.920), precision=(train=0.965, test=0.958), recall=(train=0.965, test=0.885), roc_auc=(train=0.992, test=0.935), total=   0.0s\n",
      "[CV] logistic__C=1.0, logistic__penalty=none .........................\n",
      "[CV]  logistic__C=1.0, logistic__penalty=none, accuracy=(train=0.947, test=0.929), f1=(train=0.957, test=0.941), precision=(train=0.957, test=0.960), recall=(train=0.957, test=0.923), roc_auc=(train=0.986, test=0.995), total=   0.0s\n",
      "[CV] logistic__C=1.0, logistic__penalty=none .........................\n",
      "[CV]  logistic__C=1.0, logistic__penalty=none, accuracy=(train=0.949, test=0.881), f1=(train=0.959, test=0.902), precision=(train=0.961, test=0.920), recall=(train=0.957, test=0.885), roc_auc=(train=0.990, test=0.935), total=   0.0s\n",
      "[CV] logistic__C=1.0, logistic__penalty=none .........................\n",
      "[CV]  logistic__C=1.0, logistic__penalty=none, accuracy=(train=0.947, test=0.905), f1=(train=0.956, test=0.917), precision=(train=0.965, test=1.000), recall=(train=0.948, test=0.846), roc_auc=(train=0.987, test=0.962), total=   0.0s\n",
      "[CV] logistic__C=1.0, logistic__penalty=none .........................\n",
      "[CV]  logistic__C=1.0, logistic__penalty=none, accuracy=(train=0.949, test=0.952), f1=(train=0.959, test=0.963), precision=(train=0.961, test=0.929), recall=(train=0.957, test=1.000), roc_auc=(train=0.986, test=1.000), total=   0.0s\n",
      "[CV] logistic__C=1.0, logistic__penalty=none .........................\n",
      "[CV]  logistic__C=1.0, logistic__penalty=none, accuracy=(train=0.955, test=0.929), f1=(train=0.963, test=0.941), precision=(train=0.978, test=0.923), recall=(train=0.948, test=0.960), roc_auc=(train=0.988, test=0.960), total=   0.0s\n",
      "[CV] logistic__C=1.0, logistic__penalty=none .........................\n",
      "[CV]  logistic__C=1.0, logistic__penalty=none, accuracy=(train=0.939, test=0.976), f1=(train=0.950, test=0.980), precision=(train=0.952, test=0.962), recall=(train=0.948, test=1.000), roc_auc=(train=0.985, test=1.000), total=   0.0s\n",
      "[CV] logistic__C=1.0, logistic__penalty=none .........................\n",
      "[CV]  logistic__C=1.0, logistic__penalty=none, accuracy=(train=0.955, test=0.951), f1=(train=0.963, test=0.960), precision=(train=0.978, test=0.960), recall=(train=0.948, test=0.960), roc_auc=(train=0.985, test=0.990), total=   0.0s\n",
      "[CV] logistic__C=0.1, logistic__penalty=l2 ...........................\n",
      "[CV]  logistic__C=0.1, logistic__penalty=l2, accuracy=(train=0.936, test=0.929), f1=(train=0.947, test=0.939), precision=(train=0.964, test=1.000), recall=(train=0.931, test=0.885), roc_auc=(train=0.981, test=1.000), total=   0.0s\n",
      "[CV] logistic__C=0.1, logistic__penalty=l2 ...........................\n",
      "[CV]  logistic__C=0.1, logistic__penalty=l2, accuracy=(train=0.934, test=0.952), f1=(train=0.945, test=0.962), precision=(train=0.964, test=0.962), recall=(train=0.926, test=0.962), roc_auc=(train=0.983, test=0.988), total=   0.0s\n",
      "[CV] logistic__C=0.1, logistic__penalty=l2 ...........................\n",
      "[CV]  logistic__C=0.1, logistic__penalty=l2, accuracy=(train=0.944, test=0.857), f1=(train=0.954, test=0.870), precision=(train=0.965, test=1.000), recall=(train=0.944, test=0.769), roc_auc=(train=0.988, test=0.928), total=   0.0s\n",
      "[CV] logistic__C=0.1, logistic__penalty=l2 ...........................\n",
      "[CV]  logistic__C=0.1, logistic__penalty=l2, accuracy=(train=0.928, test=0.929), f1=(train=0.941, test=0.941), precision=(train=0.955, test=0.960), recall=(train=0.926, test=0.923), roc_auc=(train=0.982, test=0.995), total=   0.0s\n",
      "[CV] logistic__C=0.1, logistic__penalty=l2 ...........................\n",
      "[CV]  logistic__C=0.1, logistic__penalty=l2, accuracy=(train=0.936, test=0.833), f1=(train=0.947, test=0.857), precision=(train=0.968, test=0.913), recall=(train=0.926, test=0.808), roc_auc=(train=0.985, test=0.942), total=   0.0s\n",
      "[CV] logistic__C=0.1, logistic__penalty=l2 ...........................\n",
      "[CV]  logistic__C=0.1, logistic__penalty=l2, accuracy=(train=0.939, test=0.905), f1=(train=0.949, test=0.923), precision=(train=0.968, test=0.923), recall=(train=0.931, test=0.923), roc_auc=(train=0.983, test=0.978), total=   0.0s\n",
      "[CV] logistic__C=0.1, logistic__penalty=l2 ...........................\n",
      "[CV]  logistic__C=0.1, logistic__penalty=l2, accuracy=(train=0.918, test=0.952), f1=(train=0.932, test=0.963), precision=(train=0.942, test=0.929), recall=(train=0.922, test=1.000), roc_auc=(train=0.982, test=1.000), total=   0.0s\n",
      "[CV] logistic__C=0.1, logistic__penalty=l2 ...........................\n",
      "[CV]  logistic__C=0.1, logistic__penalty=l2, accuracy=(train=0.923, test=0.881), f1=(train=0.937, test=0.898), precision=(train=0.951, test=0.917), recall=(train=0.922, test=0.880), roc_auc=(train=0.983, test=0.979), total=   0.0s\n",
      "[CV] logistic__C=0.1, logistic__penalty=l2 ...........................\n",
      "[CV]  logistic__C=0.1, logistic__penalty=l2, accuracy=(train=0.920, test=0.951), f1=(train=0.935, test=0.962), precision=(train=0.943, test=0.926), recall=(train=0.927, test=1.000), roc_auc=(train=0.982, test=1.000), total=   0.0s\n",
      "[CV] logistic__C=0.1, logistic__penalty=l2 ...........................\n",
      "[CV]  logistic__C=0.1, logistic__penalty=l2, accuracy=(train=0.918, test=0.927), f1=(train=0.932, test=0.941), precision=(train=0.951, test=0.923), recall=(train=0.914, test=0.960), roc_auc=(train=0.982, test=0.985), total=   0.0s\n",
      "[CV] logistic__C=0.1, logistic__penalty=none .........................\n",
      "[CV]  logistic__C=0.1, logistic__penalty=none, accuracy=(train=0.936, test=0.976), f1=(train=0.948, test=0.980), precision=(train=0.952, test=1.000), recall=(train=0.944, test=0.962), roc_auc=(train=0.985, test=0.998), total=   0.0s\n",
      "[CV] logistic__C=0.1, logistic__penalty=none .........................\n",
      "[CV]  logistic__C=0.1, logistic__penalty=none, accuracy=(train=0.949, test=0.905), f1=(train=0.958, test=0.926), precision=(train=0.969, test=0.893), recall=(train=0.948, test=0.962), roc_auc=(train=0.986, test=0.983), total=   0.0s\n",
      "[CV] logistic__C=0.1, logistic__penalty=none .........................\n",
      "[CV]  logistic__C=0.1, logistic__penalty=none, accuracy=(train=0.957, test=0.905), f1=(train=0.965, test=0.920), precision=(train=0.965, test=0.958), recall=(train=0.965, test=0.885), roc_auc=(train=0.992, test=0.935), total=   0.0s\n",
      "[CV] logistic__C=0.1, logistic__penalty=none .........................\n"
     ]
    },
    {
     "name": "stderr",
     "output_type": "stream",
     "text": [
      "C:\\Users\\User\\anaconda3\\envs\\bm-336546\\lib\\site-packages\\sklearn\\linear_model\\_logistic.py:1321: UserWarning: Setting penalty='none' will ignore the C and l1_ratio parameters\n",
      "  \"Setting penalty='none' will ignore the C and l1_ratio \"\n",
      "C:\\Users\\User\\anaconda3\\envs\\bm-336546\\lib\\site-packages\\sklearn\\linear_model\\_logistic.py:1321: UserWarning: Setting penalty='none' will ignore the C and l1_ratio parameters\n",
      "  \"Setting penalty='none' will ignore the C and l1_ratio \"\n",
      "C:\\Users\\User\\anaconda3\\envs\\bm-336546\\lib\\site-packages\\sklearn\\linear_model\\_logistic.py:1321: UserWarning: Setting penalty='none' will ignore the C and l1_ratio parameters\n",
      "  \"Setting penalty='none' will ignore the C and l1_ratio \"\n",
      "C:\\Users\\User\\anaconda3\\envs\\bm-336546\\lib\\site-packages\\sklearn\\linear_model\\_logistic.py:1321: UserWarning: Setting penalty='none' will ignore the C and l1_ratio parameters\n",
      "  \"Setting penalty='none' will ignore the C and l1_ratio \"\n",
      "C:\\Users\\User\\anaconda3\\envs\\bm-336546\\lib\\site-packages\\sklearn\\linear_model\\_logistic.py:1321: UserWarning: Setting penalty='none' will ignore the C and l1_ratio parameters\n",
      "  \"Setting penalty='none' will ignore the C and l1_ratio \"\n",
      "C:\\Users\\User\\anaconda3\\envs\\bm-336546\\lib\\site-packages\\sklearn\\linear_model\\_logistic.py:1321: UserWarning: Setting penalty='none' will ignore the C and l1_ratio parameters\n",
      "  \"Setting penalty='none' will ignore the C and l1_ratio \"\n"
     ]
    },
    {
     "name": "stdout",
     "output_type": "stream",
     "text": [
      "[CV]  logistic__C=0.1, logistic__penalty=none, accuracy=(train=0.947, test=0.929), f1=(train=0.957, test=0.941), precision=(train=0.957, test=0.960), recall=(train=0.957, test=0.923), roc_auc=(train=0.986, test=0.995), total=   0.0s\n",
      "[CV] logistic__C=0.1, logistic__penalty=none .........................\n",
      "[CV]  logistic__C=0.1, logistic__penalty=none, accuracy=(train=0.949, test=0.881), f1=(train=0.959, test=0.902), precision=(train=0.961, test=0.920), recall=(train=0.957, test=0.885), roc_auc=(train=0.990, test=0.935), total=   0.0s\n",
      "[CV] logistic__C=0.1, logistic__penalty=none .........................\n",
      "[CV]  logistic__C=0.1, logistic__penalty=none, accuracy=(train=0.947, test=0.905), f1=(train=0.956, test=0.917), precision=(train=0.965, test=1.000), recall=(train=0.948, test=0.846), roc_auc=(train=0.987, test=0.962), total=   0.0s\n",
      "[CV] logistic__C=0.1, logistic__penalty=none .........................\n",
      "[CV]  logistic__C=0.1, logistic__penalty=none, accuracy=(train=0.949, test=0.952), f1=(train=0.959, test=0.963), precision=(train=0.961, test=0.929), recall=(train=0.957, test=1.000), roc_auc=(train=0.986, test=1.000), total=   0.0s\n",
      "[CV] logistic__C=0.1, logistic__penalty=none .........................\n",
      "[CV]  logistic__C=0.1, logistic__penalty=none, accuracy=(train=0.955, test=0.929), f1=(train=0.963, test=0.941), precision=(train=0.978, test=0.923), recall=(train=0.948, test=0.960), roc_auc=(train=0.988, test=0.960), total=   0.0s\n",
      "[CV] logistic__C=0.1, logistic__penalty=none .........................\n",
      "[CV]  logistic__C=0.1, logistic__penalty=none, accuracy=(train=0.939, test=0.976), f1=(train=0.950, test=0.980), precision=(train=0.952, test=0.962), recall=(train=0.948, test=1.000), roc_auc=(train=0.985, test=1.000), total=   0.0s\n",
      "[CV] logistic__C=0.1, logistic__penalty=none .........................\n",
      "[CV]  logistic__C=0.1, logistic__penalty=none, accuracy=(train=0.955, test=0.951), f1=(train=0.963, test=0.960), precision=(train=0.978, test=0.960), recall=(train=0.948, test=0.960), roc_auc=(train=0.985, test=0.990), total=   0.0s\n",
      "[CV] logistic__C=0.01, logistic__penalty=l2 ..........................\n"
     ]
    },
    {
     "name": "stderr",
     "output_type": "stream",
     "text": [
      "C:\\Users\\User\\anaconda3\\envs\\bm-336546\\lib\\site-packages\\sklearn\\linear_model\\_logistic.py:1321: UserWarning: Setting penalty='none' will ignore the C and l1_ratio parameters\n",
      "  \"Setting penalty='none' will ignore the C and l1_ratio \"\n",
      "C:\\Users\\User\\anaconda3\\envs\\bm-336546\\lib\\site-packages\\sklearn\\linear_model\\_logistic.py:1321: UserWarning: Setting penalty='none' will ignore the C and l1_ratio parameters\n",
      "  \"Setting penalty='none' will ignore the C and l1_ratio \"\n",
      "C:\\Users\\User\\anaconda3\\envs\\bm-336546\\lib\\site-packages\\sklearn\\linear_model\\_logistic.py:1321: UserWarning: Setting penalty='none' will ignore the C and l1_ratio parameters\n",
      "  \"Setting penalty='none' will ignore the C and l1_ratio \"\n",
      "C:\\Users\\User\\anaconda3\\envs\\bm-336546\\lib\\site-packages\\sklearn\\linear_model\\_logistic.py:1321: UserWarning: Setting penalty='none' will ignore the C and l1_ratio parameters\n",
      "  \"Setting penalty='none' will ignore the C and l1_ratio \"\n"
     ]
    },
    {
     "name": "stdout",
     "output_type": "stream",
     "text": [
      "[CV]  logistic__C=0.01, logistic__penalty=l2, accuracy=(train=0.912, test=0.929), f1=(train=0.929, test=0.941), precision=(train=0.923, test=0.960), recall=(train=0.935, test=0.923), roc_auc=(train=0.966, test=0.988), total=   0.0s\n",
      "[CV] logistic__C=0.01, logistic__penalty=l2 ..........................\n",
      "[CV]  logistic__C=0.01, logistic__penalty=l2, accuracy=(train=0.910, test=0.952), f1=(train=0.927, test=0.962), precision=(train=0.923, test=0.962), recall=(train=0.931, test=0.962), roc_auc=(train=0.965, test=0.986), total=   0.0s\n",
      "[CV] logistic__C=0.01, logistic__penalty=l2 ..........................\n",
      "[CV]  logistic__C=0.01, logistic__penalty=l2, accuracy=(train=0.915, test=0.833), f1=(train=0.931, test=0.857), precision=(train=0.927, test=0.913), recall=(train=0.935, test=0.808), roc_auc=(train=0.971, test=0.928), total=   0.0s\n",
      "[CV] logistic__C=0.01, logistic__penalty=l2 ..........................\n",
      "[CV]  logistic__C=0.01, logistic__penalty=l2, accuracy=(train=0.910, test=0.929), f1=(train=0.927, test=0.941), precision=(train=0.919, test=0.960), recall=(train=0.935, test=0.923), roc_auc=(train=0.963, test=0.971), total=   0.0s\n",
      "[CV] logistic__C=0.01, logistic__penalty=l2 ..........................\n",
      "[CV]  logistic__C=0.01, logistic__penalty=l2, accuracy=(train=0.915, test=0.810), f1=(train=0.931, test=0.840), precision=(train=0.927, test=0.875), recall=(train=0.935, test=0.808), roc_auc=(train=0.968, test=0.897), total=   0.0s\n",
      "[CV] logistic__C=0.01, logistic__penalty=l2 ..........................\n",
      "[CV]  logistic__C=0.01, logistic__penalty=l2, accuracy=(train=0.912, test=0.881), f1=(train=0.929, test=0.906), precision=(train=0.923, test=0.889), recall=(train=0.935, test=0.923), roc_auc=(train=0.969, test=0.974), total=   0.0s\n",
      "[CV] logistic__C=0.01, logistic__penalty=l2 ..........................\n",
      "[CV]  logistic__C=0.01, logistic__penalty=l2, accuracy=(train=0.910, test=0.929), f1=(train=0.927, test=0.945), precision=(train=0.923, test=0.897), recall=(train=0.931, test=1.000), roc_auc=(train=0.966, test=0.983), total=   0.0s\n",
      "[CV] logistic__C=0.01, logistic__penalty=l2 ..........................\n",
      "[CV]  logistic__C=0.01, logistic__penalty=l2, accuracy=(train=0.915, test=0.929), f1=(train=0.931, test=0.941), precision=(train=0.927, test=0.923), recall=(train=0.935, test=0.960), roc_auc=(train=0.966, test=0.958), total=   0.0s\n",
      "[CV] logistic__C=0.01, logistic__penalty=l2 ..........................\n",
      "[CV]  logistic__C=0.01, logistic__penalty=l2, accuracy=(train=0.907, test=0.927), f1=(train=0.925, test=0.943), precision=(train=0.923, test=0.893), recall=(train=0.927, test=1.000), roc_auc=(train=0.962, test=0.985), total=   0.0s\n",
      "[CV] logistic__C=0.01, logistic__penalty=l2 ..........................\n",
      "[CV]  logistic__C=0.01, logistic__penalty=l2, accuracy=(train=0.905, test=0.927), f1=(train=0.922, test=0.941), precision=(train=0.922, test=0.923), recall=(train=0.922, test=0.960), roc_auc=(train=0.966, test=0.978), total=   0.0s\n",
      "[CV] logistic__C=0.01, logistic__penalty=none ........................\n"
     ]
    },
    {
     "name": "stderr",
     "output_type": "stream",
     "text": [
      "C:\\Users\\User\\anaconda3\\envs\\bm-336546\\lib\\site-packages\\sklearn\\linear_model\\_logistic.py:1321: UserWarning: Setting penalty='none' will ignore the C and l1_ratio parameters\n",
      "  \"Setting penalty='none' will ignore the C and l1_ratio \"\n",
      "C:\\Users\\User\\anaconda3\\envs\\bm-336546\\lib\\site-packages\\sklearn\\linear_model\\_logistic.py:1321: UserWarning: Setting penalty='none' will ignore the C and l1_ratio parameters\n",
      "  \"Setting penalty='none' will ignore the C and l1_ratio \"\n",
      "C:\\Users\\User\\anaconda3\\envs\\bm-336546\\lib\\site-packages\\sklearn\\linear_model\\_logistic.py:1321: UserWarning: Setting penalty='none' will ignore the C and l1_ratio parameters\n",
      "  \"Setting penalty='none' will ignore the C and l1_ratio \"\n",
      "C:\\Users\\User\\anaconda3\\envs\\bm-336546\\lib\\site-packages\\sklearn\\linear_model\\_logistic.py:1321: UserWarning: Setting penalty='none' will ignore the C and l1_ratio parameters\n",
      "  \"Setting penalty='none' will ignore the C and l1_ratio \"\n",
      "C:\\Users\\User\\anaconda3\\envs\\bm-336546\\lib\\site-packages\\sklearn\\linear_model\\_logistic.py:1321: UserWarning: Setting penalty='none' will ignore the C and l1_ratio parameters\n",
      "  \"Setting penalty='none' will ignore the C and l1_ratio \"\n",
      "C:\\Users\\User\\anaconda3\\envs\\bm-336546\\lib\\site-packages\\sklearn\\linear_model\\_logistic.py:1321: UserWarning: Setting penalty='none' will ignore the C and l1_ratio parameters\n",
      "  \"Setting penalty='none' will ignore the C and l1_ratio \"\n"
     ]
    },
    {
     "name": "stdout",
     "output_type": "stream",
     "text": [
      "[CV]  logistic__C=0.01, logistic__penalty=none, accuracy=(train=0.936, test=0.976), f1=(train=0.948, test=0.980), precision=(train=0.952, test=1.000), recall=(train=0.944, test=0.962), roc_auc=(train=0.985, test=0.998), total=   0.0s\n",
      "[CV] logistic__C=0.01, logistic__penalty=none ........................\n",
      "[CV]  logistic__C=0.01, logistic__penalty=none, accuracy=(train=0.949, test=0.905), f1=(train=0.958, test=0.926), precision=(train=0.969, test=0.893), recall=(train=0.948, test=0.962), roc_auc=(train=0.986, test=0.983), total=   0.0s\n",
      "[CV] logistic__C=0.01, logistic__penalty=none ........................\n",
      "[CV]  logistic__C=0.01, logistic__penalty=none, accuracy=(train=0.957, test=0.905), f1=(train=0.965, test=0.920), precision=(train=0.965, test=0.958), recall=(train=0.965, test=0.885), roc_auc=(train=0.992, test=0.935), total=   0.0s\n",
      "[CV] logistic__C=0.01, logistic__penalty=none ........................\n",
      "[CV]  logistic__C=0.01, logistic__penalty=none, accuracy=(train=0.947, test=0.929), f1=(train=0.957, test=0.941), precision=(train=0.957, test=0.960), recall=(train=0.957, test=0.923), roc_auc=(train=0.986, test=0.995), total=   0.0s\n",
      "[CV] logistic__C=0.01, logistic__penalty=none ........................\n",
      "[CV]  logistic__C=0.01, logistic__penalty=none, accuracy=(train=0.949, test=0.881), f1=(train=0.959, test=0.902), precision=(train=0.961, test=0.920), recall=(train=0.957, test=0.885), roc_auc=(train=0.990, test=0.935), total=   0.0s\n",
      "[CV] logistic__C=0.01, logistic__penalty=none ........................\n",
      "[CV]  logistic__C=0.01, logistic__penalty=none, accuracy=(train=0.947, test=0.905), f1=(train=0.956, test=0.917), precision=(train=0.965, test=1.000), recall=(train=0.948, test=0.846), roc_auc=(train=0.987, test=0.962), total=   0.0s\n",
      "[CV] logistic__C=0.01, logistic__penalty=none ........................\n"
     ]
    },
    {
     "name": "stderr",
     "output_type": "stream",
     "text": [
      "C:\\Users\\User\\anaconda3\\envs\\bm-336546\\lib\\site-packages\\sklearn\\linear_model\\_logistic.py:1321: UserWarning: Setting penalty='none' will ignore the C and l1_ratio parameters\n",
      "  \"Setting penalty='none' will ignore the C and l1_ratio \"\n",
      "C:\\Users\\User\\anaconda3\\envs\\bm-336546\\lib\\site-packages\\sklearn\\linear_model\\_logistic.py:1321: UserWarning: Setting penalty='none' will ignore the C and l1_ratio parameters\n",
      "  \"Setting penalty='none' will ignore the C and l1_ratio \"\n",
      "C:\\Users\\User\\anaconda3\\envs\\bm-336546\\lib\\site-packages\\sklearn\\linear_model\\_logistic.py:1321: UserWarning: Setting penalty='none' will ignore the C and l1_ratio parameters\n",
      "  \"Setting penalty='none' will ignore the C and l1_ratio \"\n",
      "C:\\Users\\User\\anaconda3\\envs\\bm-336546\\lib\\site-packages\\sklearn\\linear_model\\_logistic.py:1321: UserWarning: Setting penalty='none' will ignore the C and l1_ratio parameters\n",
      "  \"Setting penalty='none' will ignore the C and l1_ratio \"\n"
     ]
    },
    {
     "name": "stdout",
     "output_type": "stream",
     "text": [
      "[CV]  logistic__C=0.01, logistic__penalty=none, accuracy=(train=0.949, test=0.952), f1=(train=0.959, test=0.963), precision=(train=0.961, test=0.929), recall=(train=0.957, test=1.000), roc_auc=(train=0.986, test=1.000), total=   0.0s\n",
      "[CV] logistic__C=0.01, logistic__penalty=none ........................\n",
      "[CV]  logistic__C=0.01, logistic__penalty=none, accuracy=(train=0.955, test=0.929), f1=(train=0.963, test=0.941), precision=(train=0.978, test=0.923), recall=(train=0.948, test=0.960), roc_auc=(train=0.988, test=0.960), total=   0.0s\n",
      "[CV] logistic__C=0.01, logistic__penalty=none ........................\n",
      "[CV]  logistic__C=0.01, logistic__penalty=none, accuracy=(train=0.939, test=0.976), f1=(train=0.950, test=0.980), precision=(train=0.952, test=0.962), recall=(train=0.948, test=1.000), roc_auc=(train=0.985, test=1.000), total=   0.0s\n",
      "[CV] logistic__C=0.01, logistic__penalty=none ........................\n",
      "[CV]  logistic__C=0.01, logistic__penalty=none, accuracy=(train=0.955, test=0.951), f1=(train=0.963, test=0.960), precision=(train=0.978, test=0.960), recall=(train=0.948, test=0.960), roc_auc=(train=0.985, test=0.990), total=   0.0s\n",
      "[CV] logistic__C=0.001, logistic__penalty=l2 .........................\n",
      "[CV]  logistic__C=0.001, logistic__penalty=l2, accuracy=(train=0.652, test=0.738), f1=(train=0.779, test=0.825), precision=(train=0.638, test=0.703), recall=(train=1.000, test=1.000), roc_auc=(train=0.851, test=0.901), total=   0.0s\n",
      "[CV] logistic__C=0.001, logistic__penalty=l2 .........................\n",
      "[CV]  logistic__C=0.001, logistic__penalty=l2, accuracy=(train=0.665, test=0.667), f1=(train=0.785, test=0.788), precision=(train=0.648, test=0.650), recall=(train=0.996, test=1.000), roc_auc=(train=0.835, test=0.913), total=   0.0s\n",
      "[CV] logistic__C=0.001, logistic__penalty=l2 .........................\n",
      "[CV]  logistic__C=0.001, logistic__penalty=l2, accuracy=(train=0.678, test=0.667), f1=(train=0.792, test=0.781), precision=(train=0.657, test=0.658), recall=(train=0.996, test=0.962), roc_auc=(train=0.832, test=0.757), total=   0.0s\n",
      "[CV] logistic__C=0.001, logistic__penalty=l2 .........................\n",
      "[CV]  logistic__C=0.001, logistic__penalty=l2, accuracy=(train=0.676, test=0.667), f1=(train=0.790, test=0.774), precision=(train=0.655, test=0.667), recall=(train=0.996, test=0.923), roc_auc=(train=0.822, test=0.755), total=   0.0s\n",
      "[CV] logistic__C=0.001, logistic__penalty=l2 .........................\n",
      "[CV]  logistic__C=0.001, logistic__penalty=l2, accuracy=(train=0.681, test=0.643), f1=(train=0.792, test=0.776), precision=(train=0.660, test=0.634), recall=(train=0.991, test=1.000), roc_auc=(train=0.835, test=0.726), total=   0.0s\n",
      "[CV] logistic__C=0.001, logistic__penalty=l2 .........................\n",
      "[CV]  logistic__C=0.001, logistic__penalty=l2, accuracy=(train=0.662, test=0.667), f1=(train=0.784, test=0.788), precision=(train=0.645, test=0.650), recall=(train=1.000, test=1.000), roc_auc=(train=0.846, test=0.892), total=   0.0s\n",
      "[CV] logistic__C=0.001, logistic__penalty=l2 .........................\n",
      "[CV]  logistic__C=0.001, logistic__penalty=l2, accuracy=(train=0.665, test=0.643), f1=(train=0.785, test=0.776), precision=(train=0.648, test=0.634), recall=(train=0.996, test=1.000), roc_auc=(train=0.838, test=0.882), total=   0.0s\n",
      "[CV] logistic__C=0.001, logistic__penalty=l2 .........................\n",
      "[CV]  logistic__C=0.001, logistic__penalty=l2, accuracy=(train=0.660, test=0.690), f1=(train=0.784, test=0.794), precision=(train=0.644, test=0.658), recall=(train=1.000, test=1.000), roc_auc=(train=0.854, test=0.828), total=   0.0s\n",
      "[CV] logistic__C=0.001, logistic__penalty=l2 .........................\n",
      "[CV]  logistic__C=0.001, logistic__penalty=l2, accuracy=(train=0.682, test=0.610), f1=(train=0.793, test=0.758), precision=(train=0.661, test=0.610), recall=(train=0.991, test=1.000), roc_auc=(train=0.819, test=0.790), total=   0.0s\n",
      "[CV] logistic__C=0.001, logistic__penalty=l2 .........................\n",
      "[CV]  logistic__C=0.001, logistic__penalty=l2, accuracy=(train=0.666, test=0.659), f1=(train=0.786, test=0.781), precision=(train=0.649, test=0.641), recall=(train=0.996, test=1.000), roc_auc=(train=0.832, test=0.858), total=   0.0s\n",
      "[CV] logistic__C=0.001, logistic__penalty=none .......................\n",
      "[CV]  logistic__C=0.001, logistic__penalty=none, accuracy=(train=0.936, test=0.976), f1=(train=0.948, test=0.980), precision=(train=0.952, test=1.000), recall=(train=0.944, test=0.962), roc_auc=(train=0.985, test=0.998), total=   0.0s\n",
      "[CV] logistic__C=0.001, logistic__penalty=none .......................\n",
      "[CV]  logistic__C=0.001, logistic__penalty=none, accuracy=(train=0.949, test=0.905), f1=(train=0.958, test=0.926), precision=(train=0.969, test=0.893), recall=(train=0.948, test=0.962), roc_auc=(train=0.986, test=0.983), total=   0.0s\n",
      "[CV] logistic__C=0.001, logistic__penalty=none .......................\n",
      "[CV]  logistic__C=0.001, logistic__penalty=none, accuracy=(train=0.957, test=0.905), f1=(train=0.965, test=0.920), precision=(train=0.965, test=0.958), recall=(train=0.965, test=0.885), roc_auc=(train=0.992, test=0.935), total=   0.0s\n",
      "[CV] logistic__C=0.001, logistic__penalty=none .......................\n",
      "[CV]  logistic__C=0.001, logistic__penalty=none, accuracy=(train=0.947, test=0.929), f1=(train=0.957, test=0.941), precision=(train=0.957, test=0.960), recall=(train=0.957, test=0.923), roc_auc=(train=0.986, test=0.995), total=   0.0s\n",
      "[CV] logistic__C=0.001, logistic__penalty=none .......................\n"
     ]
    },
    {
     "name": "stderr",
     "output_type": "stream",
     "text": [
      "C:\\Users\\User\\anaconda3\\envs\\bm-336546\\lib\\site-packages\\sklearn\\linear_model\\_logistic.py:1321: UserWarning: Setting penalty='none' will ignore the C and l1_ratio parameters\n",
      "  \"Setting penalty='none' will ignore the C and l1_ratio \"\n",
      "C:\\Users\\User\\anaconda3\\envs\\bm-336546\\lib\\site-packages\\sklearn\\linear_model\\_logistic.py:1321: UserWarning: Setting penalty='none' will ignore the C and l1_ratio parameters\n",
      "  \"Setting penalty='none' will ignore the C and l1_ratio \"\n",
      "C:\\Users\\User\\anaconda3\\envs\\bm-336546\\lib\\site-packages\\sklearn\\linear_model\\_logistic.py:1321: UserWarning: Setting penalty='none' will ignore the C and l1_ratio parameters\n",
      "  \"Setting penalty='none' will ignore the C and l1_ratio \"\n",
      "C:\\Users\\User\\anaconda3\\envs\\bm-336546\\lib\\site-packages\\sklearn\\linear_model\\_logistic.py:1321: UserWarning: Setting penalty='none' will ignore the C and l1_ratio parameters\n",
      "  \"Setting penalty='none' will ignore the C and l1_ratio \"\n",
      "C:\\Users\\User\\anaconda3\\envs\\bm-336546\\lib\\site-packages\\sklearn\\linear_model\\_logistic.py:1321: UserWarning: Setting penalty='none' will ignore the C and l1_ratio parameters\n",
      "  \"Setting penalty='none' will ignore the C and l1_ratio \"\n",
      "C:\\Users\\User\\anaconda3\\envs\\bm-336546\\lib\\site-packages\\sklearn\\linear_model\\_logistic.py:1321: UserWarning: Setting penalty='none' will ignore the C and l1_ratio parameters\n",
      "  \"Setting penalty='none' will ignore the C and l1_ratio \"\n"
     ]
    },
    {
     "name": "stdout",
     "output_type": "stream",
     "text": [
      "[CV]  logistic__C=0.001, logistic__penalty=none, accuracy=(train=0.949, test=0.881), f1=(train=0.959, test=0.902), precision=(train=0.961, test=0.920), recall=(train=0.957, test=0.885), roc_auc=(train=0.990, test=0.935), total=   0.0s\n",
      "[CV] logistic__C=0.001, logistic__penalty=none .......................\n",
      "[CV]  logistic__C=0.001, logistic__penalty=none, accuracy=(train=0.947, test=0.905), f1=(train=0.956, test=0.917), precision=(train=0.965, test=1.000), recall=(train=0.948, test=0.846), roc_auc=(train=0.987, test=0.962), total=   0.0s\n",
      "[CV] logistic__C=0.001, logistic__penalty=none .......................\n",
      "[CV]  logistic__C=0.001, logistic__penalty=none, accuracy=(train=0.949, test=0.952), f1=(train=0.959, test=0.963), precision=(train=0.961, test=0.929), recall=(train=0.957, test=1.000), roc_auc=(train=0.986, test=1.000), total=   0.0s\n",
      "[CV] logistic__C=0.001, logistic__penalty=none .......................\n",
      "[CV]  logistic__C=0.001, logistic__penalty=none, accuracy=(train=0.955, test=0.929), f1=(train=0.963, test=0.941), precision=(train=0.978, test=0.923), recall=(train=0.948, test=0.960), roc_auc=(train=0.988, test=0.960), total=   0.0s\n",
      "[CV] logistic__C=0.001, logistic__penalty=none .......................\n",
      "[CV]  logistic__C=0.001, logistic__penalty=none, accuracy=(train=0.939, test=0.976), f1=(train=0.950, test=0.980), precision=(train=0.952, test=0.962), recall=(train=0.948, test=1.000), roc_auc=(train=0.985, test=1.000), total=   0.0s\n",
      "[CV] logistic__C=0.001, logistic__penalty=none .......................\n",
      "[CV]  logistic__C=0.001, logistic__penalty=none, accuracy=(train=0.955, test=0.951), f1=(train=0.963, test=0.960), precision=(train=0.978, test=0.960), recall=(train=0.948, test=0.960), roc_auc=(train=0.985, test=0.990), total=   0.0s\n",
      "{'logistic__C': 1.0, 'logistic__penalty': 'l2'}\n"
     ]
    },
    {
     "name": "stderr",
     "output_type": "stream",
     "text": [
      "C:\\Users\\User\\anaconda3\\envs\\bm-336546\\lib\\site-packages\\sklearn\\linear_model\\_logistic.py:1321: UserWarning: Setting penalty='none' will ignore the C and l1_ratio parameters\n",
      "  \"Setting penalty='none' will ignore the C and l1_ratio \"\n",
      "C:\\Users\\User\\anaconda3\\envs\\bm-336546\\lib\\site-packages\\sklearn\\linear_model\\_logistic.py:1321: UserWarning: Setting penalty='none' will ignore the C and l1_ratio parameters\n",
      "  \"Setting penalty='none' will ignore the C and l1_ratio \"\n",
      "C:\\Users\\User\\anaconda3\\envs\\bm-336546\\lib\\site-packages\\sklearn\\linear_model\\_logistic.py:1321: UserWarning: Setting penalty='none' will ignore the C and l1_ratio parameters\n",
      "  \"Setting penalty='none' will ignore the C and l1_ratio \"\n",
      "C:\\Users\\User\\anaconda3\\envs\\bm-336546\\lib\\site-packages\\sklearn\\linear_model\\_logistic.py:1321: UserWarning: Setting penalty='none' will ignore the C and l1_ratio parameters\n",
      "  \"Setting penalty='none' will ignore the C and l1_ratio \"\n",
      "[Parallel(n_jobs=1)]: Done 120 out of 120 | elapsed:    3.8s finished\n"
     ]
    }
   ],
   "source": [
    "from sklearn.model_selection import GridSearchCV,StratifiedKFold\n",
    "from sklearn.pipeline import Pipeline\n",
    "from sklearn.preprocessing import StandardScaler\n",
    "\n",
    "max_iter = 2000\n",
    "n_splits = 10\n",
    "skf = StratifiedKFold(n_splits=n_splits, random_state=10, shuffle=True)\n",
    "log_reg = LogisticRegression(random_state=5, max_iter=max_iter,solver='lbfgs')\n",
    "lmbda = np.array([0.01, 0.01, 1, 10, 100, 1000])\n",
    "pipe = Pipeline(steps=[('logistic', log_reg)])\n",
    "clf = GridSearchCV(estimator=pipe, param_grid={'logistic__C': 1/lmbda, 'logistic__penalty': ['l2', 'none']},\n",
    "                   scoring=['accuracy','f1','precision','recall','roc_auc'], cv=skf,\n",
    "                   refit='roc_auc', verbose=3, return_train_score=True)\n",
    "clf.fit(X_train, Y_train)\n",
    "print(clf.best_params_)\n",
    "best_log_reg = clf.best_estimator_"
   ]
  },
  {
   "cell_type": "markdown",
   "metadata": {},
   "source": [
    "5.a.2 non-linear svm with k fold cross validation"
   ]
  },
  {
   "cell_type": "code",
   "execution_count": 13,
   "metadata": {},
   "outputs": [
    {
     "name": "stdout",
     "output_type": "stream",
     "text": [
      "Fitting 10 folds for each of 24 candidates, totalling 240 fits\n",
      "[CV] svm__C=0.001, svm__degree=3, svm__gamma=auto, svm__kernel=rbf ...\n",
      "[CV]  svm__C=0.001, svm__degree=3, svm__gamma=auto, svm__kernel=rbf, accuracy=(train=0.614, test=0.619), f1=(train=0.761, test=0.765), precision=(train=0.614, test=0.619), recall=(train=1.000, test=1.000), roc_auc=(train=0.938, test=0.962), total=   0.0s\n",
      "[CV] svm__C=0.001, svm__degree=3, svm__gamma=auto, svm__kernel=rbf ...\n",
      "[CV]  svm__C=0.001, svm__degree=3, svm__gamma=auto, svm__kernel=rbf, accuracy=(train=0.614, test=0.619), f1=(train=0.761, test=0.765), precision=(train=0.614, test=0.619), recall=(train=1.000, test=1.000), roc_auc=(train=0.936, test=0.940), total=   0.0s\n",
      "[CV] svm__C=0.001, svm__degree=3, svm__gamma=auto, svm__kernel=rbf ...\n",
      "[CV]  svm__C=0.001, svm__degree=3, svm__gamma=auto, svm__kernel=rbf, accuracy=(train=0.614, test=0.619), f1=(train=0.761, test=0.765), precision=(train=0.614, test=0.619), recall=(train=1.000, test=1.000), roc_auc=(train=0.939, test=0.808), total=   0.0s\n",
      "[CV] svm__C=0.001, svm__degree=3, svm__gamma=auto, svm__kernel=rbf ...\n",
      "[CV]  svm__C=0.001, svm__degree=3, svm__gamma=auto, svm__kernel=rbf, accuracy=(train=0.614, test=0.619), f1=(train=0.761, test=0.765), precision=(train=0.614, test=0.619), recall=(train=1.000, test=1.000), roc_auc=(train=0.931, test=0.921), total=   0.0s\n",
      "[CV] svm__C=0.001, svm__degree=3, svm__gamma=auto, svm__kernel=rbf ...\n"
     ]
    },
    {
     "name": "stderr",
     "output_type": "stream",
     "text": [
      "[Parallel(n_jobs=1)]: Using backend SequentialBackend with 1 concurrent workers.\n",
      "[Parallel(n_jobs=1)]: Done   1 out of   1 | elapsed:    0.0s remaining:    0.0s\n",
      "[Parallel(n_jobs=1)]: Done   2 out of   2 | elapsed:    0.0s remaining:    0.0s\n"
     ]
    },
    {
     "name": "stdout",
     "output_type": "stream",
     "text": [
      "[CV]  svm__C=0.001, svm__degree=3, svm__gamma=auto, svm__kernel=rbf, accuracy=(train=0.614, test=0.619), f1=(train=0.761, test=0.765), precision=(train=0.614, test=0.619), recall=(train=1.000, test=1.000), roc_auc=(train=0.936, test=0.810), total=   0.0s\n",
      "[CV] svm__C=0.001, svm__degree=3, svm__gamma=auto, svm__kernel=rbf ...\n",
      "[CV]  svm__C=0.001, svm__degree=3, svm__gamma=auto, svm__kernel=rbf, accuracy=(train=0.614, test=0.619), f1=(train=0.761, test=0.765), precision=(train=0.614, test=0.619), recall=(train=1.000, test=1.000), roc_auc=(train=0.933, test=0.942), total=   0.0s\n",
      "[CV] svm__C=0.001, svm__degree=3, svm__gamma=auto, svm__kernel=rbf ...\n",
      "[CV]  svm__C=0.001, svm__degree=3, svm__gamma=auto, svm__kernel=rbf, accuracy=(train=0.614, test=0.619), f1=(train=0.761, test=0.765), precision=(train=0.614, test=0.619), recall=(train=1.000, test=1.000), roc_auc=(train=0.939, test=0.933), total=   0.0s\n",
      "[CV] svm__C=0.001, svm__degree=3, svm__gamma=auto, svm__kernel=rbf ...\n",
      "[CV]  svm__C=0.001, svm__degree=3, svm__gamma=auto, svm__kernel=rbf, accuracy=(train=0.617, test=0.595), f1=(train=0.763, test=0.746), precision=(train=0.617, test=0.595), recall=(train=1.000, test=1.000), roc_auc=(train=0.943, test=0.892), total=   0.0s\n",
      "[CV] svm__C=0.001, svm__degree=3, svm__gamma=auto, svm__kernel=rbf ...\n",
      "[CV]  svm__C=0.001, svm__degree=3, svm__gamma=auto, svm__kernel=rbf, accuracy=(train=0.615, test=0.610), f1=(train=0.762, test=0.758), precision=(train=0.615, test=0.610), recall=(train=1.000, test=1.000), roc_auc=(train=0.922, test=0.950), total=   0.0s\n",
      "[CV] svm__C=0.001, svm__degree=3, svm__gamma=auto, svm__kernel=rbf ...\n",
      "[CV]  svm__C=0.001, svm__degree=3, svm__gamma=auto, svm__kernel=rbf, accuracy=(train=0.615, test=0.610), f1=(train=0.762, test=0.758), precision=(train=0.615, test=0.610), recall=(train=1.000, test=1.000), roc_auc=(train=0.929, test=0.910), total=   0.0s\n",
      "[CV] svm__C=0.001, svm__degree=3, svm__gamma=auto, svm__kernel=poly ..\n",
      "[CV]  svm__C=0.001, svm__degree=3, svm__gamma=auto, svm__kernel=poly, accuracy=(train=0.944, test=0.976), f1=(train=0.953, test=0.980), precision=(train=0.977, test=1.000), recall=(train=0.931, test=0.962), roc_auc=(train=0.979, test=0.998), total=   0.1s\n",
      "[CV] svm__C=0.001, svm__degree=3, svm__gamma=auto, svm__kernel=poly ..\n",
      "[CV]  svm__C=0.001, svm__degree=3, svm__gamma=auto, svm__kernel=poly, accuracy=(train=0.952, test=0.929), f1=(train=0.960, test=0.943), precision=(train=0.982, test=0.926), recall=(train=0.939, test=0.962), roc_auc=(train=0.982, test=0.986), total=   0.0s\n",
      "[CV] svm__C=0.001, svm__degree=3, svm__gamma=auto, svm__kernel=poly ..\n",
      "[CV]  svm__C=0.001, svm__degree=3, svm__gamma=auto, svm__kernel=poly, accuracy=(train=0.955, test=0.881), f1=(train=0.963, test=0.898), precision=(train=0.978, test=0.957), recall=(train=0.948, test=0.846), roc_auc=(train=0.987, test=0.923), total=   0.1s\n",
      "[CV] svm__C=0.001, svm__degree=3, svm__gamma=auto, svm__kernel=poly ..\n",
      "[CV]  svm__C=0.001, svm__degree=3, svm__gamma=auto, svm__kernel=poly, accuracy=(train=0.949, test=0.952), f1=(train=0.958, test=0.960), precision=(train=0.973, test=1.000), recall=(train=0.944, test=0.923), roc_auc=(train=0.979, test=0.986), total=   0.0s\n",
      "[CV] svm__C=0.001, svm__degree=3, svm__gamma=auto, svm__kernel=poly ..\n",
      "[CV]  svm__C=0.001, svm__degree=3, svm__gamma=auto, svm__kernel=poly, accuracy=(train=0.957, test=0.929), f1=(train=0.965, test=0.941), precision=(train=0.982, test=0.960), recall=(train=0.948, test=0.923), roc_auc=(train=0.985, test=0.942), total=   0.0s\n",
      "[CV] svm__C=0.001, svm__degree=3, svm__gamma=auto, svm__kernel=poly ..\n",
      "[CV]  svm__C=0.001, svm__degree=3, svm__gamma=auto, svm__kernel=poly, accuracy=(train=0.952, test=0.929), f1=(train=0.961, test=0.939), precision=(train=0.973, test=1.000), recall=(train=0.948, test=0.885), roc_auc=(train=0.983, test=0.964), total=   0.0s\n",
      "[CV] svm__C=0.001, svm__degree=3, svm__gamma=auto, svm__kernel=poly ..\n",
      "[CV]  svm__C=0.001, svm__degree=3, svm__gamma=auto, svm__kernel=poly, accuracy=(train=0.941, test=1.000), f1=(train=0.951, test=1.000), precision=(train=0.973, test=1.000), recall=(train=0.931, test=1.000), roc_auc=(train=0.981, test=1.000), total=   0.0s\n",
      "[CV] svm__C=0.001, svm__degree=3, svm__gamma=auto, svm__kernel=poly ..\n",
      "[CV]  svm__C=0.001, svm__degree=3, svm__gamma=auto, svm__kernel=poly, accuracy=(train=0.952, test=0.905), f1=(train=0.960, test=0.917), precision=(train=0.982, test=0.957), recall=(train=0.940, test=0.880), roc_auc=(train=0.985, test=0.967), total=   0.0s\n",
      "[CV] svm__C=0.001, svm__degree=3, svm__gamma=auto, svm__kernel=poly ..\n",
      "[CV]  svm__C=0.001, svm__degree=3, svm__gamma=auto, svm__kernel=poly, accuracy=(train=0.947, test=1.000), f1=(train=0.956, test=1.000), precision=(train=0.977, test=1.000), recall=(train=0.935, test=1.000), roc_auc=(train=0.980, test=1.000), total=   0.1s\n",
      "[CV] svm__C=0.001, svm__degree=3, svm__gamma=auto, svm__kernel=poly ..\n",
      "[CV]  svm__C=0.001, svm__degree=3, svm__gamma=auto, svm__kernel=poly, accuracy=(train=0.955, test=0.902), f1=(train=0.963, test=0.917), precision=(train=0.978, test=0.957), recall=(train=0.948, test=0.880), roc_auc=(train=0.980, test=0.980), total=   0.1s\n",
      "[CV] svm__C=0.001, svm__degree=3, svm__gamma=scale, svm__kernel=rbf ..\n",
      "[CV]  svm__C=0.001, svm__degree=3, svm__gamma=scale, svm__kernel=rbf, accuracy=(train=0.614, test=0.619), f1=(train=0.761, test=0.765), precision=(train=0.614, test=0.619), recall=(train=1.000, test=1.000), roc_auc=(train=0.953, test=0.925), total=   0.0s\n",
      "[CV] svm__C=0.001, svm__degree=3, svm__gamma=scale, svm__kernel=rbf ..\n",
      "[CV]  svm__C=0.001, svm__degree=3, svm__gamma=scale, svm__kernel=rbf, accuracy=(train=0.614, test=0.619), f1=(train=0.761, test=0.765), precision=(train=0.614, test=0.619), recall=(train=1.000, test=1.000), roc_auc=(train=0.915, test=0.947), total=   0.0s\n",
      "[CV] svm__C=0.001, svm__degree=3, svm__gamma=scale, svm__kernel=rbf ..\n",
      "[CV]  svm__C=0.001, svm__degree=3, svm__gamma=scale, svm__kernel=rbf, accuracy=(train=0.614, test=0.619), f1=(train=0.761, test=0.765), precision=(train=0.614, test=0.619), recall=(train=1.000, test=1.000), roc_auc=(train=0.805, test=0.709), total=   0.0s\n",
      "[CV] svm__C=0.001, svm__degree=3, svm__gamma=scale, svm__kernel=rbf ..\n",
      "[CV]  svm__C=0.001, svm__degree=3, svm__gamma=scale, svm__kernel=rbf, accuracy=(train=0.614, test=0.619), f1=(train=0.761, test=0.765), precision=(train=0.614, test=0.619), recall=(train=1.000, test=1.000), roc_auc=(train=0.800, test=0.724), total=   0.0s\n",
      "[CV] svm__C=0.001, svm__degree=3, svm__gamma=scale, svm__kernel=rbf ..\n",
      "[CV]  svm__C=0.001, svm__degree=3, svm__gamma=scale, svm__kernel=rbf, accuracy=(train=0.614, test=0.619), f1=(train=0.761, test=0.765), precision=(train=0.614, test=0.619), recall=(train=1.000, test=1.000), roc_auc=(train=0.906, test=0.817), total=   0.0s\n",
      "[CV] svm__C=0.001, svm__degree=3, svm__gamma=scale, svm__kernel=rbf ..\n",
      "[CV]  svm__C=0.001, svm__degree=3, svm__gamma=scale, svm__kernel=rbf, accuracy=(train=0.614, test=0.619), f1=(train=0.761, test=0.765), precision=(train=0.614, test=0.619), recall=(train=1.000, test=1.000), roc_auc=(train=0.948, test=0.882), total=   0.0s\n",
      "[CV] svm__C=0.001, svm__degree=3, svm__gamma=scale, svm__kernel=rbf ..\n",
      "[CV]  svm__C=0.001, svm__degree=3, svm__gamma=scale, svm__kernel=rbf, accuracy=(train=0.614, test=0.619), f1=(train=0.761, test=0.765), precision=(train=0.614, test=0.619), recall=(train=1.000, test=1.000), roc_auc=(train=0.913, test=0.969), total=   0.0s\n",
      "[CV] svm__C=0.001, svm__degree=3, svm__gamma=scale, svm__kernel=rbf ..\n",
      "[CV]  svm__C=0.001, svm__degree=3, svm__gamma=scale, svm__kernel=rbf, accuracy=(train=0.617, test=0.595), f1=(train=0.763, test=0.746), precision=(train=0.617, test=0.595), recall=(train=1.000, test=1.000), roc_auc=(train=0.935, test=0.960), total=   0.0s\n",
      "[CV] svm__C=0.001, svm__degree=3, svm__gamma=scale, svm__kernel=rbf ..\n",
      "[CV]  svm__C=0.001, svm__degree=3, svm__gamma=scale, svm__kernel=rbf, accuracy=(train=0.615, test=0.610), f1=(train=0.762, test=0.758), precision=(train=0.615, test=0.610), recall=(train=1.000, test=1.000), roc_auc=(train=0.872, test=0.885), total=   0.0s\n",
      "[CV] svm__C=0.001, svm__degree=3, svm__gamma=scale, svm__kernel=rbf ..\n",
      "[CV]  svm__C=0.001, svm__degree=3, svm__gamma=scale, svm__kernel=rbf, accuracy=(train=0.615, test=0.610), f1=(train=0.762, test=0.758), precision=(train=0.615, test=0.610), recall=(train=1.000, test=1.000), roc_auc=(train=0.913, test=0.955), total=   0.0s\n",
      "[CV] svm__C=0.001, svm__degree=3, svm__gamma=scale, svm__kernel=poly .\n",
      "[CV]  svm__C=0.001, svm__degree=3, svm__gamma=scale, svm__kernel=poly, accuracy=(train=0.614, test=0.619), f1=(train=0.761, test=0.765), precision=(train=0.614, test=0.619), recall=(train=1.000, test=1.000), roc_auc=(train=0.950, test=0.916), total=   0.0s\n",
      "[CV] svm__C=0.001, svm__degree=3, svm__gamma=scale, svm__kernel=poly .\n",
      "[CV]  svm__C=0.001, svm__degree=3, svm__gamma=scale, svm__kernel=poly, accuracy=(train=0.614, test=0.619), f1=(train=0.761, test=0.765), precision=(train=0.614, test=0.619), recall=(train=1.000, test=1.000), roc_auc=(train=0.946, test=0.974), total=   0.0s\n",
      "[CV] svm__C=0.001, svm__degree=3, svm__gamma=scale, svm__kernel=poly .\n",
      "[CV]  svm__C=0.001, svm__degree=3, svm__gamma=scale, svm__kernel=poly, accuracy=(train=0.614, test=0.619), f1=(train=0.761, test=0.765), precision=(train=0.614, test=0.619), recall=(train=1.000, test=1.000), roc_auc=(train=0.975, test=0.899), total=   0.0s\n",
      "[CV] svm__C=0.001, svm__degree=3, svm__gamma=scale, svm__kernel=poly .\n",
      "[CV]  svm__C=0.001, svm__degree=3, svm__gamma=scale, svm__kernel=poly, accuracy=(train=0.614, test=0.619), f1=(train=0.761, test=0.765), precision=(train=0.614, test=0.619), recall=(train=1.000, test=1.000), roc_auc=(train=0.945, test=0.954), total=   0.0s\n",
      "[CV] svm__C=0.001, svm__degree=3, svm__gamma=scale, svm__kernel=poly .\n",
      "[CV]  svm__C=0.001, svm__degree=3, svm__gamma=scale, svm__kernel=poly, accuracy=(train=0.614, test=0.619), f1=(train=0.761, test=0.765), precision=(train=0.614, test=0.619), recall=(train=1.000, test=1.000), roc_auc=(train=0.967, test=0.894), total=   0.0s\n",
      "[CV] svm__C=0.001, svm__degree=3, svm__gamma=scale, svm__kernel=poly .\n",
      "[CV]  svm__C=0.001, svm__degree=3, svm__gamma=scale, svm__kernel=poly, accuracy=(train=0.614, test=0.619), f1=(train=0.761, test=0.765), precision=(train=0.614, test=0.619), recall=(train=1.000, test=1.000), roc_auc=(train=0.969, test=0.954), total=   0.0s\n",
      "[CV] svm__C=0.001, svm__degree=3, svm__gamma=scale, svm__kernel=poly .\n",
      "[CV]  svm__C=0.001, svm__degree=3, svm__gamma=scale, svm__kernel=poly, accuracy=(train=0.614, test=0.619), f1=(train=0.761, test=0.765), precision=(train=0.614, test=0.619), recall=(train=1.000, test=1.000), roc_auc=(train=0.957, test=0.993), total=   0.0s\n",
      "[CV] svm__C=0.001, svm__degree=3, svm__gamma=scale, svm__kernel=poly .\n",
      "[CV]  svm__C=0.001, svm__degree=3, svm__gamma=scale, svm__kernel=poly, accuracy=(train=0.617, test=0.595), f1=(train=0.763, test=0.746), precision=(train=0.617, test=0.595), recall=(train=1.000, test=1.000), roc_auc=(train=0.941, test=0.901), total=   0.0s\n",
      "[CV] svm__C=0.001, svm__degree=3, svm__gamma=scale, svm__kernel=poly .\n",
      "[CV]  svm__C=0.001, svm__degree=3, svm__gamma=scale, svm__kernel=poly, accuracy=(train=0.615, test=0.610), f1=(train=0.762, test=0.758), precision=(train=0.615, test=0.610), recall=(train=1.000, test=1.000), roc_auc=(train=0.956, test=1.000), total=   0.0s\n",
      "[CV] svm__C=0.001, svm__degree=3, svm__gamma=scale, svm__kernel=poly .\n",
      "[CV]  svm__C=0.001, svm__degree=3, svm__gamma=scale, svm__kernel=poly, accuracy=(train=0.615, test=0.610), f1=(train=0.762, test=0.758), precision=(train=0.615, test=0.610), recall=(train=1.000, test=1.000), roc_auc=(train=0.959, test=0.975), total=   0.0s\n",
      "[CV] svm__C=0.01, svm__degree=3, svm__gamma=auto, svm__kernel=rbf ....\n",
      "[CV]  svm__C=0.01, svm__degree=3, svm__gamma=auto, svm__kernel=rbf, accuracy=(train=0.614, test=0.619), f1=(train=0.761, test=0.765), precision=(train=0.614, test=0.619), recall=(train=1.000, test=1.000), roc_auc=(train=0.937, test=0.959), total=   0.0s\n",
      "[CV] svm__C=0.01, svm__degree=3, svm__gamma=auto, svm__kernel=rbf ....\n",
      "[CV]  svm__C=0.01, svm__degree=3, svm__gamma=auto, svm__kernel=rbf, accuracy=(train=0.614, test=0.619), f1=(train=0.761, test=0.765), precision=(train=0.614, test=0.619), recall=(train=1.000, test=1.000), roc_auc=(train=0.937, test=0.940), total=   0.0s\n",
      "[CV] svm__C=0.01, svm__degree=3, svm__gamma=auto, svm__kernel=rbf ....\n",
      "[CV]  svm__C=0.01, svm__degree=3, svm__gamma=auto, svm__kernel=rbf, accuracy=(train=0.614, test=0.619), f1=(train=0.761, test=0.765), precision=(train=0.614, test=0.619), recall=(train=1.000, test=1.000), roc_auc=(train=0.937, test=0.808), total=   0.0s\n",
      "[CV] svm__C=0.01, svm__degree=3, svm__gamma=auto, svm__kernel=rbf ....\n",
      "[CV]  svm__C=0.01, svm__degree=3, svm__gamma=auto, svm__kernel=rbf, accuracy=(train=0.614, test=0.619), f1=(train=0.761, test=0.765), precision=(train=0.614, test=0.619), recall=(train=1.000, test=1.000), roc_auc=(train=0.929, test=0.913), total=   0.0s\n",
      "[CV] svm__C=0.01, svm__degree=3, svm__gamma=auto, svm__kernel=rbf ....\n",
      "[CV]  svm__C=0.01, svm__degree=3, svm__gamma=auto, svm__kernel=rbf, accuracy=(train=0.614, test=0.619), f1=(train=0.761, test=0.765), precision=(train=0.614, test=0.619), recall=(train=1.000, test=1.000), roc_auc=(train=0.936, test=0.808), total=   0.0s\n",
      "[CV] svm__C=0.01, svm__degree=3, svm__gamma=auto, svm__kernel=rbf ....\n",
      "[CV]  svm__C=0.01, svm__degree=3, svm__gamma=auto, svm__kernel=rbf, accuracy=(train=0.614, test=0.619), f1=(train=0.761, test=0.765), precision=(train=0.614, test=0.619), recall=(train=1.000, test=1.000), roc_auc=(train=0.934, test=0.942), total=   0.0s\n",
      "[CV] svm__C=0.01, svm__degree=3, svm__gamma=auto, svm__kernel=rbf ....\n",
      "[CV]  svm__C=0.01, svm__degree=3, svm__gamma=auto, svm__kernel=rbf, accuracy=(train=0.614, test=0.619), f1=(train=0.761, test=0.765), precision=(train=0.614, test=0.619), recall=(train=1.000, test=1.000), roc_auc=(train=0.937, test=0.933), total=   0.0s\n",
      "[CV] svm__C=0.01, svm__degree=3, svm__gamma=auto, svm__kernel=rbf ....\n",
      "[CV]  svm__C=0.01, svm__degree=3, svm__gamma=auto, svm__kernel=rbf, accuracy=(train=0.617, test=0.595), f1=(train=0.763, test=0.746), precision=(train=0.617, test=0.595), recall=(train=1.000, test=1.000), roc_auc=(train=0.943, test=0.889), total=   0.0s\n",
      "[CV] svm__C=0.01, svm__degree=3, svm__gamma=auto, svm__kernel=rbf ....\n",
      "[CV]  svm__C=0.01, svm__degree=3, svm__gamma=auto, svm__kernel=rbf, accuracy=(train=0.615, test=0.610), f1=(train=0.762, test=0.758), precision=(train=0.615, test=0.610), recall=(train=1.000, test=1.000), roc_auc=(train=0.920, test=0.943), total=   0.0s\n",
      "[CV] svm__C=0.01, svm__degree=3, svm__gamma=auto, svm__kernel=rbf ....\n",
      "[CV]  svm__C=0.01, svm__degree=3, svm__gamma=auto, svm__kernel=rbf, accuracy=(train=0.615, test=0.610), f1=(train=0.762, test=0.758), precision=(train=0.615, test=0.610), recall=(train=1.000, test=1.000), roc_auc=(train=0.927, test=0.905), total=   0.0s\n",
      "[CV] svm__C=0.01, svm__degree=3, svm__gamma=auto, svm__kernel=poly ...\n",
      "[CV]  svm__C=0.01, svm__degree=3, svm__gamma=auto, svm__kernel=poly, accuracy=(train=0.955, test=0.976), f1=(train=0.963, test=0.980), precision=(train=0.978, test=1.000), recall=(train=0.948, test=0.962), roc_auc=(train=0.986, test=0.981), total=   0.1s\n",
      "[CV] svm__C=0.01, svm__degree=3, svm__gamma=auto, svm__kernel=poly ...\n",
      "[CV]  svm__C=0.01, svm__degree=3, svm__gamma=auto, svm__kernel=poly, accuracy=(train=0.960, test=0.929), f1=(train=0.967, test=0.943), precision=(train=0.986, test=0.926), recall=(train=0.948, test=0.962), roc_auc=(train=0.987, test=0.988), total=   0.1s\n",
      "[CV] svm__C=0.01, svm__degree=3, svm__gamma=auto, svm__kernel=poly ...\n",
      "[CV]  svm__C=0.01, svm__degree=3, svm__gamma=auto, svm__kernel=poly, accuracy=(train=0.963, test=0.905), f1=(train=0.970, test=0.920), precision=(train=0.974, test=0.958), recall=(train=0.965, test=0.885), roc_auc=(train=0.990, test=0.935), total=   0.1s\n",
      "[CV] svm__C=0.01, svm__degree=3, svm__gamma=auto, svm__kernel=poly ...\n",
      "[CV]  svm__C=0.01, svm__degree=3, svm__gamma=auto, svm__kernel=poly, accuracy=(train=0.960, test=0.952), f1=(train=0.967, test=0.960), precision=(train=0.978, test=1.000), recall=(train=0.957, test=0.923), roc_auc=(train=0.985, test=0.976), total=   0.1s\n",
      "[CV] svm__C=0.01, svm__degree=3, svm__gamma=auto, svm__kernel=poly ...\n",
      "[CV]  svm__C=0.01, svm__degree=3, svm__gamma=auto, svm__kernel=poly, accuracy=(train=0.960, test=0.929), f1=(train=0.967, test=0.941), precision=(train=0.982, test=0.960), recall=(train=0.952, test=0.923), roc_auc=(train=0.991, test=0.947), total=   0.1s\n",
      "[CV] svm__C=0.01, svm__degree=3, svm__gamma=auto, svm__kernel=poly ...\n",
      "[CV]  svm__C=0.01, svm__degree=3, svm__gamma=auto, svm__kernel=poly, accuracy=(train=0.957, test=0.905), f1=(train=0.965, test=0.917), precision=(train=0.978, test=1.000), recall=(train=0.952, test=0.846), roc_auc=(train=0.986, test=0.974), total=   0.2s\n",
      "[CV] svm__C=0.01, svm__degree=3, svm__gamma=auto, svm__kernel=poly ...\n",
      "[CV]  svm__C=0.01, svm__degree=3, svm__gamma=auto, svm__kernel=poly, accuracy=(train=0.952, test=1.000), f1=(train=0.960, test=1.000), precision=(train=0.978, test=1.000), recall=(train=0.944, test=1.000), roc_auc=(train=0.986, test=1.000), total=   0.1s\n",
      "[CV] svm__C=0.01, svm__degree=3, svm__gamma=auto, svm__kernel=poly ...\n",
      "[CV]  svm__C=0.01, svm__degree=3, svm__gamma=auto, svm__kernel=poly, accuracy=(train=0.955, test=0.905), f1=(train=0.963, test=0.917), precision=(train=0.982, test=0.957), recall=(train=0.944, test=0.880), roc_auc=(train=0.988, test=0.965), total=   0.1s\n",
      "[CV] svm__C=0.01, svm__degree=3, svm__gamma=auto, svm__kernel=poly ...\n",
      "[CV]  svm__C=0.01, svm__degree=3, svm__gamma=auto, svm__kernel=poly, accuracy=(train=0.955, test=1.000), f1=(train=0.963, test=1.000), precision=(train=0.978, test=1.000), recall=(train=0.948, test=1.000), roc_auc=(train=0.985, test=1.000), total=   0.1s\n",
      "[CV] svm__C=0.01, svm__degree=3, svm__gamma=auto, svm__kernel=poly ...\n",
      "[CV]  svm__C=0.01, svm__degree=3, svm__gamma=auto, svm__kernel=poly, accuracy=(train=0.960, test=0.902), f1=(train=0.967, test=0.917), precision=(train=0.982, test=0.957), recall=(train=0.953, test=0.880), roc_auc=(train=0.987, test=0.992), total=   0.1s\n",
      "[CV] svm__C=0.01, svm__degree=3, svm__gamma=scale, svm__kernel=rbf ...\n",
      "[CV]  svm__C=0.01, svm__degree=3, svm__gamma=scale, svm__kernel=rbf, accuracy=(train=0.614, test=0.619), f1=(train=0.761, test=0.765), precision=(train=0.614, test=0.619), recall=(train=1.000, test=1.000), roc_auc=(train=0.927, test=0.950), total=   0.0s\n",
      "[CV] svm__C=0.01, svm__degree=3, svm__gamma=scale, svm__kernel=rbf ...\n",
      "[CV]  svm__C=0.01, svm__degree=3, svm__gamma=scale, svm__kernel=rbf, accuracy=(train=0.614, test=0.619), f1=(train=0.761, test=0.765), precision=(train=0.614, test=0.619), recall=(train=1.000, test=1.000), roc_auc=(train=0.910, test=0.954), total=   0.0s\n",
      "[CV] svm__C=0.01, svm__degree=3, svm__gamma=scale, svm__kernel=rbf ...\n",
      "[CV]  svm__C=0.01, svm__degree=3, svm__gamma=scale, svm__kernel=rbf, accuracy=(train=0.614, test=0.619), f1=(train=0.761, test=0.765), precision=(train=0.614, test=0.619), recall=(train=1.000, test=1.000), roc_auc=(train=0.911, test=0.825), total=   0.0s\n",
      "[CV] svm__C=0.01, svm__degree=3, svm__gamma=scale, svm__kernel=rbf ...\n",
      "[CV]  svm__C=0.01, svm__degree=3, svm__gamma=scale, svm__kernel=rbf, accuracy=(train=0.614, test=0.619), f1=(train=0.761, test=0.765), precision=(train=0.614, test=0.619), recall=(train=1.000, test=1.000), roc_auc=(train=0.891, test=0.865), total=   0.0s\n",
      "[CV] svm__C=0.01, svm__degree=3, svm__gamma=scale, svm__kernel=rbf ...\n",
      "[CV]  svm__C=0.01, svm__degree=3, svm__gamma=scale, svm__kernel=rbf, accuracy=(train=0.614, test=0.619), f1=(train=0.761, test=0.765), precision=(train=0.614, test=0.619), recall=(train=1.000, test=1.000), roc_auc=(train=0.903, test=0.817), total=   0.0s\n",
      "[CV] svm__C=0.01, svm__degree=3, svm__gamma=scale, svm__kernel=rbf ...\n",
      "[CV]  svm__C=0.01, svm__degree=3, svm__gamma=scale, svm__kernel=rbf, accuracy=(train=0.614, test=0.619), f1=(train=0.761, test=0.765), precision=(train=0.614, test=0.619), recall=(train=1.000, test=1.000), roc_auc=(train=0.925, test=0.938), total=   0.0s\n",
      "[CV] svm__C=0.01, svm__degree=3, svm__gamma=scale, svm__kernel=rbf ...\n",
      "[CV]  svm__C=0.01, svm__degree=3, svm__gamma=scale, svm__kernel=rbf, accuracy=(train=0.614, test=0.619), f1=(train=0.761, test=0.765), precision=(train=0.614, test=0.619), recall=(train=1.000, test=1.000), roc_auc=(train=0.912, test=0.947), total=   0.0s\n",
      "[CV] svm__C=0.01, svm__degree=3, svm__gamma=scale, svm__kernel=rbf ...\n",
      "[CV]  svm__C=0.01, svm__degree=3, svm__gamma=scale, svm__kernel=rbf, accuracy=(train=0.617, test=0.595), f1=(train=0.763, test=0.746), precision=(train=0.617, test=0.595), recall=(train=1.000, test=1.000), roc_auc=(train=0.929, test=0.899), total=   0.0s\n",
      "[CV] svm__C=0.01, svm__degree=3, svm__gamma=scale, svm__kernel=rbf ...\n",
      "[CV]  svm__C=0.01, svm__degree=3, svm__gamma=scale, svm__kernel=rbf, accuracy=(train=0.615, test=0.610), f1=(train=0.762, test=0.758), precision=(train=0.615, test=0.610), recall=(train=1.000, test=1.000), roc_auc=(train=0.896, test=0.895), total=   0.0s\n",
      "[CV] svm__C=0.01, svm__degree=3, svm__gamma=scale, svm__kernel=rbf ...\n",
      "[CV]  svm__C=0.01, svm__degree=3, svm__gamma=scale, svm__kernel=rbf, accuracy=(train=0.615, test=0.610), f1=(train=0.762, test=0.758), precision=(train=0.615, test=0.610), recall=(train=1.000, test=1.000), roc_auc=(train=0.904, test=0.935), total=   0.0s\n",
      "[CV] svm__C=0.01, svm__degree=3, svm__gamma=scale, svm__kernel=poly ..\n",
      "[CV]  svm__C=0.01, svm__degree=3, svm__gamma=scale, svm__kernel=poly, accuracy=(train=0.614, test=0.619), f1=(train=0.761, test=0.765), precision=(train=0.614, test=0.619), recall=(train=1.000, test=1.000), roc_auc=(train=0.949, test=0.923), total=   0.0s\n",
      "[CV] svm__C=0.01, svm__degree=3, svm__gamma=scale, svm__kernel=poly ..\n",
      "[CV]  svm__C=0.01, svm__degree=3, svm__gamma=scale, svm__kernel=poly, accuracy=(train=0.614, test=0.619), f1=(train=0.761, test=0.765), precision=(train=0.614, test=0.619), recall=(train=1.000, test=1.000), roc_auc=(train=0.958, test=0.981), total=   0.0s\n",
      "[CV] svm__C=0.01, svm__degree=3, svm__gamma=scale, svm__kernel=poly ..\n",
      "[CV]  svm__C=0.01, svm__degree=3, svm__gamma=scale, svm__kernel=poly, accuracy=(train=0.614, test=0.619), f1=(train=0.761, test=0.765), precision=(train=0.614, test=0.619), recall=(train=1.000, test=1.000), roc_auc=(train=0.972, test=0.901), total=   0.0s\n",
      "[CV] svm__C=0.01, svm__degree=3, svm__gamma=scale, svm__kernel=poly ..\n",
      "[CV]  svm__C=0.01, svm__degree=3, svm__gamma=scale, svm__kernel=poly, accuracy=(train=0.614, test=0.619), f1=(train=0.761, test=0.765), precision=(train=0.614, test=0.619), recall=(train=1.000, test=1.000), roc_auc=(train=0.963, test=0.969), total=   0.0s\n",
      "[CV] svm__C=0.01, svm__degree=3, svm__gamma=scale, svm__kernel=poly ..\n",
      "[CV]  svm__C=0.01, svm__degree=3, svm__gamma=scale, svm__kernel=poly, accuracy=(train=0.614, test=0.619), f1=(train=0.761, test=0.765), precision=(train=0.614, test=0.619), recall=(train=1.000, test=1.000), roc_auc=(train=0.973, test=0.923), total=   0.0s\n",
      "[CV] svm__C=0.01, svm__degree=3, svm__gamma=scale, svm__kernel=poly ..\n",
      "[CV]  svm__C=0.01, svm__degree=3, svm__gamma=scale, svm__kernel=poly, accuracy=(train=0.614, test=0.619), f1=(train=0.761, test=0.765), precision=(train=0.614, test=0.619), recall=(train=1.000, test=1.000), roc_auc=(train=0.959, test=0.940), total=   0.0s\n",
      "[CV] svm__C=0.01, svm__degree=3, svm__gamma=scale, svm__kernel=poly ..\n",
      "[CV]  svm__C=0.01, svm__degree=3, svm__gamma=scale, svm__kernel=poly, accuracy=(train=0.614, test=0.619), f1=(train=0.761, test=0.765), precision=(train=0.614, test=0.619), recall=(train=1.000, test=1.000), roc_auc=(train=0.959, test=0.986), total=   0.0s\n",
      "[CV] svm__C=0.01, svm__degree=3, svm__gamma=scale, svm__kernel=poly ..\n",
      "[CV]  svm__C=0.01, svm__degree=3, svm__gamma=scale, svm__kernel=poly, accuracy=(train=0.617, test=0.595), f1=(train=0.763, test=0.746), precision=(train=0.617, test=0.595), recall=(train=1.000, test=1.000), roc_auc=(train=0.967, test=0.922), total=   0.0s\n",
      "[CV] svm__C=0.01, svm__degree=3, svm__gamma=scale, svm__kernel=poly ..\n",
      "[CV]  svm__C=0.01, svm__degree=3, svm__gamma=scale, svm__kernel=poly, accuracy=(train=0.615, test=0.610), f1=(train=0.762, test=0.758), precision=(train=0.615, test=0.610), recall=(train=1.000, test=1.000), roc_auc=(train=0.960, test=1.000), total=   0.0s\n",
      "[CV] svm__C=0.01, svm__degree=3, svm__gamma=scale, svm__kernel=poly ..\n",
      "[CV]  svm__C=0.01, svm__degree=3, svm__gamma=scale, svm__kernel=poly, accuracy=(train=0.615, test=0.610), f1=(train=0.762, test=0.758), precision=(train=0.615, test=0.610), recall=(train=1.000, test=1.000), roc_auc=(train=0.962, test=0.980), total=   0.0s\n",
      "[CV] svm__C=1.0, svm__degree=3, svm__gamma=auto, svm__kernel=rbf .....\n",
      "[CV]  svm__C=1.0, svm__degree=3, svm__gamma=auto, svm__kernel=rbf, accuracy=(train=0.957, test=0.929), f1=(train=0.965, test=0.939), precision=(train=0.982, test=1.000), recall=(train=0.948, test=0.885), roc_auc=(train=0.997, test=0.995), total=   0.0s\n",
      "[CV] svm__C=1.0, svm__degree=3, svm__gamma=auto, svm__kernel=rbf .....\n",
      "[CV]  svm__C=1.0, svm__degree=3, svm__gamma=auto, svm__kernel=rbf, accuracy=(train=0.963, test=0.929), f1=(train=0.969, test=0.943), precision=(train=0.995, test=0.926), recall=(train=0.944, test=0.962), roc_auc=(train=0.997, test=0.978), total=   0.0s\n",
      "[CV] svm__C=1.0, svm__degree=3, svm__gamma=auto, svm__kernel=rbf .....\n",
      "[CV]  svm__C=1.0, svm__degree=3, svm__gamma=auto, svm__kernel=rbf, accuracy=(train=0.971, test=0.786), f1=(train=0.976, test=0.791), precision=(train=0.987, test=1.000), recall=(train=0.965, test=0.654), roc_auc=(train=0.997, test=0.928), total=   0.0s\n",
      "[CV] svm__C=1.0, svm__degree=3, svm__gamma=auto, svm__kernel=rbf .....\n",
      "[CV]  svm__C=1.0, svm__degree=3, svm__gamma=auto, svm__kernel=rbf, accuracy=(train=0.957, test=0.976), f1=(train=0.965, test=0.980), precision=(train=0.982, test=1.000), recall=(train=0.948, test=0.962), roc_auc=(train=0.997, test=0.998), total=   0.0s\n",
      "[CV] svm__C=1.0, svm__degree=3, svm__gamma=auto, svm__kernel=rbf .....\n",
      "[CV]  svm__C=1.0, svm__degree=3, svm__gamma=auto, svm__kernel=rbf, accuracy=(train=0.965, test=0.881), f1=(train=0.972, test=0.898), precision=(train=0.982, test=0.957), recall=(train=0.961, test=0.846), roc_auc=(train=0.997, test=0.971), total=   0.0s\n",
      "[CV] svm__C=1.0, svm__degree=3, svm__gamma=auto, svm__kernel=rbf .....\n",
      "[CV]  svm__C=1.0, svm__degree=3, svm__gamma=auto, svm__kernel=rbf, accuracy=(train=0.960, test=0.952), f1=(train=0.967, test=0.962), precision=(train=0.986, test=0.962), recall=(train=0.948, test=0.962), roc_auc=(train=0.997, test=0.990), total=   0.0s\n",
      "[CV] svm__C=1.0, svm__degree=3, svm__gamma=auto, svm__kernel=rbf .....\n",
      "[CV]  svm__C=1.0, svm__degree=3, svm__gamma=auto, svm__kernel=rbf, accuracy=(train=0.952, test=1.000), f1=(train=0.960, test=1.000), precision=(train=0.986, test=1.000), recall=(train=0.935, test=1.000), roc_auc=(train=0.997, test=1.000), total=   0.0s\n",
      "[CV] svm__C=1.0, svm__degree=3, svm__gamma=auto, svm__kernel=rbf .....\n",
      "[CV]  svm__C=1.0, svm__degree=3, svm__gamma=auto, svm__kernel=rbf, accuracy=(train=0.963, test=0.905), f1=(train=0.969, test=0.913), precision=(train=0.982, test=1.000), recall=(train=0.957, test=0.840), roc_auc=(train=0.997, test=0.979), total=   0.0s\n",
      "[CV] svm__C=1.0, svm__degree=3, svm__gamma=auto, svm__kernel=rbf .....\n",
      "[CV]  svm__C=1.0, svm__degree=3, svm__gamma=auto, svm__kernel=rbf, accuracy=(train=0.960, test=1.000), f1=(train=0.967, test=1.000), precision=(train=0.982, test=1.000), recall=(train=0.953, test=1.000), roc_auc=(train=0.995, test=1.000), total=   0.0s\n",
      "[CV] svm__C=1.0, svm__degree=3, svm__gamma=auto, svm__kernel=rbf .....\n",
      "[CV]  svm__C=1.0, svm__degree=3, svm__gamma=auto, svm__kernel=rbf, accuracy=(train=0.958, test=0.927), f1=(train=0.965, test=0.941), precision=(train=0.986, test=0.923), recall=(train=0.944, test=0.960), roc_auc=(train=0.996, test=0.990), total=   0.0s\n",
      "[CV] svm__C=1.0, svm__degree=3, svm__gamma=auto, svm__kernel=poly ....\n",
      "[CV]  svm__C=1.0, svm__degree=3, svm__gamma=auto, svm__kernel=poly, accuracy=(train=0.997, test=0.929), f1=(train=0.998, test=0.941), precision=(train=1.000, test=0.960), recall=(train=0.996, test=0.923), roc_auc=(train=1.000, test=0.988), total=   1.8s\n",
      "[CV] svm__C=1.0, svm__degree=3, svm__gamma=auto, svm__kernel=poly ....\n",
      "[CV]  svm__C=1.0, svm__degree=3, svm__gamma=auto, svm__kernel=poly, accuracy=(train=0.997, test=0.929), f1=(train=0.998, test=0.943), precision=(train=0.996, test=0.926), recall=(train=1.000, test=0.962), roc_auc=(train=1.000, test=0.971), total=   1.4s\n",
      "[CV] svm__C=1.0, svm__degree=3, svm__gamma=auto, svm__kernel=poly ....\n",
      "[CV]  svm__C=1.0, svm__degree=3, svm__gamma=auto, svm__kernel=poly, accuracy=(train=0.995, test=0.929), f1=(train=0.996, test=0.939), precision=(train=0.991, test=1.000), recall=(train=1.000, test=0.885), roc_auc=(train=1.000, test=0.954), total=   1.2s\n",
      "[CV] svm__C=1.0, svm__degree=3, svm__gamma=auto, svm__kernel=poly ....\n",
      "[CV]  svm__C=1.0, svm__degree=3, svm__gamma=auto, svm__kernel=poly, accuracy=(train=0.995, test=0.976), f1=(train=0.996, test=0.980), precision=(train=0.991, test=1.000), recall=(train=1.000, test=0.962), roc_auc=(train=1.000, test=1.000), total=   1.9s\n",
      "[CV] svm__C=1.0, svm__degree=3, svm__gamma=auto, svm__kernel=poly ....\n",
      "[CV]  svm__C=1.0, svm__degree=3, svm__gamma=auto, svm__kernel=poly, accuracy=(train=0.995, test=0.929), f1=(train=0.996, test=0.941), precision=(train=0.991, test=0.960), recall=(train=1.000, test=0.923), roc_auc=(train=1.000, test=0.952), total=   1.5s\n",
      "[CV] svm__C=1.0, svm__degree=3, svm__gamma=auto, svm__kernel=poly ....\n",
      "[CV]  svm__C=1.0, svm__degree=3, svm__gamma=auto, svm__kernel=poly, accuracy=(train=0.995, test=0.929), f1=(train=0.996, test=0.941), precision=(train=0.991, test=0.960), recall=(train=1.000, test=0.923), roc_auc=(train=1.000, test=0.988), total=   1.4s\n",
      "[CV] svm__C=1.0, svm__degree=3, svm__gamma=auto, svm__kernel=poly ....\n",
      "[CV]  svm__C=1.0, svm__degree=3, svm__gamma=auto, svm__kernel=poly, accuracy=(train=0.995, test=0.976), f1=(train=0.996, test=0.981), precision=(train=0.991, test=0.963), recall=(train=1.000, test=1.000), roc_auc=(train=1.000, test=1.000), total=   1.8s\n",
      "[CV] svm__C=1.0, svm__degree=3, svm__gamma=auto, svm__kernel=poly ....\n",
      "[CV]  svm__C=1.0, svm__degree=3, svm__gamma=auto, svm__kernel=poly, accuracy=(train=0.997, test=0.952), f1=(train=0.998, test=0.960), precision=(train=0.996, test=0.960), recall=(train=1.000, test=0.960), roc_auc=(train=1.000, test=0.974), total=   1.2s\n",
      "[CV] svm__C=1.0, svm__degree=3, svm__gamma=auto, svm__kernel=poly ....\n",
      "[CV]  svm__C=1.0, svm__degree=3, svm__gamma=auto, svm__kernel=poly, accuracy=(train=0.995, test=0.976), f1=(train=0.996, test=0.980), precision=(train=0.991, test=0.962), recall=(train=1.000, test=1.000), roc_auc=(train=1.000, test=1.000), total=   2.1s\n",
      "[CV] svm__C=1.0, svm__degree=3, svm__gamma=auto, svm__kernel=poly ....\n",
      "[CV]  svm__C=1.0, svm__degree=3, svm__gamma=auto, svm__kernel=poly, accuracy=(train=0.995, test=0.976), f1=(train=0.996, test=0.980), precision=(train=0.991, test=1.000), recall=(train=1.000, test=0.960), roc_auc=(train=1.000, test=1.000), total=   1.7s\n",
      "[CV] svm__C=1.0, svm__degree=3, svm__gamma=scale, svm__kernel=rbf ....\n",
      "[CV]  svm__C=1.0, svm__degree=3, svm__gamma=scale, svm__kernel=rbf, accuracy=(train=0.614, test=0.619), f1=(train=0.761, test=0.765), precision=(train=0.614, test=0.619), recall=(train=1.000, test=1.000), roc_auc=(train=0.928, test=0.962), total=   0.0s\n",
      "[CV] svm__C=1.0, svm__degree=3, svm__gamma=scale, svm__kernel=rbf ....\n",
      "[CV]  svm__C=1.0, svm__degree=3, svm__gamma=scale, svm__kernel=rbf, accuracy=(train=0.614, test=0.619), f1=(train=0.761, test=0.765), precision=(train=0.614, test=0.619), recall=(train=1.000, test=1.000), roc_auc=(train=0.923, test=0.962), total=   0.0s\n",
      "[CV] svm__C=1.0, svm__degree=3, svm__gamma=scale, svm__kernel=rbf ....\n",
      "[CV]  svm__C=1.0, svm__degree=3, svm__gamma=scale, svm__kernel=rbf, accuracy=(train=0.614, test=0.619), f1=(train=0.761, test=0.765), precision=(train=0.614, test=0.619), recall=(train=1.000, test=1.000), roc_auc=(train=0.916, test=0.829), total=   0.0s\n",
      "[CV] svm__C=1.0, svm__degree=3, svm__gamma=scale, svm__kernel=rbf ....\n",
      "[CV]  svm__C=1.0, svm__degree=3, svm__gamma=scale, svm__kernel=rbf, accuracy=(train=0.614, test=0.619), f1=(train=0.761, test=0.765), precision=(train=0.614, test=0.619), recall=(train=1.000, test=1.000), roc_auc=(train=0.916, test=0.911), total=   0.0s\n",
      "[CV] svm__C=1.0, svm__degree=3, svm__gamma=scale, svm__kernel=rbf ....\n",
      "[CV]  svm__C=1.0, svm__degree=3, svm__gamma=scale, svm__kernel=rbf, accuracy=(train=0.614, test=0.619), f1=(train=0.761, test=0.765), precision=(train=0.614, test=0.619), recall=(train=1.000, test=1.000), roc_auc=(train=0.912, test=0.820), total=   0.0s\n",
      "[CV] svm__C=1.0, svm__degree=3, svm__gamma=scale, svm__kernel=rbf ....\n",
      "[CV]  svm__C=1.0, svm__degree=3, svm__gamma=scale, svm__kernel=rbf, accuracy=(train=0.614, test=0.619), f1=(train=0.761, test=0.765), precision=(train=0.614, test=0.619), recall=(train=1.000, test=1.000), roc_auc=(train=0.928, test=0.938), total=   0.0s\n",
      "[CV] svm__C=1.0, svm__degree=3, svm__gamma=scale, svm__kernel=rbf ....\n",
      "[CV]  svm__C=1.0, svm__degree=3, svm__gamma=scale, svm__kernel=rbf, accuracy=(train=0.614, test=0.619), f1=(train=0.761, test=0.765), precision=(train=0.614, test=0.619), recall=(train=1.000, test=1.000), roc_auc=(train=0.926, test=0.957), total=   0.0s\n",
      "[CV] svm__C=1.0, svm__degree=3, svm__gamma=scale, svm__kernel=rbf ....\n",
      "[CV]  svm__C=1.0, svm__degree=3, svm__gamma=scale, svm__kernel=rbf, accuracy=(train=0.617, test=0.595), f1=(train=0.763, test=0.746), precision=(train=0.617, test=0.595), recall=(train=1.000, test=1.000), roc_auc=(train=0.935, test=0.901), total=   0.0s\n",
      "[CV] svm__C=1.0, svm__degree=3, svm__gamma=scale, svm__kernel=rbf ....\n",
      "[CV]  svm__C=1.0, svm__degree=3, svm__gamma=scale, svm__kernel=rbf, accuracy=(train=0.615, test=0.610), f1=(train=0.762, test=0.758), precision=(train=0.615, test=0.610), recall=(train=1.000, test=1.000), roc_auc=(train=0.906, test=0.927), total=   0.0s\n",
      "[CV] svm__C=1.0, svm__degree=3, svm__gamma=scale, svm__kernel=rbf ....\n",
      "[CV]  svm__C=1.0, svm__degree=3, svm__gamma=scale, svm__kernel=rbf, accuracy=(train=0.615, test=0.610), f1=(train=0.762, test=0.758), precision=(train=0.615, test=0.610), recall=(train=1.000, test=1.000), roc_auc=(train=0.916, test=0.948), total=   0.0s\n",
      "[CV] svm__C=1.0, svm__degree=3, svm__gamma=scale, svm__kernel=poly ...\n",
      "[CV]  svm__C=1.0, svm__degree=3, svm__gamma=scale, svm__kernel=poly, accuracy=(train=0.630, test=0.643), f1=(train=0.769, test=0.776), precision=(train=0.624, test=0.634), recall=(train=1.000, test=1.000), roc_auc=(train=0.943, test=0.899), total=   0.0s\n",
      "[CV] svm__C=1.0, svm__degree=3, svm__gamma=scale, svm__kernel=poly ...\n",
      "[CV]  svm__C=1.0, svm__degree=3, svm__gamma=scale, svm__kernel=poly, accuracy=(train=0.622, test=0.619), f1=(train=0.765, test=0.765), precision=(train=0.619, test=0.619), recall=(train=1.000, test=1.000), roc_auc=(train=0.956, test=0.974), total=   0.0s\n",
      "[CV] svm__C=1.0, svm__degree=3, svm__gamma=scale, svm__kernel=poly ...\n",
      "[CV]  svm__C=1.0, svm__degree=3, svm__gamma=scale, svm__kernel=poly, accuracy=(train=0.622, test=0.643), f1=(train=0.765, test=0.776), precision=(train=0.619, test=0.634), recall=(train=1.000, test=1.000), roc_auc=(train=0.969, test=0.901), total=   0.0s\n",
      "[CV] svm__C=1.0, svm__degree=3, svm__gamma=scale, svm__kernel=poly ...\n",
      "[CV]  svm__C=1.0, svm__degree=3, svm__gamma=scale, svm__kernel=poly, accuracy=(train=0.620, test=0.643), f1=(train=0.764, test=0.776), precision=(train=0.618, test=0.634), recall=(train=1.000, test=1.000), roc_auc=(train=0.961, test=0.966), total=   0.0s\n",
      "[CV] svm__C=1.0, svm__degree=3, svm__gamma=scale, svm__kernel=poly ...\n",
      "[CV]  svm__C=1.0, svm__degree=3, svm__gamma=scale, svm__kernel=poly, accuracy=(train=0.622, test=0.643), f1=(train=0.765, test=0.776), precision=(train=0.619, test=0.634), recall=(train=1.000, test=1.000), roc_auc=(train=0.967, test=0.921), total=   0.0s\n",
      "[CV] svm__C=1.0, svm__degree=3, svm__gamma=scale, svm__kernel=poly ...\n",
      "[CV]  svm__C=1.0, svm__degree=3, svm__gamma=scale, svm__kernel=poly, accuracy=(train=0.628, test=0.619), f1=(train=0.767, test=0.765), precision=(train=0.623, test=0.619), recall=(train=1.000, test=1.000), roc_auc=(train=0.952, test=0.913), total=   0.0s\n",
      "[CV] svm__C=1.0, svm__degree=3, svm__gamma=scale, svm__kernel=poly ...\n",
      "[CV]  svm__C=1.0, svm__degree=3, svm__gamma=scale, svm__kernel=poly, accuracy=(train=0.625, test=0.619), f1=(train=0.766, test=0.765), precision=(train=0.621, test=0.619), recall=(train=1.000, test=1.000), roc_auc=(train=0.954, test=0.983), total=   0.0s\n",
      "[CV] svm__C=1.0, svm__degree=3, svm__gamma=scale, svm__kernel=poly ...\n",
      "[CV]  svm__C=1.0, svm__degree=3, svm__gamma=scale, svm__kernel=poly, accuracy=(train=0.628, test=0.595), f1=(train=0.768, test=0.746), precision=(train=0.624, test=0.595), recall=(train=1.000, test=1.000), roc_auc=(train=0.966, test=0.922), total=   0.0s\n",
      "[CV] svm__C=1.0, svm__degree=3, svm__gamma=scale, svm__kernel=poly ...\n",
      "[CV]  svm__C=1.0, svm__degree=3, svm__gamma=scale, svm__kernel=poly, accuracy=(train=0.626, test=0.610), f1=(train=0.767, test=0.758), precision=(train=0.622, test=0.610), recall=(train=1.000, test=1.000), roc_auc=(train=0.956, test=1.000), total=   0.0s\n",
      "[CV] svm__C=1.0, svm__degree=3, svm__gamma=scale, svm__kernel=poly ...\n",
      "[CV]  svm__C=1.0, svm__degree=3, svm__gamma=scale, svm__kernel=poly, accuracy=(train=0.626, test=0.610), f1=(train=0.767, test=0.758), precision=(train=0.622, test=0.610), recall=(train=1.000, test=1.000), roc_auc=(train=0.959, test=0.977), total=   0.0s\n",
      "[CV] svm__C=10.0, svm__degree=3, svm__gamma=auto, svm__kernel=rbf ....\n",
      "[CV]  svm__C=10.0, svm__degree=3, svm__gamma=auto, svm__kernel=rbf, accuracy=(train=0.995, test=0.952), f1=(train=0.996, test=0.960), precision=(train=1.000, test=1.000), recall=(train=0.991, test=0.923), roc_auc=(train=1.000, test=1.000), total=   0.0s\n",
      "[CV] svm__C=10.0, svm__degree=3, svm__gamma=auto, svm__kernel=rbf ....\n",
      "[CV]  svm__C=10.0, svm__degree=3, svm__gamma=auto, svm__kernel=rbf, accuracy=(train=0.997, test=0.929), f1=(train=0.998, test=0.943), precision=(train=0.996, test=0.926), recall=(train=1.000, test=0.962), roc_auc=(train=1.000, test=0.966), total=   0.0s\n",
      "[CV] svm__C=10.0, svm__degree=3, svm__gamma=auto, svm__kernel=rbf ....\n",
      "[CV]  svm__C=10.0, svm__degree=3, svm__gamma=auto, svm__kernel=rbf, accuracy=(train=1.000, test=0.786), f1=(train=1.000, test=0.800), precision=(train=1.000, test=0.947), recall=(train=1.000, test=0.692), roc_auc=(train=1.000, test=0.913), total=   0.0s\n",
      "[CV] svm__C=10.0, svm__degree=3, svm__gamma=auto, svm__kernel=rbf ....\n",
      "[CV]  svm__C=10.0, svm__degree=3, svm__gamma=auto, svm__kernel=rbf, accuracy=(train=1.000, test=0.952), f1=(train=1.000, test=0.960), precision=(train=1.000, test=1.000), recall=(train=1.000, test=0.923), roc_auc=(train=1.000, test=0.995), total=   0.0s\n",
      "[CV] svm__C=10.0, svm__degree=3, svm__gamma=auto, svm__kernel=rbf ....\n",
      "[CV]  svm__C=10.0, svm__degree=3, svm__gamma=auto, svm__kernel=rbf, accuracy=(train=1.000, test=0.905), f1=(train=1.000, test=0.920), precision=(train=1.000, test=0.958), recall=(train=1.000, test=0.885), roc_auc=(train=1.000, test=0.947), total=   0.0s\n",
      "[CV] svm__C=10.0, svm__degree=3, svm__gamma=auto, svm__kernel=rbf ....\n",
      "[CV]  svm__C=10.0, svm__degree=3, svm__gamma=auto, svm__kernel=rbf, accuracy=(train=1.000, test=0.952), f1=(train=1.000, test=0.962), precision=(train=1.000, test=0.962), recall=(train=1.000, test=0.962), roc_auc=(train=1.000, test=0.983), total=   0.0s\n",
      "[CV] svm__C=10.0, svm__degree=3, svm__gamma=auto, svm__kernel=rbf ....\n",
      "[CV]  svm__C=10.0, svm__degree=3, svm__gamma=auto, svm__kernel=rbf, accuracy=(train=1.000, test=1.000), f1=(train=1.000, test=1.000), precision=(train=1.000, test=1.000), recall=(train=1.000, test=1.000), roc_auc=(train=1.000, test=1.000), total=   0.0s\n",
      "[CV] svm__C=10.0, svm__degree=3, svm__gamma=auto, svm__kernel=rbf ....\n",
      "[CV]  svm__C=10.0, svm__degree=3, svm__gamma=auto, svm__kernel=rbf, accuracy=(train=0.997, test=0.905), f1=(train=0.998, test=0.917), precision=(train=0.996, test=0.957), recall=(train=1.000, test=0.880), roc_auc=(train=1.000, test=0.988), total=   0.0s\n",
      "[CV] svm__C=10.0, svm__degree=3, svm__gamma=auto, svm__kernel=rbf ....\n",
      "[CV]  svm__C=10.0, svm__degree=3, svm__gamma=auto, svm__kernel=rbf, accuracy=(train=1.000, test=1.000), f1=(train=1.000, test=1.000), precision=(train=1.000, test=1.000), recall=(train=1.000, test=1.000), roc_auc=(train=1.000, test=1.000), total=   0.0s\n",
      "[CV] svm__C=10.0, svm__degree=3, svm__gamma=auto, svm__kernel=rbf ....\n",
      "[CV]  svm__C=10.0, svm__degree=3, svm__gamma=auto, svm__kernel=rbf, accuracy=(train=1.000, test=0.976), f1=(train=1.000, test=0.980), precision=(train=1.000, test=0.962), recall=(train=1.000, test=1.000), roc_auc=(train=1.000, test=0.998), total=   0.0s\n",
      "[CV] svm__C=10.0, svm__degree=3, svm__gamma=auto, svm__kernel=poly ...\n",
      "[CV]  svm__C=10.0, svm__degree=3, svm__gamma=auto, svm__kernel=poly, accuracy=(train=0.997, test=0.905), f1=(train=0.998, test=0.920), precision=(train=1.000, test=0.958), recall=(train=0.996, test=0.885), roc_auc=(train=1.000, test=0.988), total=   1.9s\n",
      "[CV] svm__C=10.0, svm__degree=3, svm__gamma=auto, svm__kernel=poly ...\n",
      "[CV]  svm__C=10.0, svm__degree=3, svm__gamma=auto, svm__kernel=poly, accuracy=(train=0.997, test=0.952), f1=(train=0.998, test=0.962), precision=(train=0.996, test=0.962), recall=(train=1.000, test=0.962), roc_auc=(train=1.000, test=0.971), total=   1.8s\n",
      "[CV] svm__C=10.0, svm__degree=3, svm__gamma=auto, svm__kernel=poly ...\n",
      "[CV]  svm__C=10.0, svm__degree=3, svm__gamma=auto, svm__kernel=poly, accuracy=(train=1.000, test=0.929), f1=(train=1.000, test=0.939), precision=(train=1.000, test=1.000), recall=(train=1.000, test=0.885), roc_auc=(train=1.000, test=0.945), total=   0.9s\n",
      "[CV] svm__C=10.0, svm__degree=3, svm__gamma=auto, svm__kernel=poly ...\n",
      "[CV]  svm__C=10.0, svm__degree=3, svm__gamma=auto, svm__kernel=poly, accuracy=(train=0.995, test=0.976), f1=(train=0.996, test=0.980), precision=(train=0.991, test=1.000), recall=(train=1.000, test=0.962), roc_auc=(train=1.000, test=0.986), total=   1.8s\n",
      "[CV] svm__C=10.0, svm__degree=3, svm__gamma=auto, svm__kernel=poly ...\n",
      "[CV]  svm__C=10.0, svm__degree=3, svm__gamma=auto, svm__kernel=poly, accuracy=(train=0.995, test=0.881), f1=(train=0.996, test=0.906), precision=(train=0.991, test=0.889), recall=(train=1.000, test=0.923), roc_auc=(train=1.000, test=0.933), total=   1.3s\n",
      "[CV] svm__C=10.0, svm__degree=3, svm__gamma=auto, svm__kernel=poly ...\n",
      "[CV]  svm__C=10.0, svm__degree=3, svm__gamma=auto, svm__kernel=poly, accuracy=(train=0.995, test=0.881), f1=(train=0.996, test=0.898), precision=(train=0.991, test=0.957), recall=(train=1.000, test=0.846), roc_auc=(train=1.000, test=0.916), total=   1.9s\n",
      "[CV] svm__C=10.0, svm__degree=3, svm__gamma=auto, svm__kernel=poly ...\n",
      "[CV]  svm__C=10.0, svm__degree=3, svm__gamma=auto, svm__kernel=poly, accuracy=(train=0.995, test=0.976), f1=(train=0.996, test=0.981), precision=(train=0.991, test=0.963), recall=(train=1.000, test=1.000), roc_auc=(train=1.000, test=0.998), total=   1.9s\n",
      "[CV] svm__C=10.0, svm__degree=3, svm__gamma=auto, svm__kernel=poly ...\n",
      "[CV]  svm__C=10.0, svm__degree=3, svm__gamma=auto, svm__kernel=poly, accuracy=(train=0.997, test=0.952), f1=(train=0.998, test=0.960), precision=(train=0.996, test=0.960), recall=(train=1.000, test=0.960), roc_auc=(train=1.000, test=0.972), total=   1.8s\n",
      "[CV] svm__C=10.0, svm__degree=3, svm__gamma=auto, svm__kernel=poly ...\n",
      "[CV]  svm__C=10.0, svm__degree=3, svm__gamma=auto, svm__kernel=poly, accuracy=(train=0.995, test=0.976), f1=(train=0.996, test=0.980), precision=(train=0.991, test=0.962), recall=(train=1.000, test=1.000), roc_auc=(train=1.000, test=1.000), total=   2.3s\n",
      "[CV] svm__C=10.0, svm__degree=3, svm__gamma=auto, svm__kernel=poly ...\n",
      "[CV]  svm__C=10.0, svm__degree=3, svm__gamma=auto, svm__kernel=poly, accuracy=(train=0.995, test=1.000), f1=(train=0.996, test=1.000), precision=(train=0.991, test=1.000), recall=(train=1.000, test=1.000), roc_auc=(train=1.000, test=1.000), total=   3.8s\n",
      "[CV] svm__C=10.0, svm__degree=3, svm__gamma=scale, svm__kernel=rbf ...\n",
      "[CV]  svm__C=10.0, svm__degree=3, svm__gamma=scale, svm__kernel=rbf, accuracy=(train=0.888, test=0.905), f1=(train=0.905, test=0.917), precision=(train=0.944, test=1.000), recall=(train=0.870, test=0.846), roc_auc=(train=0.976, test=0.983), total=   0.0s\n",
      "[CV] svm__C=10.0, svm__degree=3, svm__gamma=scale, svm__kernel=rbf ...\n",
      "[CV]  svm__C=10.0, svm__degree=3, svm__gamma=scale, svm__kernel=rbf, accuracy=(train=0.904, test=0.905), f1=(train=0.918, test=0.920), precision=(train=0.971, test=0.958), recall=(train=0.870, test=0.885), roc_auc=(train=0.973, test=0.990), total=   0.0s\n",
      "[CV] svm__C=10.0, svm__degree=3, svm__gamma=scale, svm__kernel=rbf ...\n",
      "[CV]  svm__C=10.0, svm__degree=3, svm__gamma=scale, svm__kernel=rbf, accuracy=(train=0.902, test=0.786), f1=(train=0.917, test=0.791), precision=(train=0.949, test=1.000), recall=(train=0.887, test=0.654), roc_auc=(train=0.982, test=0.930), total=   0.0s\n",
      "[CV] svm__C=10.0, svm__degree=3, svm__gamma=scale, svm__kernel=rbf ...\n",
      "[CV]  svm__C=10.0, svm__degree=3, svm__gamma=scale, svm__kernel=rbf, accuracy=(train=0.907, test=0.905), f1=(train=0.920, test=0.920), precision=(train=0.971, test=0.958), recall=(train=0.874, test=0.885), roc_auc=(train=0.975, test=0.978), total=   0.0s\n",
      "[CV] svm__C=10.0, svm__degree=3, svm__gamma=scale, svm__kernel=rbf ...\n",
      "[CV]  svm__C=10.0, svm__degree=3, svm__gamma=scale, svm__kernel=rbf, accuracy=(train=0.910, test=0.857), f1=(train=0.922, test=0.870), precision=(train=0.976, test=1.000), recall=(train=0.874, test=0.769), roc_auc=(train=0.977, test=0.942), total=   0.0s\n",
      "[CV] svm__C=10.0, svm__degree=3, svm__gamma=scale, svm__kernel=rbf ...\n",
      "[CV]  svm__C=10.0, svm__degree=3, svm__gamma=scale, svm__kernel=rbf, accuracy=(train=0.910, test=0.857), f1=(train=0.923, test=0.875), precision=(train=0.971, test=0.955), recall=(train=0.879, test=0.808), roc_auc=(train=0.977, test=0.974), total=   0.0s\n",
      "[CV] svm__C=10.0, svm__degree=3, svm__gamma=scale, svm__kernel=rbf ...\n",
      "[CV]  svm__C=10.0, svm__degree=3, svm__gamma=scale, svm__kernel=rbf, accuracy=(train=0.899, test=0.929), f1=(train=0.914, test=0.943), precision=(train=0.962, test=0.926), recall=(train=0.870, test=0.962), roc_auc=(train=0.976, test=0.993), total=   0.0s\n",
      "[CV] svm__C=10.0, svm__degree=3, svm__gamma=scale, svm__kernel=rbf ...\n",
      "[CV]  svm__C=10.0, svm__degree=3, svm__gamma=scale, svm__kernel=rbf, accuracy=(train=0.899, test=0.810), f1=(train=0.915, test=0.826), precision=(train=0.953, test=0.905), recall=(train=0.879, test=0.760), roc_auc=(train=0.975, test=0.972), total=   0.0s\n",
      "[CV] svm__C=10.0, svm__degree=3, svm__gamma=scale, svm__kernel=rbf ...\n",
      "[CV]  svm__C=10.0, svm__degree=3, svm__gamma=scale, svm__kernel=rbf, accuracy=(train=0.889, test=0.951), f1=(train=0.905, test=0.962), precision=(train=0.952, test=0.926), recall=(train=0.862, test=1.000), roc_auc=(train=0.976, test=1.000), total=   0.0s\n",
      "[CV] svm__C=10.0, svm__degree=3, svm__gamma=scale, svm__kernel=rbf ...\n",
      "[CV]  svm__C=10.0, svm__degree=3, svm__gamma=scale, svm__kernel=rbf, accuracy=(train=0.907, test=0.951), f1=(train=0.920, test=0.960), precision=(train=0.980, test=0.960), recall=(train=0.866, test=0.960), roc_auc=(train=0.976, test=0.983), total=   0.0s\n",
      "[CV] svm__C=10.0, svm__degree=3, svm__gamma=scale, svm__kernel=poly ..\n",
      "[CV]  svm__C=10.0, svm__degree=3, svm__gamma=scale, svm__kernel=poly, accuracy=(train=0.926, test=0.929), f1=(train=0.937, test=0.939), precision=(train=0.981, test=1.000), recall=(train=0.896, test=0.885), roc_auc=(train=0.969, test=0.971), total=   0.0s\n",
      "[CV] svm__C=10.0, svm__degree=3, svm__gamma=scale, svm__kernel=poly ..\n",
      "[CV]  svm__C=10.0, svm__degree=3, svm__gamma=scale, svm__kernel=poly, accuracy=(train=0.915, test=0.952), f1=(train=0.928, test=0.962), precision=(train=0.967, test=0.962), recall=(train=0.892, test=0.962), roc_auc=(train=0.971, test=0.983), total=   0.0s\n",
      "[CV] svm__C=10.0, svm__degree=3, svm__gamma=scale, svm__kernel=poly ..\n",
      "[CV]  svm__C=10.0, svm__degree=3, svm__gamma=scale, svm__kernel=poly, accuracy=(train=0.907, test=0.762), f1=(train=0.919, test=0.762), precision=(train=0.985, test=1.000), recall=(train=0.861, test=0.615), roc_auc=(train=0.981, test=0.918), total=   0.0s\n",
      "[CV] svm__C=10.0, svm__degree=3, svm__gamma=scale, svm__kernel=poly ..\n",
      "[CV]  svm__C=10.0, svm__degree=3, svm__gamma=scale, svm__kernel=poly, accuracy=(train=0.928, test=0.952), f1=(train=0.939, test=0.960), precision=(train=0.986, test=1.000), recall=(train=0.896, test=0.923), roc_auc=(train=0.975, test=0.964), total=   0.0s\n",
      "[CV] svm__C=10.0, svm__degree=3, svm__gamma=scale, svm__kernel=poly ..\n",
      "[CV]  svm__C=10.0, svm__degree=3, svm__gamma=scale, svm__kernel=poly, accuracy=(train=0.910, test=0.833), f1=(train=0.922, test=0.851), precision=(train=0.980, test=0.952), recall=(train=0.870, test=0.769), roc_auc=(train=0.976, test=0.935), total=   0.0s\n",
      "[CV] svm__C=10.0, svm__degree=3, svm__gamma=scale, svm__kernel=poly ..\n",
      "[CV]  svm__C=10.0, svm__degree=3, svm__gamma=scale, svm__kernel=poly, accuracy=(train=0.931, test=0.881), f1=(train=0.941, test=0.894), precision=(train=0.986, test=1.000), recall=(train=0.900, test=0.808), roc_auc=(train=0.970, test=0.978), total=   0.0s\n",
      "[CV] svm__C=10.0, svm__degree=3, svm__gamma=scale, svm__kernel=poly ..\n",
      "[CV]  svm__C=10.0, svm__degree=3, svm__gamma=scale, svm__kernel=poly, accuracy=(train=0.915, test=0.929), f1=(train=0.928, test=0.943), precision=(train=0.963, test=0.926), recall=(train=0.896, test=0.962), roc_auc=(train=0.968, test=0.995), total=   0.0s\n",
      "[CV] svm__C=10.0, svm__degree=3, svm__gamma=scale, svm__kernel=poly ..\n",
      "[CV]  svm__C=10.0, svm__degree=3, svm__gamma=scale, svm__kernel=poly, accuracy=(train=0.934, test=0.881), f1=(train=0.944, test=0.894), precision=(train=0.981, test=0.955), recall=(train=0.909, test=0.840), roc_auc=(train=0.973, test=0.936), total=   0.0s\n",
      "[CV] svm__C=10.0, svm__degree=3, svm__gamma=scale, svm__kernel=poly ..\n",
      "[CV]  svm__C=10.0, svm__degree=3, svm__gamma=scale, svm__kernel=poly, accuracy=(train=0.889, test=0.927), f1=(train=0.904, test=0.941), precision=(train=0.966, test=0.923), recall=(train=0.849, test=0.960), roc_auc=(train=0.970, test=0.985), total=   0.0s\n",
      "[CV] svm__C=10.0, svm__degree=3, svm__gamma=scale, svm__kernel=poly ..\n",
      "[CV]  svm__C=10.0, svm__degree=3, svm__gamma=scale, svm__kernel=poly, accuracy=(train=0.928, test=0.927), f1=(train=0.939, test=0.939), precision=(train=0.990, test=0.958), recall=(train=0.892, test=0.920), roc_auc=(train=0.973, test=0.982), total=   0.0s\n",
      "[CV] svm__C=100.0, svm__degree=3, svm__gamma=auto, svm__kernel=rbf ...\n",
      "[CV]  svm__C=100.0, svm__degree=3, svm__gamma=auto, svm__kernel=rbf, accuracy=(train=1.000, test=1.000), f1=(train=1.000, test=1.000), precision=(train=1.000, test=1.000), recall=(train=1.000, test=1.000), roc_auc=(train=1.000, test=1.000), total=   0.0s\n",
      "[CV] svm__C=100.0, svm__degree=3, svm__gamma=auto, svm__kernel=rbf ...\n",
      "[CV]  svm__C=100.0, svm__degree=3, svm__gamma=auto, svm__kernel=rbf, accuracy=(train=1.000, test=0.952), f1=(train=1.000, test=0.962), precision=(train=1.000, test=0.962), recall=(train=1.000, test=0.962), roc_auc=(train=1.000, test=0.983), total=   0.0s\n",
      "[CV] svm__C=100.0, svm__degree=3, svm__gamma=auto, svm__kernel=rbf ...\n",
      "[CV]  svm__C=100.0, svm__degree=3, svm__gamma=auto, svm__kernel=rbf, accuracy=(train=1.000, test=0.810), f1=(train=1.000, test=0.826), precision=(train=1.000, test=0.950), recall=(train=1.000, test=0.731), roc_auc=(train=1.000, test=0.904), total=   0.0s\n",
      "[CV] svm__C=100.0, svm__degree=3, svm__gamma=auto, svm__kernel=rbf ...\n",
      "[CV]  svm__C=100.0, svm__degree=3, svm__gamma=auto, svm__kernel=rbf, accuracy=(train=1.000, test=0.952), f1=(train=1.000, test=0.960), precision=(train=1.000, test=1.000), recall=(train=1.000, test=0.923), roc_auc=(train=1.000, test=0.969), total=   0.0s\n",
      "[CV] svm__C=100.0, svm__degree=3, svm__gamma=auto, svm__kernel=rbf ...\n",
      "[CV]  svm__C=100.0, svm__degree=3, svm__gamma=auto, svm__kernel=rbf, accuracy=(train=1.000, test=0.905), f1=(train=1.000, test=0.920), precision=(train=1.000, test=0.958), recall=(train=1.000, test=0.885), roc_auc=(train=1.000, test=0.909), total=   0.0s\n",
      "[CV] svm__C=100.0, svm__degree=3, svm__gamma=auto, svm__kernel=rbf ...\n",
      "[CV]  svm__C=100.0, svm__degree=3, svm__gamma=auto, svm__kernel=rbf, accuracy=(train=1.000, test=0.952), f1=(train=1.000, test=0.962), precision=(train=1.000, test=0.962), recall=(train=1.000, test=0.962), roc_auc=(train=1.000, test=0.990), total=   0.0s\n",
      "[CV] svm__C=100.0, svm__degree=3, svm__gamma=auto, svm__kernel=rbf ...\n",
      "[CV]  svm__C=100.0, svm__degree=3, svm__gamma=auto, svm__kernel=rbf, accuracy=(train=1.000, test=0.976), f1=(train=1.000, test=0.981), precision=(train=1.000, test=0.963), recall=(train=1.000, test=1.000), roc_auc=(train=1.000, test=1.000), total=   0.0s\n",
      "[CV] svm__C=100.0, svm__degree=3, svm__gamma=auto, svm__kernel=rbf ...\n",
      "[CV]  svm__C=100.0, svm__degree=3, svm__gamma=auto, svm__kernel=rbf, accuracy=(train=1.000, test=0.929), f1=(train=1.000, test=0.936), precision=(train=1.000, test=1.000), recall=(train=1.000, test=0.880), roc_auc=(train=1.000, test=0.998), total=   0.0s\n",
      "[CV] svm__C=100.0, svm__degree=3, svm__gamma=auto, svm__kernel=rbf ...\n",
      "[CV]  svm__C=100.0, svm__degree=3, svm__gamma=auto, svm__kernel=rbf, accuracy=(train=1.000, test=0.976), f1=(train=1.000, test=0.980), precision=(train=1.000, test=1.000), recall=(train=1.000, test=0.960), roc_auc=(train=1.000, test=1.000), total=   0.0s\n",
      "[CV] svm__C=100.0, svm__degree=3, svm__gamma=auto, svm__kernel=rbf ...\n",
      "[CV]  svm__C=100.0, svm__degree=3, svm__gamma=auto, svm__kernel=rbf, accuracy=(train=1.000, test=0.976), f1=(train=1.000, test=0.980), precision=(train=1.000, test=0.962), recall=(train=1.000, test=1.000), roc_auc=(train=1.000, test=0.998), total=   0.0s\n",
      "[CV] svm__C=100.0, svm__degree=3, svm__gamma=auto, svm__kernel=poly ..\n",
      "[CV]  svm__C=100.0, svm__degree=3, svm__gamma=auto, svm__kernel=poly, accuracy=(train=0.997, test=0.952), f1=(train=0.998, test=0.962), precision=(train=1.000, test=0.962), recall=(train=0.996, test=0.962), roc_auc=(train=1.000, test=0.988), total=   2.7s\n",
      "[CV] svm__C=100.0, svm__degree=3, svm__gamma=auto, svm__kernel=poly ..\n",
      "[CV]  svm__C=100.0, svm__degree=3, svm__gamma=auto, svm__kernel=poly, accuracy=(train=0.997, test=1.000), f1=(train=0.998, test=1.000), precision=(train=1.000, test=1.000), recall=(train=0.996, test=1.000), roc_auc=(train=1.000, test=1.000), total=   2.9s\n",
      "[CV] svm__C=100.0, svm__degree=3, svm__gamma=auto, svm__kernel=poly ..\n",
      "[CV]  svm__C=100.0, svm__degree=3, svm__gamma=auto, svm__kernel=poly, accuracy=(train=1.000, test=0.929), f1=(train=1.000, test=0.939), precision=(train=1.000, test=1.000), recall=(train=1.000, test=0.885), roc_auc=(train=1.000, test=0.942), total=   1.7s\n",
      "[CV] svm__C=100.0, svm__degree=3, svm__gamma=auto, svm__kernel=poly ..\n",
      "[CV]  svm__C=100.0, svm__degree=3, svm__gamma=auto, svm__kernel=poly, accuracy=(train=0.997, test=0.952), f1=(train=0.998, test=0.960), precision=(train=1.000, test=1.000), recall=(train=0.996, test=0.923), roc_auc=(train=1.000, test=0.974), total=   2.7s\n",
      "[CV] svm__C=100.0, svm__degree=3, svm__gamma=auto, svm__kernel=poly ..\n",
      "[CV]  svm__C=100.0, svm__degree=3, svm__gamma=auto, svm__kernel=poly, accuracy=(train=1.000, test=0.881), f1=(train=1.000, test=0.906), precision=(train=1.000, test=0.889), recall=(train=1.000, test=0.923), roc_auc=(train=1.000, test=0.928), total=   1.9s\n",
      "[CV] svm__C=100.0, svm__degree=3, svm__gamma=auto, svm__kernel=poly ..\n",
      "[CV]  svm__C=100.0, svm__degree=3, svm__gamma=auto, svm__kernel=poly, accuracy=(train=1.000, test=0.881), f1=(train=1.000, test=0.898), precision=(train=1.000, test=0.957), recall=(train=1.000, test=0.846), roc_auc=(train=1.000, test=0.928), total=   2.8s\n",
      "[CV] svm__C=100.0, svm__degree=3, svm__gamma=auto, svm__kernel=poly ..\n",
      "[CV]  svm__C=100.0, svm__degree=3, svm__gamma=auto, svm__kernel=poly, accuracy=(train=0.997, test=0.952), f1=(train=0.998, test=0.962), precision=(train=1.000, test=0.962), recall=(train=0.996, test=0.962), roc_auc=(train=1.000, test=0.986), total=   2.9s\n",
      "[CV] svm__C=100.0, svm__degree=3, svm__gamma=auto, svm__kernel=poly ..\n",
      "[CV]  svm__C=100.0, svm__degree=3, svm__gamma=auto, svm__kernel=poly, accuracy=(train=0.997, test=0.976), f1=(train=0.998, test=0.980), precision=(train=1.000, test=1.000), recall=(train=0.996, test=0.960), roc_auc=(train=1.000, test=0.979), total=   2.1s\n",
      "[CV] svm__C=100.0, svm__degree=3, svm__gamma=auto, svm__kernel=poly ..\n",
      "[CV]  svm__C=100.0, svm__degree=3, svm__gamma=auto, svm__kernel=poly, accuracy=(train=0.997, test=0.976), f1=(train=0.998, test=0.980), precision=(train=1.000, test=0.962), recall=(train=0.996, test=1.000), roc_auc=(train=1.000, test=1.000), total=   2.9s\n",
      "[CV] svm__C=100.0, svm__degree=3, svm__gamma=auto, svm__kernel=poly ..\n",
      "[CV]  svm__C=100.0, svm__degree=3, svm__gamma=auto, svm__kernel=poly, accuracy=(train=0.997, test=0.927), f1=(train=0.998, test=0.941), precision=(train=1.000, test=0.923), recall=(train=0.996, test=0.960), roc_auc=(train=1.000, test=0.990), total=   3.1s\n",
      "[CV] svm__C=100.0, svm__degree=3, svm__gamma=scale, svm__kernel=rbf ..\n",
      "[CV]  svm__C=100.0, svm__degree=3, svm__gamma=scale, svm__kernel=rbf, accuracy=(train=0.939, test=0.976), f1=(train=0.950, test=0.980), precision=(train=0.960, test=1.000), recall=(train=0.939, test=0.962), roc_auc=(train=0.985, test=0.993), total=   0.0s\n",
      "[CV] svm__C=100.0, svm__degree=3, svm__gamma=scale, svm__kernel=rbf ..\n",
      "[CV]  svm__C=100.0, svm__degree=3, svm__gamma=scale, svm__kernel=rbf, accuracy=(train=0.947, test=0.905), f1=(train=0.956, test=0.926), precision=(train=0.973, test=0.893), recall=(train=0.939, test=0.962), roc_auc=(train=0.986, test=0.981), total=   0.0s\n",
      "[CV] svm__C=100.0, svm__degree=3, svm__gamma=scale, svm__kernel=rbf ..\n",
      "[CV]  svm__C=100.0, svm__degree=3, svm__gamma=scale, svm__kernel=rbf, accuracy=(train=0.944, test=0.857), f1=(train=0.954, test=0.875), precision=(train=0.973, test=0.955), recall=(train=0.935, test=0.808), roc_auc=(train=0.991, test=0.947), total=   0.0s\n",
      "[CV] svm__C=100.0, svm__degree=3, svm__gamma=scale, svm__kernel=rbf ..\n",
      "[CV]  svm__C=100.0, svm__degree=3, svm__gamma=scale, svm__kernel=rbf, accuracy=(train=0.944, test=0.929), f1=(train=0.954, test=0.941), precision=(train=0.965, test=0.960), recall=(train=0.944, test=0.923), roc_auc=(train=0.985, test=0.995), total=   0.0s\n",
      "[CV] svm__C=100.0, svm__degree=3, svm__gamma=scale, svm__kernel=rbf ..\n",
      "[CV]  svm__C=100.0, svm__degree=3, svm__gamma=scale, svm__kernel=rbf, accuracy=(train=0.949, test=0.881), f1=(train=0.958, test=0.898), precision=(train=0.977, test=0.957), recall=(train=0.939, test=0.846), roc_auc=(train=0.988, test=0.950), total=   0.0s\n",
      "[CV] svm__C=100.0, svm__degree=3, svm__gamma=scale, svm__kernel=rbf ..\n",
      "[CV]  svm__C=100.0, svm__degree=3, svm__gamma=scale, svm__kernel=rbf, accuracy=(train=0.955, test=0.952), f1=(train=0.963, test=0.960), precision=(train=0.978, test=1.000), recall=(train=0.948, test=0.923), roc_auc=(train=0.989, test=0.986), total=   0.0s\n",
      "[CV] svm__C=100.0, svm__degree=3, svm__gamma=scale, svm__kernel=rbf ..\n",
      "[CV]  svm__C=100.0, svm__degree=3, svm__gamma=scale, svm__kernel=rbf, accuracy=(train=0.944, test=0.976), f1=(train=0.954, test=0.981), precision=(train=0.965, test=0.963), recall=(train=0.944, test=1.000), roc_auc=(train=0.987, test=0.998), total=   0.0s\n",
      "[CV] svm__C=100.0, svm__degree=3, svm__gamma=scale, svm__kernel=rbf ..\n",
      "[CV]  svm__C=100.0, svm__degree=3, svm__gamma=scale, svm__kernel=rbf, accuracy=(train=0.944, test=0.881), f1=(train=0.954, test=0.894), precision=(train=0.965, test=0.955), recall=(train=0.944, test=0.840), roc_auc=(train=0.987, test=0.979), total=   0.0s\n",
      "[CV] svm__C=100.0, svm__degree=3, svm__gamma=scale, svm__kernel=rbf ..\n",
      "[CV]  svm__C=100.0, svm__degree=3, svm__gamma=scale, svm__kernel=rbf, accuracy=(train=0.939, test=0.951), f1=(train=0.950, test=0.962), precision=(train=0.956, test=0.926), recall=(train=0.944, test=1.000), roc_auc=(train=0.987, test=1.000), total=   0.0s\n",
      "[CV] svm__C=100.0, svm__degree=3, svm__gamma=scale, svm__kernel=rbf ..\n",
      "[CV]  svm__C=100.0, svm__degree=3, svm__gamma=scale, svm__kernel=rbf, accuracy=(train=0.942, test=0.951), f1=(train=0.952, test=0.960), precision=(train=0.973, test=0.960), recall=(train=0.931, test=0.960), roc_auc=(train=0.985, test=0.985), total=   0.0s\n",
      "[CV] svm__C=100.0, svm__degree=3, svm__gamma=scale, svm__kernel=poly .\n",
      "[CV]  svm__C=100.0, svm__degree=3, svm__gamma=scale, svm__kernel=poly, accuracy=(train=0.934, test=0.929), f1=(train=0.944, test=0.939), precision=(train=0.981, test=1.000), recall=(train=0.909, test=0.885), roc_auc=(train=0.978, test=1.000), total=   0.0s\n",
      "[CV] svm__C=100.0, svm__degree=3, svm__gamma=scale, svm__kernel=poly .\n",
      "[CV]  svm__C=100.0, svm__degree=3, svm__gamma=scale, svm__kernel=poly, accuracy=(train=0.934, test=0.952), f1=(train=0.944, test=0.962), precision=(train=0.986, test=0.962), recall=(train=0.905, test=0.962), roc_auc=(train=0.980, test=0.988), total=   0.0s\n",
      "[CV] svm__C=100.0, svm__degree=3, svm__gamma=scale, svm__kernel=poly .\n",
      "[CV]  svm__C=100.0, svm__degree=3, svm__gamma=scale, svm__kernel=poly, accuracy=(train=0.923, test=0.857), f1=(train=0.934, test=0.870), precision=(train=0.986, test=1.000), recall=(train=0.887, test=0.769), roc_auc=(train=0.983, test=0.933), total=   0.0s\n",
      "[CV] svm__C=100.0, svm__degree=3, svm__gamma=scale, svm__kernel=poly .\n",
      "[CV]  svm__C=100.0, svm__degree=3, svm__gamma=scale, svm__kernel=poly, accuracy=(train=0.931, test=0.905), f1=(train=0.941, test=0.917), precision=(train=0.986, test=1.000), recall=(train=0.900, test=0.846), roc_auc=(train=0.979, test=0.976), total=   0.0s\n",
      "[CV] svm__C=100.0, svm__degree=3, svm__gamma=scale, svm__kernel=poly .\n",
      "[CV]  svm__C=100.0, svm__degree=3, svm__gamma=scale, svm__kernel=poly, accuracy=(train=0.934, test=0.857), f1=(train=0.943, test=0.875), precision=(train=0.990, test=0.955), recall=(train=0.900, test=0.808), roc_auc=(train=0.983, test=0.930), total=   0.0s\n",
      "[CV] svm__C=100.0, svm__degree=3, svm__gamma=scale, svm__kernel=poly .\n",
      "[CV]  svm__C=100.0, svm__degree=3, svm__gamma=scale, svm__kernel=poly, accuracy=(train=0.923, test=0.929), f1=(train=0.934, test=0.939), precision=(train=0.981, test=1.000), recall=(train=0.892, test=0.885), roc_auc=(train=0.981, test=0.966), total=   0.0s\n",
      "[CV] svm__C=100.0, svm__degree=3, svm__gamma=scale, svm__kernel=poly .\n",
      "[CV]  svm__C=100.0, svm__degree=3, svm__gamma=scale, svm__kernel=poly, accuracy=(train=0.934, test=1.000), f1=(train=0.944, test=1.000), precision=(train=0.981, test=1.000), recall=(train=0.909, test=1.000), roc_auc=(train=0.977, test=1.000), total=   0.0s\n",
      "[CV] svm__C=100.0, svm__degree=3, svm__gamma=scale, svm__kernel=poly .\n",
      "[CV]  svm__C=100.0, svm__degree=3, svm__gamma=scale, svm__kernel=poly, accuracy=(train=0.936, test=0.905), f1=(train=0.946, test=0.913), precision=(train=0.986, test=1.000), recall=(train=0.909, test=0.840), roc_auc=(train=0.981, test=0.958), total=   0.0s\n",
      "[CV] svm__C=100.0, svm__degree=3, svm__gamma=scale, svm__kernel=poly .\n",
      "[CV]  svm__C=100.0, svm__degree=3, svm__gamma=scale, svm__kernel=poly, accuracy=(train=0.926, test=1.000), f1=(train=0.937, test=1.000), precision=(train=0.981, test=1.000), recall=(train=0.897, test=1.000), roc_auc=(train=0.978, test=1.000), total=   0.0s\n",
      "[CV] svm__C=100.0, svm__degree=3, svm__gamma=scale, svm__kernel=poly .\n",
      "[CV]  svm__C=100.0, svm__degree=3, svm__gamma=scale, svm__kernel=poly, accuracy=(train=0.934, test=0.878), f1=(train=0.944, test=0.894), precision=(train=0.986, test=0.955), recall=(train=0.905, test=0.840), roc_auc=(train=0.977, test=0.972), total=   0.0s\n",
      "[CV] svm__C=1000.0, svm__degree=3, svm__gamma=auto, svm__kernel=rbf ..\n",
      "[CV]  svm__C=1000.0, svm__degree=3, svm__gamma=auto, svm__kernel=rbf, accuracy=(train=1.000, test=1.000), f1=(train=1.000, test=1.000), precision=(train=1.000, test=1.000), recall=(train=1.000, test=1.000), roc_auc=(train=1.000, test=1.000), total=   0.0s\n",
      "[CV] svm__C=1000.0, svm__degree=3, svm__gamma=auto, svm__kernel=rbf ..\n",
      "[CV]  svm__C=1000.0, svm__degree=3, svm__gamma=auto, svm__kernel=rbf, accuracy=(train=1.000, test=0.952), f1=(train=1.000, test=0.962), precision=(train=1.000, test=0.962), recall=(train=1.000, test=0.962), roc_auc=(train=1.000, test=0.983), total=   0.0s\n",
      "[CV] svm__C=1000.0, svm__degree=3, svm__gamma=auto, svm__kernel=rbf ..\n",
      "[CV]  svm__C=1000.0, svm__degree=3, svm__gamma=auto, svm__kernel=rbf, accuracy=(train=1.000, test=0.810), f1=(train=1.000, test=0.826), precision=(train=1.000, test=0.950), recall=(train=1.000, test=0.731), roc_auc=(train=1.000, test=0.904), total=   0.0s\n",
      "[CV] svm__C=1000.0, svm__degree=3, svm__gamma=auto, svm__kernel=rbf ..\n",
      "[CV]  svm__C=1000.0, svm__degree=3, svm__gamma=auto, svm__kernel=rbf, accuracy=(train=1.000, test=0.952), f1=(train=1.000, test=0.960), precision=(train=1.000, test=1.000), recall=(train=1.000, test=0.923), roc_auc=(train=1.000, test=0.969), total=   0.0s\n",
      "[CV] svm__C=1000.0, svm__degree=3, svm__gamma=auto, svm__kernel=rbf ..\n",
      "[CV]  svm__C=1000.0, svm__degree=3, svm__gamma=auto, svm__kernel=rbf, accuracy=(train=1.000, test=0.905), f1=(train=1.000, test=0.920), precision=(train=1.000, test=0.958), recall=(train=1.000, test=0.885), roc_auc=(train=1.000, test=0.909), total=   0.0s\n",
      "[CV] svm__C=1000.0, svm__degree=3, svm__gamma=auto, svm__kernel=rbf ..\n",
      "[CV]  svm__C=1000.0, svm__degree=3, svm__gamma=auto, svm__kernel=rbf, accuracy=(train=1.000, test=0.952), f1=(train=1.000, test=0.962), precision=(train=1.000, test=0.962), recall=(train=1.000, test=0.962), roc_auc=(train=1.000, test=0.990), total=   0.0s\n",
      "[CV] svm__C=1000.0, svm__degree=3, svm__gamma=auto, svm__kernel=rbf ..\n",
      "[CV]  svm__C=1000.0, svm__degree=3, svm__gamma=auto, svm__kernel=rbf, accuracy=(train=1.000, test=0.976), f1=(train=1.000, test=0.981), precision=(train=1.000, test=0.963), recall=(train=1.000, test=1.000), roc_auc=(train=1.000, test=1.000), total=   0.0s\n",
      "[CV] svm__C=1000.0, svm__degree=3, svm__gamma=auto, svm__kernel=rbf ..\n",
      "[CV]  svm__C=1000.0, svm__degree=3, svm__gamma=auto, svm__kernel=rbf, accuracy=(train=1.000, test=0.929), f1=(train=1.000, test=0.936), precision=(train=1.000, test=1.000), recall=(train=1.000, test=0.880), roc_auc=(train=1.000, test=0.998), total=   0.0s\n",
      "[CV] svm__C=1000.0, svm__degree=3, svm__gamma=auto, svm__kernel=rbf ..\n",
      "[CV]  svm__C=1000.0, svm__degree=3, svm__gamma=auto, svm__kernel=rbf, accuracy=(train=1.000, test=0.976), f1=(train=1.000, test=0.980), precision=(train=1.000, test=1.000), recall=(train=1.000, test=0.960), roc_auc=(train=1.000, test=1.000), total=   0.0s\n",
      "[CV] svm__C=1000.0, svm__degree=3, svm__gamma=auto, svm__kernel=rbf ..\n",
      "[CV]  svm__C=1000.0, svm__degree=3, svm__gamma=auto, svm__kernel=rbf, accuracy=(train=1.000, test=0.976), f1=(train=1.000, test=0.980), precision=(train=1.000, test=0.962), recall=(train=1.000, test=1.000), roc_auc=(train=1.000, test=0.998), total=   0.0s\n",
      "[CV] svm__C=1000.0, svm__degree=3, svm__gamma=auto, svm__kernel=poly .\n",
      "[CV]  svm__C=1000.0, svm__degree=3, svm__gamma=auto, svm__kernel=poly, accuracy=(train=0.997, test=0.952), f1=(train=0.998, test=0.962), precision=(train=1.000, test=0.962), recall=(train=0.996, test=0.962), roc_auc=(train=1.000, test=0.988), total=   2.4s\n",
      "[CV] svm__C=1000.0, svm__degree=3, svm__gamma=auto, svm__kernel=poly .\n",
      "[CV]  svm__C=1000.0, svm__degree=3, svm__gamma=auto, svm__kernel=poly, accuracy=(train=0.997, test=1.000), f1=(train=0.998, test=1.000), precision=(train=1.000, test=1.000), recall=(train=0.996, test=1.000), roc_auc=(train=1.000, test=1.000), total=   2.5s\n",
      "[CV] svm__C=1000.0, svm__degree=3, svm__gamma=auto, svm__kernel=poly .\n",
      "[CV]  svm__C=1000.0, svm__degree=3, svm__gamma=auto, svm__kernel=poly, accuracy=(train=1.000, test=0.929), f1=(train=1.000, test=0.939), precision=(train=1.000, test=1.000), recall=(train=1.000, test=0.885), roc_auc=(train=1.000, test=0.942), total=   1.8s\n",
      "[CV] svm__C=1000.0, svm__degree=3, svm__gamma=auto, svm__kernel=poly .\n",
      "[CV]  svm__C=1000.0, svm__degree=3, svm__gamma=auto, svm__kernel=poly, accuracy=(train=0.997, test=0.952), f1=(train=0.998, test=0.960), precision=(train=1.000, test=1.000), recall=(train=0.996, test=0.923), roc_auc=(train=1.000, test=0.974), total=   2.8s\n",
      "[CV] svm__C=1000.0, svm__degree=3, svm__gamma=auto, svm__kernel=poly .\n",
      "[CV]  svm__C=1000.0, svm__degree=3, svm__gamma=auto, svm__kernel=poly, accuracy=(train=1.000, test=0.881), f1=(train=1.000, test=0.906), precision=(train=1.000, test=0.889), recall=(train=1.000, test=0.923), roc_auc=(train=1.000, test=0.928), total=   1.9s\n",
      "[CV] svm__C=1000.0, svm__degree=3, svm__gamma=auto, svm__kernel=poly .\n",
      "[CV]  svm__C=1000.0, svm__degree=3, svm__gamma=auto, svm__kernel=poly, accuracy=(train=1.000, test=0.881), f1=(train=1.000, test=0.898), precision=(train=1.000, test=0.957), recall=(train=1.000, test=0.846), roc_auc=(train=1.000, test=0.928), total=   2.8s\n",
      "[CV] svm__C=1000.0, svm__degree=3, svm__gamma=auto, svm__kernel=poly .\n",
      "[CV]  svm__C=1000.0, svm__degree=3, svm__gamma=auto, svm__kernel=poly, accuracy=(train=0.997, test=0.952), f1=(train=0.998, test=0.962), precision=(train=1.000, test=0.962), recall=(train=0.996, test=0.962), roc_auc=(train=1.000, test=0.986), total=   2.7s\n",
      "[CV] svm__C=1000.0, svm__degree=3, svm__gamma=auto, svm__kernel=poly .\n",
      "[CV]  svm__C=1000.0, svm__degree=3, svm__gamma=auto, svm__kernel=poly, accuracy=(train=0.997, test=0.976), f1=(train=0.998, test=0.980), precision=(train=1.000, test=1.000), recall=(train=0.996, test=0.960), roc_auc=(train=1.000, test=0.979), total=   2.3s\n",
      "[CV] svm__C=1000.0, svm__degree=3, svm__gamma=auto, svm__kernel=poly .\n",
      "[CV]  svm__C=1000.0, svm__degree=3, svm__gamma=auto, svm__kernel=poly, accuracy=(train=0.997, test=0.976), f1=(train=0.998, test=0.980), precision=(train=1.000, test=0.962), recall=(train=0.996, test=1.000), roc_auc=(train=1.000, test=1.000), total=   3.1s\n",
      "[CV] svm__C=1000.0, svm__degree=3, svm__gamma=auto, svm__kernel=poly .\n",
      "[CV]  svm__C=1000.0, svm__degree=3, svm__gamma=auto, svm__kernel=poly, accuracy=(train=0.997, test=0.927), f1=(train=0.998, test=0.941), precision=(train=1.000, test=0.923), recall=(train=0.996, test=0.960), roc_auc=(train=1.000, test=0.990), total=   3.2s\n",
      "[CV] svm__C=1000.0, svm__degree=3, svm__gamma=scale, svm__kernel=rbf .\n",
      "[CV]  svm__C=1000.0, svm__degree=3, svm__gamma=scale, svm__kernel=rbf, accuracy=(train=0.965, test=1.000), f1=(train=0.972, test=1.000), precision=(train=0.962, test=1.000), recall=(train=0.983, test=1.000), roc_auc=(train=0.988, test=1.000), total=   0.0s\n",
      "[CV] svm__C=1000.0, svm__degree=3, svm__gamma=scale, svm__kernel=rbf .\n",
      "[CV]  svm__C=1000.0, svm__degree=3, svm__gamma=scale, svm__kernel=rbf, accuracy=(train=0.973, test=0.905), f1=(train=0.978, test=0.926), precision=(train=0.974, test=0.893), recall=(train=0.983, test=0.962), roc_auc=(train=0.988, test=0.974), total=   0.0s\n",
      "[CV] svm__C=1000.0, svm__degree=3, svm__gamma=scale, svm__kernel=rbf .\n",
      "[CV]  svm__C=1000.0, svm__degree=3, svm__gamma=scale, svm__kernel=rbf, accuracy=(train=0.987, test=0.905), f1=(train=0.989, test=0.917), precision=(train=0.987, test=1.000), recall=(train=0.991, test=0.846), roc_auc=(train=0.993, test=0.942), total=   0.0s\n",
      "[CV] svm__C=1000.0, svm__degree=3, svm__gamma=scale, svm__kernel=rbf .\n",
      "[CV]  svm__C=1000.0, svm__degree=3, svm__gamma=scale, svm__kernel=rbf, accuracy=(train=0.965, test=0.952), f1=(train=0.972, test=0.962), precision=(train=0.966, test=0.962), recall=(train=0.978, test=0.962), roc_auc=(train=0.987, test=0.998), total=   0.0s\n",
      "[CV] svm__C=1000.0, svm__degree=3, svm__gamma=scale, svm__kernel=rbf .\n",
      "[CV]  svm__C=1000.0, svm__degree=3, svm__gamma=scale, svm__kernel=rbf, accuracy=(train=0.963, test=0.929), f1=(train=0.970, test=0.943), precision=(train=0.958, test=0.926), recall=(train=0.983, test=0.962), roc_auc=(train=0.992, test=0.945), total=   0.0s\n",
      "[CV] svm__C=1000.0, svm__degree=3, svm__gamma=scale, svm__kernel=rbf .\n",
      "[CV]  svm__C=1000.0, svm__degree=3, svm__gamma=scale, svm__kernel=rbf, accuracy=(train=0.971, test=0.952), f1=(train=0.976, test=0.960), precision=(train=0.978, test=1.000), recall=(train=0.974, test=0.923), roc_auc=(train=0.987, test=0.998), total=   0.0s\n",
      "[CV] svm__C=1000.0, svm__degree=3, svm__gamma=scale, svm__kernel=rbf .\n",
      "[CV]  svm__C=1000.0, svm__degree=3, svm__gamma=scale, svm__kernel=rbf, accuracy=(train=0.963, test=0.976), f1=(train=0.970, test=0.981), precision=(train=0.966, test=0.963), recall=(train=0.974, test=1.000), roc_auc=(train=0.988, test=1.000), total=   0.0s\n",
      "[CV] svm__C=1000.0, svm__degree=3, svm__gamma=scale, svm__kernel=rbf .\n",
      "[CV]  svm__C=1000.0, svm__degree=3, svm__gamma=scale, svm__kernel=rbf, accuracy=(train=0.973, test=0.929), f1=(train=0.978, test=0.939), precision=(train=0.978, test=0.958), recall=(train=0.978, test=0.920), roc_auc=(train=0.991, test=0.953), total=   0.0s\n",
      "[CV] svm__C=1000.0, svm__degree=3, svm__gamma=scale, svm__kernel=rbf .\n",
      "[CV]  svm__C=1000.0, svm__degree=3, svm__gamma=scale, svm__kernel=rbf, accuracy=(train=0.971, test=1.000), f1=(train=0.976, test=1.000), precision=(train=0.974, test=1.000), recall=(train=0.978, test=1.000), roc_auc=(train=0.986, test=1.000), total=   0.0s\n",
      "[CV] svm__C=1000.0, svm__degree=3, svm__gamma=scale, svm__kernel=rbf .\n",
      "[CV]  svm__C=1000.0, svm__degree=3, svm__gamma=scale, svm__kernel=rbf, accuracy=(train=0.976, test=0.951), f1=(train=0.981, test=0.960), precision=(train=0.979, test=0.960), recall=(train=0.983, test=0.960), roc_auc=(train=0.987, test=0.992), total=   0.0s\n",
      "[CV] svm__C=1000.0, svm__degree=3, svm__gamma=scale, svm__kernel=poly \n",
      "[CV]  svm__C=1000.0, svm__degree=3, svm__gamma=scale, svm__kernel=poly, accuracy=(train=0.949, test=0.976), f1=(train=0.958, test=0.980), precision=(train=0.977, test=1.000), recall=(train=0.939, test=0.962), roc_auc=(train=0.982, test=0.995), total=   0.1s\n",
      "[CV] svm__C=1000.0, svm__degree=3, svm__gamma=scale, svm__kernel=poly \n",
      "[CV]  svm__C=1000.0, svm__degree=3, svm__gamma=scale, svm__kernel=poly, accuracy=(train=0.960, test=0.929), f1=(train=0.967, test=0.943), precision=(train=0.986, test=0.926), recall=(train=0.948, test=0.962), roc_auc=(train=0.984, test=0.988), total=   0.1s\n",
      "[CV] svm__C=1000.0, svm__degree=3, svm__gamma=scale, svm__kernel=poly \n",
      "[CV]  svm__C=1000.0, svm__degree=3, svm__gamma=scale, svm__kernel=poly, accuracy=(train=0.957, test=0.905), f1=(train=0.965, test=0.920), precision=(train=0.978, test=0.958), recall=(train=0.952, test=0.885), roc_auc=(train=0.985, test=0.933), total=   0.1s\n",
      "[CV] svm__C=1000.0, svm__degree=3, svm__gamma=scale, svm__kernel=poly \n",
      "[CV]  svm__C=1000.0, svm__degree=3, svm__gamma=scale, svm__kernel=poly, accuracy=(train=0.952, test=0.952), f1=(train=0.961, test=0.960), precision=(train=0.973, test=1.000), recall=(train=0.948, test=0.923), roc_auc=(train=0.982, test=0.976), total=   0.1s\n",
      "[CV] svm__C=1000.0, svm__degree=3, svm__gamma=scale, svm__kernel=poly \n",
      "[CV]  svm__C=1000.0, svm__degree=3, svm__gamma=scale, svm__kernel=poly, accuracy=(train=0.955, test=0.929), f1=(train=0.962, test=0.941), precision=(train=0.982, test=0.960), recall=(train=0.944, test=0.923), roc_auc=(train=0.988, test=0.945), total=   0.1s\n",
      "[CV] svm__C=1000.0, svm__degree=3, svm__gamma=scale, svm__kernel=poly \n",
      "[CV]  svm__C=1000.0, svm__degree=3, svm__gamma=scale, svm__kernel=poly, accuracy=(train=0.955, test=0.929), f1=(train=0.963, test=0.939), precision=(train=0.978, test=1.000), recall=(train=0.948, test=0.885), roc_auc=(train=0.985, test=0.971), total=   0.1s\n",
      "[CV] svm__C=1000.0, svm__degree=3, svm__gamma=scale, svm__kernel=poly \n",
      "[CV]  svm__C=1000.0, svm__degree=3, svm__gamma=scale, svm__kernel=poly, accuracy=(train=0.952, test=1.000), f1=(train=0.960, test=1.000), precision=(train=0.978, test=1.000), recall=(train=0.944, test=1.000), roc_auc=(train=0.982, test=1.000), total=   0.1s\n",
      "[CV] svm__C=1000.0, svm__degree=3, svm__gamma=scale, svm__kernel=poly \n",
      "[CV]  svm__C=1000.0, svm__degree=3, svm__gamma=scale, svm__kernel=poly, accuracy=(train=0.957, test=0.905), f1=(train=0.965, test=0.917), precision=(train=0.982, test=0.957), recall=(train=0.948, test=0.880), roc_auc=(train=0.986, test=0.967), total=   0.1s\n",
      "[CV] svm__C=1000.0, svm__degree=3, svm__gamma=scale, svm__kernel=poly \n",
      "[CV]  svm__C=1000.0, svm__degree=3, svm__gamma=scale, svm__kernel=poly, accuracy=(train=0.952, test=1.000), f1=(train=0.961, test=1.000), precision=(train=0.978, test=1.000), recall=(train=0.944, test=1.000), roc_auc=(train=0.981, test=1.000), total=   0.1s\n",
      "[CV] svm__C=1000.0, svm__degree=3, svm__gamma=scale, svm__kernel=poly \n",
      "[CV]  svm__C=1000.0, svm__degree=3, svm__gamma=scale, svm__kernel=poly, accuracy=(train=0.960, test=0.902), f1=(train=0.967, test=0.917), precision=(train=0.982, test=0.957), recall=(train=0.953, test=0.880), roc_auc=(train=0.983, test=0.990), total=   0.1s\n",
      "{'svm__C': 1.0, 'svm__degree': 3, 'svm__gamma': 'auto', 'svm__kernel': 'rbf'}\n"
     ]
    },
    {
     "name": "stderr",
     "output_type": "stream",
     "text": [
      "[Parallel(n_jobs=1)]: Done 240 out of 240 | elapsed:  1.6min finished\n"
     ]
    }
   ],
   "source": [
    "from sklearn.svm import SVC\n",
    "svc = SVC(probability=True)\n",
    "C = np.array([0.001, 0.01, 1, 10, 100, 1000])\n",
    "pipe = Pipeline(steps=[('svm', svc)])\n",
    "svm_nonlin = GridSearchCV(estimator=pipe,\n",
    "             param_grid={'svm__kernel':['rbf','poly'], 'svm__C':C, 'svm__degree':[3], 'svm__gamma':['auto','scale']},\n",
    "             scoring=['accuracy','f1','precision','recall','roc_auc'], \n",
    "             cv=skf, refit='roc_auc', verbose=3, return_train_score=True)\n",
    "svm_nonlin.fit(X_train, Y_train)\n",
    "best_svm_nonlin = svm_nonlin.best_estimator_\n",
    "print(svm_nonlin.best_params_)"
   ]
  },
  {
   "cell_type": "markdown",
   "metadata": {},
   "source": [
    "5.b evaluation metrics for both model "
   ]
  },
  {
   "cell_type": "code",
   "execution_count": 18,
   "metadata": {},
   "outputs": [
    {
     "name": "stdout",
     "output_type": "stream",
     "text": [
      "train loss is 0.15\n",
      "test loss is 0.27\n"
     ]
    }
   ],
   "source": [
    "from sklearn.metrics import log_loss\n",
    "best_log_reg.fit(X_train,Y_train)\n",
    "y_pred_train = best_log_reg.predict_proba(X_train)\n",
    "y_pred_test = best_log_reg.predict_proba(X_test)\n",
    "print(\"train loss is {:.2f}\".format(log_loss(Y_train,y_pred_train)))\n",
    "print(\"test loss is {:.2f}\".format(log_loss(Y_test,y_pred_test)))"
   ]
  },
  {
   "cell_type": "code",
   "execution_count": 15,
   "metadata": {},
   "outputs": [
    {
     "data": {
      "image/png": "[encoded data removed]",
      "text/plain": [
       "<Figure size 432x288 with 2 Axes>"
      ]
     },
     "metadata": {
      "needs_background": "light"
     },
     "output_type": "display_data"
    },
    {
     "name": "stdout",
     "output_type": "stream",
     "text": [
      "Sensitivity is 0.92. Specificity is 0.85. PPV is 0.91. NPV is 0.88. Accuracy is 0.90. F1 is 0.91. \n",
      "AUROC is 0.95\n"
     ]
    }
   ],
   "source": [
    "from Classifier import plot_evel\n",
    "plot_evel(best_log_reg,X_test,Y_test)"
   ]
  },
  {
   "cell_type": "code",
   "execution_count": 19,
   "metadata": {},
   "outputs": [
    {
     "name": "stdout",
     "output_type": "stream",
     "text": [
      "train loss is 0.13\n",
      "test loss is 0.19\n"
     ]
    }
   ],
   "source": [
    "from sklearn.metrics import hinge_loss\n",
    "best_svm_nonlin.fit(X_train,Y_train)\n",
    "y_pred_train = best_svm_nonlin.decision_function(X_train)\n",
    "y_pred_test = best_svm_nonlin.decision_function(X_test)\n",
    "print(\"train loss is {:.2f}\".format(hinge_loss(Y_train,y_pred_train)))\n",
    "print(\"test loss is {:.2f}\".format(hinge_loss(Y_test,y_pred_test)))"
   ]
  },
  {
   "cell_type": "code",
   "execution_count": 20,
   "metadata": {},
   "outputs": [
    {
     "data": {
      "image/png": "[encoded data removed]",
      "text/plain": [
       "<Figure size 432x288 with 2 Axes>"
      ]
     },
     "metadata": {
      "needs_background": "light"
     },
     "output_type": "display_data"
    },
    {
     "name": "stdout",
     "output_type": "stream",
     "text": [
      "Sensitivity is 0.94. Specificity is 0.95. PPV is 0.97. NPV is 0.91. Accuracy is 0.94. F1 is 0.95. \n",
      "AUROC is 0.99\n"
     ]
    }
   ],
   "source": [
    "plot_evel(best_svm_nonlin,X_test,Y_test)"
   ]
  },
  {
   "cell_type": "markdown",
   "metadata": {},
   "source": [
    "5.c the non-linear model preformed better....."
   ]
  },
  {
   "cell_type": "markdown",
   "metadata": {},
   "source": [
    "# sec 6"
   ]
  },
  {
   "cell_type": "code",
   "execution_count": 25,
   "metadata": {},
   "outputs": [
    {
     "data": {
      "text/plain": [
       "RandomForestClassifier(n_estimators=10)"
      ]
     },
     "execution_count": 25,
     "metadata": {},
     "output_type": "execute_result"
    }
   ],
   "source": [
    "from sklearn.ensemble import RandomForestClassifier as rfc\n",
    "import matplotlib\n",
    "#Load boston housing dataset as an example\n",
    "names = list(X_train.columns)\n",
    "clf = rfc(n_estimators=10)\n",
    "clf.fit(X_train, Y_train)"
   ]
  },
  {
   "cell_type": "code",
   "execution_count": 26,
   "metadata": {},
   "outputs": [
    {
     "data": {
      "text/plain": [
       "[Text(0, 0, 'Age'),\n",
       " Text(1, 0, 'Gender_Female'),\n",
       " Text(2, 0, 'Gender_Male'),\n",
       " Text(3, 0, 'Increased Urination_No'),\n",
       " Text(4, 0, 'Increased Urination_Yes'),\n",
       " Text(5, 0, 'Increased Thirst_No'),\n",
       " Text(6, 0, 'Increased Thirst_Yes'),\n",
       " Text(7, 0, 'Sudden Weight Loss_No'),\n",
       " Text(8, 0, 'Sudden Weight Loss_Yes'),\n",
       " Text(9, 0, 'Weakness_No'),\n",
       " Text(10, 0, 'Weakness_Yes'),\n",
       " Text(11, 0, 'Increased Hunger_No'),\n",
       " Text(12, 0, 'Increased Hunger_Yes'),\n",
       " Text(13, 0, 'Genital Thrush_No'),\n",
       " Text(14, 0, 'Genital Thrush_Yes'),\n",
       " Text(15, 0, 'Visual Blurring_No'),\n",
       " Text(16, 0, 'Visual Blurring_Yes'),\n",
       " Text(17, 0, 'Itching_No'),\n",
       " Text(18, 0, 'Itching_Yes'),\n",
       " Text(19, 0, 'Irritability_No'),\n",
       " Text(20, 0, 'Irritability_Yes'),\n",
       " Text(21, 0, 'Delayed Healing_No'),\n",
       " Text(22, 0, 'Delayed Healing_Yes'),\n",
       " Text(23, 0, 'Partial Paresis_No'),\n",
       " Text(24, 0, 'Partial Paresis_Yes'),\n",
       " Text(25, 0, 'Muscle Stiffness_No'),\n",
       " Text(26, 0, 'Muscle Stiffness_Yes'),\n",
       " Text(27, 0, 'Hair Loss_No'),\n",
       " Text(28, 0, 'Hair Loss_Yes'),\n",
       " Text(29, 0, 'Obesity_No'),\n",
       " Text(30, 0, 'Obesity_Yes'),\n",
       " Text(31, 0, 'Family History_0'),\n",
       " Text(32, 0, 'Family History_1')]"
      ]
     },
     "execution_count": 26,
     "metadata": {},
     "output_type": "execute_result"
    },
    {
     "data": {
      "text/plain": [
       "<Figure size 1008x720 with 0 Axes>"
      ]
     },
     "metadata": {},
     "output_type": "display_data"
    },
    {
     "data": {
      "image/png": "[encoded data removed]",
      "text/plain": [
       "<Figure size 432x288 with 1 Axes>"
      ]
     },
     "metadata": {
      "needs_background": "light"
     },
     "output_type": "display_data"
    }
   ],
   "source": [
    "plt.figure(figsize=(14, 10))\n",
    "matplotlib.rcParams.update({'font.size': 8})\n",
    "feature_importances = pd.DataFrame(clf.feature_importances_)\n",
    "\n",
    "ax = feature_importances.plot(kind='bar')\n",
    "ax.set_title('feature importances')\n",
    "ax.set_xlabel('feature')\n",
    "ax.set_ylabel('importances')\n",
    "ax.set_xticklabels(names)"
   ]
  },
  {
   "cell_type": "markdown",
   "metadata": {},
   "source": [
    "6.a.1 the most importent features are increased thirst and increased urination..."
   ]
  },
  {
   "cell_type": "markdown",
   "metadata": {},
   "source": [
    "6.a.2..."
   ]
  },
  {
   "cell_type": "markdown",
   "metadata": {},
   "source": [
    "# sec 7"
   ]
  },
  {
   "cell_type": "markdown",
   "metadata": {},
   "source": [
    "a. dimensionality reduction with PCA "
   ]
  },
  {
   "cell_type": "code",
   "execution_count": 28,
   "metadata": {},
   "outputs": [],
   "source": [
    "from sklearn.decomposition import PCA\n",
    "n_components = 2\n",
    "pca = PCA(n_components=n_components, whiten=True)\n",
    "X_train_pca = pca.fit_transform(X_train)\n",
    "X_test_pca = pca.transform(X_test)"
   ]
  },
  {
   "cell_type": "code",
   "execution_count": 29,
   "metadata": {},
   "outputs": [],
   "source": [
    "def plt_2d_pca(X_pca,y):\n",
    "    fig = plt.figure(figsize=(8, 8))\n",
    "    ax = fig.add_subplot(111, aspect='equal')\n",
    "    ax.scatter(X_pca[y==0, 0], X_pca[y==0, 1], color='b')\n",
    "    ax.scatter(X_pca[y==1, 0], X_pca[y==1, 1], color='r')\n",
    "    ax.legend(('B','M'))\n",
    "    ax.plot([0], [0], \"ko\")\n",
    "    ax.arrow(0, 0, 0, 1, head_width=0.05, length_includes_head=True, head_length=0.1, fc='k', ec='k')\n",
    "    ax.arrow(0, 0, 1, 0, head_width=0.05, length_includes_head=True, head_length=0.1, fc='k', ec='k')\n",
    "    ax.set_xlabel('$U_1$')\n",
    "    ax.set_ylabel('$U_2$')\n",
    "    ax.set_title('2D PCA')"
   ]
  },
  {
   "cell_type": "code",
   "execution_count": 30,
   "metadata": {},
   "outputs": [
    {
     "data": {
      "image/png": "[encoded data removed]",
      "text/plain": [
       "<Figure size 576x576 with 1 Axes>"
      ]
     },
     "metadata": {
      "needs_background": "light"
     },
     "output_type": "display_data"
    }
   ],
   "source": [
    "plt_2d_pca(X_test_pca,Y_test)"
   ]
  },
  {
   "cell_type": "markdown",
   "metadata": {},
   "source": [
    "b. Overall we can distinguish between area were each label is more common. However there are areas where data separation is not so straightforward"
   ]
  },
  {
   "cell_type": "markdown",
   "metadata": {},
   "source": [
    "C. trainig non linear svm and logistic regression with dimension reduced dataset "
   ]
  },
  {
   "cell_type": "code",
   "execution_count": 31,
   "metadata": {},
   "outputs": [
    {
     "name": "stdout",
     "output_type": "stream",
     "text": [
      "The score on the test set with PCA preprocessing is 0.79\n"
     ]
    }
   ],
   "source": [
    "pipe_pca = Pipeline(steps=[('scale', StandardScaler()),('pca', pca), ('logistic', best_log_reg)])\n",
    "pipe_pca.fit(X_train, Y_train)\n",
    "print('The score on the test set with PCA preprocessing is {:.2f}'.format(pipe_pca.score(X_test,Y_test)))"
   ]
  },
  {
   "cell_type": "code",
   "execution_count": 32,
   "metadata": {},
   "outputs": [
    {
     "data": {
      "image/png": "[encoded data removed]",
      "text/plain": [
       "<Figure size 432x288 with 2 Axes>"
      ]
     },
     "metadata": {
      "needs_background": "light"
     },
     "output_type": "display_data"
    },
    {
     "name": "stdout",
     "output_type": "stream",
     "text": [
      "Sensitivity is 0.86. Specificity is 0.68. PPV is 0.81. NPV is 0.76. Accuracy is 0.79. F1 is 0.83. \n",
      "AUROC is 0.90\n"
     ]
    }
   ],
   "source": [
    "plot_evel(pipe_pca,X_test,Y_test)"
   ]
  },
  {
   "cell_type": "code",
   "execution_count": 33,
   "metadata": {},
   "outputs": [
    {
     "name": "stdout",
     "output_type": "stream",
     "text": [
      "The score on the test set with PCA preprocessing is 0.83\n"
     ]
    }
   ],
   "source": [
    "pipe_pca_svm = Pipeline(steps=[('scale', StandardScaler()),('pca', pca), ('svm', best_svm_nonlin)])\n",
    "pipe_pca_svm.fit(X_train, Y_train)\n",
    "print('The score on the test set with PCA preprocessing is {:.2f}'.format(pipe_pca_svm.score(X_test,Y_test)))"
   ]
  },
  {
   "cell_type": "code",
   "execution_count": 34,
   "metadata": {},
   "outputs": [
    {
     "data": {
      "image/png": "[encoded data removed]",
      "text/plain": [
       "<Figure size 432x288 with 2 Axes>"
      ]
     },
     "metadata": {
      "needs_background": "light"
     },
     "output_type": "display_data"
    },
    {
     "name": "stdout",
     "output_type": "stream",
     "text": [
      "Sensitivity is 0.86. Specificity is 0.78. PPV is 0.86. NPV is 0.78. Accuracy is 0.83. F1 is 0.86. \n",
      "AUROC is 0.93\n"
     ]
    }
   ],
   "source": [
    "plot_evel(pipe_pca_svm,X_test,Y_test)"
   ]
  },
  {
   "cell_type": "markdown",
   "metadata": {},
   "source": [
    "d. trainig non linear svm and logistic regression on reduced data set wich include only the two most importent feat as was calculted in sec 6"
   ]
  },
  {
   "cell_type": "code",
   "execution_count": 35,
   "metadata": {},
   "outputs": [],
   "source": [
    "cols =['Increased Thirst_Yes', 'Increased Urination_Yes']\n",
    "X_train_two_feat = X_train[cols]\n",
    "X_test_two_feat = X_test[cols]"
   ]
  },
  {
   "cell_type": "code",
   "execution_count": 36,
   "metadata": {},
   "outputs": [
    {
     "data": {
      "image/png": "[encoded data removed]",
      "text/plain": [
       "<Figure size 432x288 with 2 Axes>"
      ]
     },
     "metadata": {
      "needs_background": "light"
     },
     "output_type": "display_data"
    },
    {
     "name": "stdout",
     "output_type": "stream",
     "text": [
      "Sensitivity is 0.83. Specificity is 0.85. PPV is 0.90. NPV is 0.76. Accuracy is 0.84. F1 is 0.86. \n",
      "AUROC is 0.88\n"
     ]
    }
   ],
   "source": [
    "best_log_reg.fit(X_train_two_feat,Y_train)\n",
    "plot_evel(best_log_reg,X_test_two_feat,Y_test)"
   ]
  },
  {
   "cell_type": "code",
   "execution_count": 100,
   "metadata": {},
   "outputs": [
    {
     "data": {
      "image/png": "[encoded data removed]",
      "text/plain": [
       "<Figure size 432x288 with 2 Axes>"
      ]
     },
     "metadata": {
      "needs_background": "light"
     },
     "output_type": "display_data"
    },
    {
     "name": "stdout",
     "output_type": "stream",
     "text": [
      "Sensitivity is 0.83. Specificity is 0.85. PPV is 0.90. NPV is 0.76. Accuracy is 0.84. F1 is 0.86. \n",
      "AUROC is 0.88\n"
     ]
    }
   ],
   "source": [
    "best_svm_nonlin.fit(X_train_two_feat,Y_train)\n",
    "plot_evel(best_svm_nonlin,X_test_two_feat,Y_test)"
   ]
  },
  {
   "cell_type": "markdown",
   "metadata": {},
   "source": [
    "e. 2 feat preform better with the logistic regression model. the non-linear svm model preformem the same on the 2 feat and on the dimension reduced dataset"
   ]
  }
 ],
 "metadata": {
  "kernelspec": {
   "display_name": "Python 3",
   "language": "python",
   "name": "python3"
  },
  "language_info": {
   "codemirror_mode": {
    "name": "ipython",
    "version": 3
   },
   "file_extension": ".py",
   "mimetype": "text/x-python",
   "name": "python",
   "nbconvert_exporter": "python",
   "pygments_lexer": "ipython3",
   "version": "3.7.9"
  }
 },
 "nbformat": 4,
 "nbformat_minor": 4
}
